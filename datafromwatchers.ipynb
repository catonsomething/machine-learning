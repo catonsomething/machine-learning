{
 "cells": [
  {
   "cell_type": "markdown",
   "metadata": {},
   "source": [
    "# 機械学習用日本語テキストデータ\n",
    "## 機械学習用日本語テキストデータ\n",
    "どこかにあるのかもしれないが、あまりなさそうなので自分でどうにかしてみる。\n",
    "\n",
    "既に誰かが着手済みかもしれないが、[景気ウォッチャー調査][1]の「景気判断理由集（現状）」と「景気判断理由集（先行き）」を機械学習で扱いやすいように処理してみる。\n",
    "\n",
    "## 景気判断理由集について\n",
    "上記URLを見てもらえば直ぐに分かって頂けるが、\n",
    "- 「景気判断理由集（現状）」と「景気判断理由集（先行き）」の2種類の情報が共にCSVファイルで提供されている\n",
    "- 平成25年1月からのデータが毎月提供されている\n",
    "- 基本は各月現状と先行きの2つのCSVファイルだが、年によっては別掲がある。この場合、現状と先行きの別掲が2つのCSVファイルで提供されている。\n",
    "    - 基本は現状が*4.csv、先行きが*5.csv\n",
    "    - 別掲は現状が*6.csv, 先行きが*7.csv\n",
    "- 「景気判断理由集（現状）」では、以下の4カラムが使える\n",
    "    - 景気の現状判断\t\n",
    "    - 業種・職種\n",
    "    - 判断の理由\t\n",
    "    - 追加説明及び具体的状況の説明\n",
    "- 「景気判断理由集（先行き）」は以下の3カラム\n",
    "    - 景気の先行き判断\t\n",
    "    - 業種・職種\t\n",
    "    - 景気の先行きに対する判断理由\n",
    "- 「追加説明及び具体的状況の説明」と「景気の先行きに対する判断理由」が文章になっている。Xとして使える。\n",
    "- 「景気の現状判断」と「景気の先行き判断」は共に5段階評価となっている。yとして使える。\n",
    "- また、「現状」の「判断の理由」は「追加説明及び具体的状況の説明」の判断理由(短い文章)となっている。これもyとして使える。\n",
    "- コードはShift-JISで、フォーマットはCSVだが、「開けた途端に悲しくなるフォーマット」になっている。\n",
    "- 現状の基本(*4.csv)と別掲(*6.csv)はフォーマットが異なっている。更に、先行きの基本(*5.csv)と別掲(*7.csv)もフォーマットが異なる。別掲はデータ数が少ないので対象外とする。\n",
    "\n",
    "## 懸念事項\n",
    "1. 重複と文章の長さ \n",
    "判断理由のテキストの数量は平成29年1月調査分で現状、先行き共に1000を越える。しかし、短い文もあり、重複しているかもしれない。  \n",
    "\n",
    "## ストップワード \n",
    "ストップワードは、SlothLibのものを使わせていただいた。\n",
    "ストップワードは、[SlothLib][2]の[もの][3]を使わせていただいた。  \n",
    "\n",
    "\n",
    "[1]: http://www5.cao.go.jp/keizai3/watcher_index.html\n",
    "[2]: http://www.dl.kuis.kyoto-u.ac.jp/slothlib/\n",
    "[3]: http://svn.sourceforge.jp/svnroot/slothlib/CSharp/Version1/SlothLib/NLP/Filter/StopWord/word/Japanese.txt"
   ]
  },
  {
   "cell_type": "markdown",
   "metadata": {},
   "source": [
    "# 初期設定"
   ]
  },
  {
   "cell_type": "code",
   "execution_count": 1,
   "metadata": {
    "ExecuteTime": {
     "end_time": "2018-09-15T07:03:48.380883Z",
     "start_time": "2018-09-15T07:03:47.708220Z"
    }
   },
   "outputs": [],
   "source": [
    "import pandas as pd\n",
    "import sys\n",
    "import CaboCha\n",
    "import os\n",
    "import seaborn as sns\n",
    "from urllib.error import HTTPError\n",
    "import pickle\n",
    "import unicodedata\n",
    "import re\n",
    "\n",
    "sswords_file = \"./stopwords.txt\" # from SlothLib\n",
    "data_dir = \"./watchers/\"\n",
    "# log_dir = \"./watchers.log/\"\n",
    "pickle_file0 = \"./watchers-dfs.pickel\"\n",
    "pickle_file1 = \"./watchers.pickel\"\n",
    "\n",
    "cols_for_four=[\"eval\",\"ind\",\"reasons\",\"txt\"]\n",
    "cols_for_five=cols_for_four[:]\n",
    "del cols_for_five[2]\n",
    "\n",
    "# NUM_TO_IGNORE = 1"
   ]
  },
  {
   "cell_type": "markdown",
   "metadata": {},
   "source": [
    "cols_for_fiveを確認"
   ]
  },
  {
   "cell_type": "code",
   "execution_count": 2,
   "metadata": {
    "ExecuteTime": {
     "end_time": "2018-09-15T07:03:50.025464Z",
     "start_time": "2018-09-15T07:03:49.997520Z"
    }
   },
   "outputs": [
    {
     "data": {
      "text/plain": [
       "['eval', 'ind', 'txt']"
      ]
     },
     "execution_count": 2,
     "metadata": {},
     "output_type": "execute_result"
    }
   ],
   "source": [
    "cols_for_five"
   ]
  },
  {
   "cell_type": "code",
   "execution_count": 3,
   "metadata": {
    "ExecuteTime": {
     "end_time": "2018-09-15T07:03:50.957331Z",
     "start_time": "2018-09-15T07:03:50.913375Z"
    }
   },
   "outputs": [],
   "source": [
    "def initialize_df():\n",
    "#     _df4 = pd.DataFrame(index=[], columns=[\"eval\",\"ind\",\"reasons\",\"txt\"])\n",
    "#     _df5 = pd.DataFrame(index=[], columns=[\"eval\",\"ind\",\"txt\"])\n",
    "    _df4 = pd.DataFrame(index=[], columns=cols_for_four)\n",
    "    _df5 = pd.DataFrame(index=[], columns=cols_for_five)\n",
    "    return _df4, _df5\n",
    "\n",
    "df4, df5 = initialize_df()"
   ]
  },
  {
   "cell_type": "code",
   "execution_count": 4,
   "metadata": {
    "ExecuteTime": {
     "end_time": "2018-09-15T07:03:51.895900Z",
     "start_time": "2018-09-15T07:03:51.872428Z"
    }
   },
   "outputs": [
    {
     "name": "stdout",
     "output_type": "stream",
     "text": [
      "Empty DataFrame\n",
      "Columns: [eval, ind, reasons, txt]\n",
      "Index: []\n",
      "Empty DataFrame\n",
      "Columns: [eval, ind, txt]\n",
      "Index: []\n"
     ]
    }
   ],
   "source": [
    "print(\"{}\\n{}\".format(df4,df5))"
   ]
  },
  {
   "cell_type": "markdown",
   "metadata": {},
   "source": [
    "# ファイルのダウンロード\n",
    "一つ下のセルはプログラム作成初期のもの。ファイルを1つだけダウンロード。二つ下のセルは複数ファイルダウンロード版。"
   ]
  },
  {
   "cell_type": "code",
   "execution_count": 7,
   "metadata": {
    "ExecuteTime": {
     "end_time": "2018-08-28T14:33:14.869138Z",
     "start_time": "2018-08-28T14:33:14.855948Z"
    }
   },
   "outputs": [],
   "source": [
    "# import urllib.request\n",
    "# urlwatcher=\"http://www5.cao.go.jp/keizai3/2018/0208watcher/watcher5.csv\"\n",
    "# fneles=urlwatcher.split(\"/\") # file name elements\n",
    "# fn=\"./watchers/\" + fneles[4] + fneles[5][0:4] + \".\" +fneles[6]\n",
    "# urllib.request.urlretrieve(urlwatcher,fn)"
   ]
  },
  {
   "cell_type": "code",
   "execution_count": 5,
   "metadata": {
    "ExecuteTime": {
     "end_time": "2018-09-15T06:39:08.928715Z",
     "start_time": "2018-09-15T06:38:40.897043Z"
    }
   },
   "outputs": [],
   "source": [
    "# import urllib.request\n",
    "# # urlwatchers = [ \n",
    "# #     \"http://www5.cao.go.jp/keizai3/2018/0308watcher/watcher4.csv\",\n",
    "# #     \"http://www5.cao.go.jp/keizai3/2018/0308watcher/watcher5.csv\"\n",
    "# #     ]\n",
    "# urlwatchers = [ # as of 2018/08/23\n",
    "#     \"http://www5.cao.go.jp/keizai3/2018/0208watcher/watcher4.csv\",\n",
    "#     \"http://www5.cao.go.jp/keizai3/2018/0208watcher/watcher5.csv\",\n",
    "#     \"http://www5.cao.go.jp/keizai3/2018/0308watcher/watcher4.csv\",\n",
    "#     \"http://www5.cao.go.jp/keizai3/2018/0308watcher/watcher5.csv\",\n",
    "#     \"http://www5.cao.go.jp/keizai3/2018/0409watcher/watcher4.csv\",\n",
    "#     \"http://www5.cao.go.jp/keizai3/2018/0409watcher/watcher5.csv\",\n",
    "#     \"http://www5.cao.go.jp/keizai3/2018/0510watcher/watcher4.csv\",\n",
    "#     \"http://www5.cao.go.jp/keizai3/2018/0510watcher/watcher5.csv\",\n",
    "#     \"http://www5.cao.go.jp/keizai3/2018/0608watcher/watcher4.csv\",\n",
    "#     \"http://www5.cao.go.jp/keizai3/2018/0608watcher/watcher5.csv\",\n",
    "#     \"http://www5.cao.go.jp/keizai3/2018/0709watcher/watcher4.csv\",\n",
    "#     \"http://www5.cao.go.jp/keizai3/2018/0709watcher/watcher5.csv\",\n",
    "#     \"http://www5.cao.go.jp/keizai3/2018/0808watcher/watcher4.csv\",\n",
    "#     \"http://www5.cao.go.jp/keizai3/2018/0808watcher/watcher5.csv\",\n",
    "#     \"http://www5.cao.go.jp/keizai3/2017/0308watcher/watcher4.csv\",\n",
    "#     \"http://www5.cao.go.jp/keizai3/2017/0308watcher/watcher5.csv\",\n",
    "#     \"http://www5.cao.go.jp/keizai3/2017/0410watcher/watcher4.csv\",\n",
    "#     \"http://www5.cao.go.jp/keizai3/2017/0410watcher/watcher5.csv\",\n",
    "#     \"http://www5.cao.go.jp/keizai3/2017/0511watcher/watcher4.csv\",\n",
    "#     \"http://www5.cao.go.jp/keizai3/2017/0511watcher/watcher5.csv\",\n",
    "#     \"http://www5.cao.go.jp/keizai3/2017/0608watcher/watcher4.csv\",\n",
    "#     \"http://www5.cao.go.jp/keizai3/2017/0608watcher/watcher5.csv\",\n",
    "#     \"http://www5.cao.go.jp/keizai3/2017/0710watcher/watcher4.csv\",\n",
    "#     \"http://www5.cao.go.jp/keizai3/2017/0710watcher/watcher5.csv\",\n",
    "#     \"http://www5.cao.go.jp/keizai3/2017/0808watcher/watcher4.csv\",\n",
    "#     \"http://www5.cao.go.jp/keizai3/2017/0808watcher/watcher5.csv\",\n",
    "#     \"http://www5.cao.go.jp/keizai3/2017/0908watcher/watcher4.csv\",\n",
    "#     \"http://www5.cao.go.jp/keizai3/2017/0908watcher/watcher5.csv\",\n",
    "#     \"http://www5.cao.go.jp/keizai3/2017/1010watcher/watcher4.csv\",\n",
    "#     \"http://www5.cao.go.jp/keizai3/2017/1010watcher/watcher5.csv\",\n",
    "#     \"http://www5.cao.go.jp/keizai3/2017/1109watcher/watcher4.csv\",\n",
    "#     \"http://www5.cao.go.jp/keizai3/2017/1109watcher/watcher5.csv\",\n",
    "#     \"http://www5.cao.go.jp/keizai3/2017/1208watcher/watcher4.csv\",\n",
    "#     \"http://www5.cao.go.jp/keizai3/2017/1208watcher/watcher5.csv\",\n",
    "#     \"http://www5.cao.go.jp/keizai3/2018/0112watcher/watcher4.csv\",\n",
    "#     \"http://www5.cao.go.jp/keizai3/2018/0112watcher/watcher5.csv\",\n",
    "#     \"http://www5.cao.go.jp/keizai3/2016/0208watcher/watcher4.csv\",\n",
    "#     \"http://www5.cao.go.jp/keizai3/2016/0208watcher/watcher5.csv\",\n",
    "#     \"http://www5.cao.go.jp/keizai3/2016/0308watcher/watcher4.csv\",\n",
    "#     \"http://www5.cao.go.jp/keizai3/2016/0308watcher/watcher5.csv\",\n",
    "#     \"http://www5.cao.go.jp/keizai3/2016/0408watcher/watcher4.csv\",\n",
    "#     \"http://www5.cao.go.jp/keizai3/2016/0408watcher/watcher5.csv\",\n",
    "#     \"http://www5.cao.go.jp/keizai3/2016/0512watcher/watcher4.csv\",\n",
    "#     \"http://www5.cao.go.jp/keizai3/2016/0512watcher/watcher5.csv\",\n",
    "#     \"http://www5.cao.go.jp/keizai3/2016/0608watcher/watcher4.csv\",\n",
    "#     \"http://www5.cao.go.jp/keizai3/2016/0608watcher/watcher5.csv\",\n",
    "#     \"http://www5.cao.go.jp/keizai3/2016/0708watcher/watcher4.csv\",\n",
    "#     \"http://www5.cao.go.jp/keizai3/2016/0708watcher/watcher5.csv\",\n",
    "#     \"http://www5.cao.go.jp/keizai3/2016/0808watcher/watcher4.csv\",\n",
    "#     \"http://www5.cao.go.jp/keizai3/2016/0808watcher/watcher5.csv\",\n",
    "#     \"http://www5.cao.go.jp/keizai3/2016/0908watcher/watcher4.csv\",\n",
    "#     \"http://www5.cao.go.jp/keizai3/2016/0908watcher/watcher5.csv\",\n",
    "#     \"http://www5.cao.go.jp/keizai3/2016/1011watcher/watcher4.csv\",\n",
    "#     \"http://www5.cao.go.jp/keizai3/2016/1011watcher/watcher5.csv\",\n",
    "#     \"http://www5.cao.go.jp/keizai3/2016/1109watcher/watcher4.csv\",\n",
    "#     \"http://www5.cao.go.jp/keizai3/2016/1109watcher/watcher5.csv\",\n",
    "#     \"http://www5.cao.go.jp/keizai3/2016/1208watcher/watcher4.csv\",\n",
    "#     \"http://www5.cao.go.jp/keizai3/2016/1208watcher/watcher5.csv\",\n",
    "#     \"http://www5.cao.go.jp/keizai3/2017/0112watcher/watcher4.csv\",\n",
    "#     \"http://www5.cao.go.jp/keizai3/2017/0112watcher/watcher5.csv\",\n",
    "#     \"http://www5.cao.go.jp/keizai3/2015/0209watcher/watcher4.csv\",\n",
    "#     \"http://www5.cao.go.jp/keizai3/2015/0209watcher/watcher5.csv\",\n",
    "#     \"http://www5.cao.go.jp/keizai3/2015/0309watcher/watcher4.csv\",\n",
    "#     \"http://www5.cao.go.jp/keizai3/2015/0309watcher/watcher5.csv\",\n",
    "#     \"http://www5.cao.go.jp/keizai3/2015/0408watcher/watcher4.csv\",\n",
    "#     \"http://www5.cao.go.jp/keizai3/2015/0408watcher/watcher5.csv\",\n",
    "#     \"http://www5.cao.go.jp/keizai3/2015/0513watcher/watcher4.csv\",\n",
    "#     \"http://www5.cao.go.jp/keizai3/2015/0513watcher/watcher5.csv\",\n",
    "#     \"http://www5.cao.go.jp/keizai3/2015/0608watcher/watcher4.csv\",\n",
    "#     \"http://www5.cao.go.jp/keizai3/2015/0608watcher/watcher5.csv\",\n",
    "#     \"http://www5.cao.go.jp/keizai3/2015/0708watcher/watcher4.csv\",\n",
    "#     \"http://www5.cao.go.jp/keizai3/2015/0708watcher/watcher5.csv\",\n",
    "#     \"http://www5.cao.go.jp/keizai3/2015/0810watcher/watcher4.csv\",\n",
    "#     \"http://www5.cao.go.jp/keizai3/2015/0810watcher/watcher5.csv\",\n",
    "#     \"http://www5.cao.go.jp/keizai3/2015/0908watcher/watcher4.csv\",\n",
    "#     \"http://www5.cao.go.jp/keizai3/2015/0908watcher/watcher5.csv\",\n",
    "#     \"http://www5.cao.go.jp/keizai3/2015/1008watcher/watcher4.csv\",\n",
    "#     \"http://www5.cao.go.jp/keizai3/2015/1008watcher/watcher5.csv\",\n",
    "#     \"http://www5.cao.go.jp/keizai3/2015/1110watcher/watcher4.csv\",\n",
    "#     \"http://www5.cao.go.jp/keizai3/2015/1110watcher/watcher5.csv\",\n",
    "#     \"http://www5.cao.go.jp/keizai3/2015/1208watcher/watcher4.csv\",\n",
    "#     \"http://www5.cao.go.jp/keizai3/2015/1208watcher/watcher5.csv\",\n",
    "#     \"http://www5.cao.go.jp/keizai3/2016/0112watcher/watcher4.csv\",\n",
    "#     \"http://www5.cao.go.jp/keizai3/2016/0112watcher/watcher5.csv\",\n",
    "#     \"http://www5.cao.go.jp/keizai3/2014/0210watcher/watcher4.csv\",\n",
    "#     \"http://www5.cao.go.jp/keizai3/2014/0210watcher/watcher5.csv\",\n",
    "#     \"http://www5.cao.go.jp/keizai3/2014/0310watcher/watcher4.csv\",\n",
    "#     \"http://www5.cao.go.jp/keizai3/2014/0310watcher/watcher5.csv\",\n",
    "#     \"http://www5.cao.go.jp/keizai3/2014/0408watcher/watcher4.csv\",\n",
    "#     \"http://www5.cao.go.jp/keizai3/2014/0408watcher/watcher5.csv\",\n",
    "#     \"http://www5.cao.go.jp/keizai3/2014/0512watcher/watcher4.csv\",\n",
    "#     \"http://www5.cao.go.jp/keizai3/2014/0512watcher/watcher5.csv\",\n",
    "#     \"http://www5.cao.go.jp/keizai3/2014/0609watcher/watcher4.csv\",\n",
    "#     \"http://www5.cao.go.jp/keizai3/2014/0609watcher/watcher5.csv\",\n",
    "#     \"http://www5.cao.go.jp/keizai3/2014/0708watcher/watcher4.csv\",\n",
    "#     \"http://www5.cao.go.jp/keizai3/2014/0708watcher/watcher5.csv\",\n",
    "#     \"http://www5.cao.go.jp/keizai3/2014/0808watcher/watcher4.csv\",\n",
    "#     \"http://www5.cao.go.jp/keizai3/2014/0808watcher/watcher5.csv\",\n",
    "#     \"http://www5.cao.go.jp/keizai3/2014/0908watcher/watcher4.csv\",\n",
    "#     \"http://www5.cao.go.jp/keizai3/2014/0908watcher/watcher5.csv\",\n",
    "#     \"http://www5.cao.go.jp/keizai3/2014/1008watcher/watcher4.csv\",\n",
    "#     \"http://www5.cao.go.jp/keizai3/2014/1008watcher/watcher5.csv\",\n",
    "#     \"http://www5.cao.go.jp/keizai3/2014/1111watcher/watcher4.csv\",\n",
    "#     \"http://www5.cao.go.jp/keizai3/2014/1111watcher/watcher5.csv\",\n",
    "#     \"http://www5.cao.go.jp/keizai3/2014/1208watcher/watcher4.csv\",\n",
    "#     \"http://www5.cao.go.jp/keizai3/2014/1208watcher/watcher5.csv\",\n",
    "#     \"http://www5.cao.go.jp/keizai3/2015/0113watcher/watcher4.csv\",\n",
    "#     \"http://www5.cao.go.jp/keizai3/2015/0113watcher/watcher5.csv\",\n",
    "#     \"http://www5.cao.go.jp/keizai3/2013/0208watcher/watcher4.csv\",\n",
    "#     \"http://www5.cao.go.jp/keizai3/2013/0208watcher/watcher5.csv\",\n",
    "#     \"http://www5.cao.go.jp/keizai3/2013/0308watcher/watcher4.csv\",\n",
    "#     \"http://www5.cao.go.jp/keizai3/2013/0308watcher/watcher5.csv\",\n",
    "#     \"http://www5.cao.go.jp/keizai3/2013/0408watcher/watcher4.csv\",\n",
    "#     \"http://www5.cao.go.jp/keizai3/2013/0408watcher/watcher5.csv\",\n",
    "#     \"http://www5.cao.go.jp/keizai3/2013/0510watcher/watcher4.csv\",\n",
    "#     \"http://www5.cao.go.jp/keizai3/2013/0510watcher/watcher5.csv\",\n",
    "#     \"http://www5.cao.go.jp/keizai3/2013/0610watcher/watcher4.csv\",\n",
    "#     \"http://www5.cao.go.jp/keizai3/2013/0610watcher/watcher5.csv\",\n",
    "#     \"http://www5.cao.go.jp/keizai3/2013/0708watcher/watcher4.csv\",\n",
    "#     \"http://www5.cao.go.jp/keizai3/2013/0708watcher/watcher5.csv\",\n",
    "#     \"http://www5.cao.go.jp/keizai3/2013/0808watcher/watcher4.csv\",\n",
    "#     \"http://www5.cao.go.jp/keizai3/2013/0808watcher/watcher5.csv\",\n",
    "#     \"http://www5.cao.go.jp/keizai3/2013/0909watcher/watcher4.csv\",\n",
    "#     \"http://www5.cao.go.jp/keizai3/2013/0909watcher/watcher5.csv\",\n",
    "#     \"http://www5.cao.go.jp/keizai3/2013/1008watcher/watcher4.csv\",\n",
    "#     \"http://www5.cao.go.jp/keizai3/2013/1008watcher/watcher5.csv\",\n",
    "#     \"http://www5.cao.go.jp/keizai3/2013/1111watcher/watcher4.csv\",\n",
    "#     \"http://www5.cao.go.jp/keizai3/2013/1111watcher/watcher5.csv\",\n",
    "#     \"http://www5.cao.go.jp/keizai3/2013/1209watcher/watcher4.csv\",\n",
    "#     \"http://www5.cao.go.jp/keizai3/2013/1209watcher/watcher5.csv\",\n",
    "#     \"http://www5.cao.go.jp/keizai3/2014/0114watcher/watcher4.csv\",\n",
    "#     \"http://www5.cao.go.jp/keizai3/2014/0114watcher/watcher5.csv\",\n",
    "#     ]\n",
    "# for _u in urlwatchers:\n",
    "#     try:\n",
    "#         fneles=_u.split(\"/\") # file name elements\n",
    "#         fn=\"./watchers/\" + fneles[4] + fneles[5][0:4] + \".\" +fneles[6]\n",
    "#         urllib.request.urlretrieve(_u,fn)\n",
    "#     except HTTPError:\n",
    "#         print(\"error occurred when downloading {}\".format(_u))"
   ]
  },
  {
   "cell_type": "code",
   "execution_count": 9,
   "metadata": {
    "ExecuteTime": {
     "end_time": "2018-08-28T14:33:14.938532Z",
     "start_time": "2018-08-28T14:33:14.929139Z"
    }
   },
   "outputs": [],
   "source": [
    "#\n",
    "# 削除対象\n",
    "#\n",
    "# anyfiles = os.listdir(data_dir)\n",
    "# file_names = [_f for _f in anyfiles if os.path.isfile(os.path.join(data_dir, _f))]\n",
    "# file_names"
   ]
  },
  {
   "cell_type": "markdown",
   "metadata": {},
   "source": [
    "ディレクトリー(data_dir)内のファイル情報を取得とする。"
   ]
  },
  {
   "cell_type": "code",
   "execution_count": 5,
   "metadata": {
    "ExecuteTime": {
     "end_time": "2018-09-15T07:03:59.085324Z",
     "start_time": "2018-09-15T07:03:59.071947Z"
    }
   },
   "outputs": [
    {
     "data": {
      "text/plain": [
       "['./watchers/20140512.watcher4.csv',\n",
       " './watchers/20180510.watcher4.csv',\n",
       " './watchers/20130909.watcher5.csv',\n",
       " './watchers/20170908.watcher4.csv',\n",
       " './watchers/20151110.watcher4.csv',\n",
       " './watchers/20140310.watcher4.csv',\n",
       " './watchers/20160908.watcher4.csv',\n",
       " './watchers/20130308.watcher4.csv',\n",
       " './watchers/20140609.watcher4.csv',\n",
       " './watchers/20180409.watcher4.csv',\n",
       " './watchers/20160408.watcher5.csv',\n",
       " './watchers/20150513.watcher4.csv',\n",
       " './watchers/20160112.watcher5.csv',\n",
       " './watchers/20170710.watcher4.csv',\n",
       " './watchers/20170410.watcher4.csv',\n",
       " './watchers/20150810.watcher4.csv',\n",
       " './watchers/20150408.watcher5.csv',\n",
       " './watchers/20180308.watcher5.csv',\n",
       " './watchers/20150908.watcher5.csv',\n",
       " './watchers/20171208.watcher4.csv',\n",
       " './watchers/20170112.watcher4.csv',\n",
       " './watchers/20170808.watcher5.csv',\n",
       " './watchers/20180409.watcher5.csv',\n",
       " './watchers/20130208.watcher5.csv',\n",
       " './watchers/20180510.watcher5.csv',\n",
       " './watchers/20140310.watcher5.csv',\n",
       " './watchers/20141208.watcher4.csv',\n",
       " './watchers/20130708.watcher4.csv',\n",
       " './watchers/20140210.watcher5.csv',\n",
       " './watchers/20171208.watcher5.csv',\n",
       " './watchers/20141208.watcher5.csv',\n",
       " './watchers/20160112.watcher4.csv',\n",
       " './watchers/20150113.watcher5.csv',\n",
       " './watchers/20170308.watcher4.csv',\n",
       " './watchers/20150810.watcher5.csv',\n",
       " './watchers/20130510.watcher4.csv',\n",
       " './watchers/20170410.watcher5.csv',\n",
       " './watchers/20180709.watcher4.csv',\n",
       " './watchers/20130408.watcher5.csv',\n",
       " './watchers/20140512.watcher5.csv',\n",
       " './watchers/20160808.watcher5.csv',\n",
       " './watchers/20140408.watcher4.csv',\n",
       " './watchers/20160908.watcher5.csv',\n",
       " './watchers/20150608.watcher5.csv',\n",
       " './watchers/20171010.watcher4.csv',\n",
       " './watchers/20140808.watcher5.csv',\n",
       " './watchers/20151208.watcher5.csv',\n",
       " './watchers/20160208.watcher5.csv',\n",
       " './watchers/20170710.watcher5.csv',\n",
       " './watchers/20131008.watcher4.csv',\n",
       " './watchers/20130208.watcher4.csv',\n",
       " './watchers/20140908.watcher4.csv',\n",
       " './watchers/20160208.watcher4.csv',\n",
       " './watchers/20170908.watcher5.csv',\n",
       " './watchers/20140708.watcher4.csv',\n",
       " './watchers/20180112.watcher4.csv',\n",
       " './watchers/20140114.watcher4.csv',\n",
       " './watchers/20161011.watcher4.csv',\n",
       " './watchers/20150209.watcher5.csv',\n",
       " './watchers/20130308.watcher5.csv',\n",
       " './watchers/20180608.watcher4.csv',\n",
       " './watchers/20180208.watcher5.csv',\n",
       " './watchers/20180808.watcher5.csv',\n",
       " './watchers/20151008.watcher4.csv',\n",
       " './watchers/20161208.watcher5.csv',\n",
       " './watchers/20180208.watcher4.csv',\n",
       " './watchers/20150113.watcher4.csv',\n",
       " './watchers/20160708.watcher4.csv',\n",
       " './watchers/20140708.watcher5.csv',\n",
       " './watchers/20140408.watcher5.csv',\n",
       " './watchers/20160808.watcher4.csv',\n",
       " './watchers/20141111.watcher4.csv',\n",
       " './watchers/20150408.watcher4.csv',\n",
       " './watchers/20180608.watcher5.csv',\n",
       " './watchers/20150708.watcher4.csv',\n",
       " './watchers/20140114.watcher5.csv',\n",
       " './watchers/20161208.watcher4.csv',\n",
       " './watchers/20130708.watcher5.csv',\n",
       " './watchers/20150309.watcher5.csv',\n",
       " './watchers/20150513.watcher5.csv',\n",
       " './watchers/20170608.watcher5.csv',\n",
       " './watchers/20130610.watcher4.csv',\n",
       " './watchers/20140908.watcher5.csv',\n",
       " './watchers/20170511.watcher5.csv',\n",
       " './watchers/20131111.watcher4.csv',\n",
       " './watchers/20140808.watcher4.csv',\n",
       " './watchers/20160408.watcher4.csv',\n",
       " './watchers/20130510.watcher5.csv',\n",
       " './watchers/20130610.watcher5.csv',\n",
       " './watchers/20140609.watcher5.csv',\n",
       " './watchers/20150608.watcher4.csv',\n",
       " './watchers/20150908.watcher4.csv',\n",
       " './watchers/20131209.watcher4.csv',\n",
       " './watchers/20170511.watcher4.csv',\n",
       " './watchers/20150309.watcher4.csv',\n",
       " './watchers/20151208.watcher4.csv',\n",
       " './watchers/20180808.watcher4.csv',\n",
       " './watchers/20140210.watcher4.csv',\n",
       " './watchers/20160708.watcher5.csv',\n",
       " './watchers/20131008.watcher5.csv',\n",
       " './watchers/20161011.watcher5.csv',\n",
       " './watchers/20160608.watcher4.csv',\n",
       " './watchers/20161109.watcher5.csv',\n",
       " './watchers/20151110.watcher5.csv',\n",
       " './watchers/20141008.watcher5.csv',\n",
       " './watchers/20180308.watcher4.csv',\n",
       " './watchers/20131209.watcher5.csv',\n",
       " './watchers/20170808.watcher4.csv',\n",
       " './watchers/20131111.watcher5.csv',\n",
       " './watchers/20170608.watcher4.csv',\n",
       " './watchers/20171010.watcher5.csv',\n",
       " './watchers/20170112.watcher5.csv',\n",
       " './watchers/20170308.watcher5.csv',\n",
       " './watchers/20141008.watcher4.csv',\n",
       " './watchers/20180709.watcher5.csv',\n",
       " './watchers/20160308.watcher4.csv',\n",
       " './watchers/20151008.watcher5.csv',\n",
       " './watchers/20160308.watcher5.csv',\n",
       " './watchers/20160608.watcher5.csv',\n",
       " './watchers/20150209.watcher4.csv',\n",
       " './watchers/20141111.watcher5.csv',\n",
       " './watchers/20160512.watcher4.csv',\n",
       " './watchers/20171109.watcher4.csv',\n",
       " './watchers/20160512.watcher5.csv',\n",
       " './watchers/20180112.watcher5.csv',\n",
       " './watchers/20130408.watcher4.csv',\n",
       " './watchers/20171109.watcher5.csv',\n",
       " './watchers/20130808.watcher5.csv',\n",
       " './watchers/20150708.watcher5.csv',\n",
       " './watchers/20130909.watcher4.csv',\n",
       " './watchers/20161109.watcher4.csv',\n",
       " './watchers/20130808.watcher4.csv']"
      ]
     },
     "execution_count": 5,
     "metadata": {},
     "output_type": "execute_result"
    }
   ],
   "source": [
    "def make_input_files(_fn):\n",
    "    return [data_dir+_f for _f in file_names]\n",
    "    \n",
    "# file_names = [\"20180208.watcher4.csv\", \n",
    "#               \"20180308.watcher4.csv\",\n",
    "#               \"20180208.watcher5.csv\", \n",
    "#               \"20180308.watcher5.csv\"]\n",
    "# file_names = [\"20180208.watcher4.csv\", \"20180308.watcher4.csv\"]\n",
    "# file_names = [\"20180208.watcher5.csv\", \"20180308.watcher5.csv\"]\n",
    "# file_names = [\"20180208.watcher4.csv\"]\n",
    "# file_names = [\"20180208.watcher5.csv\"]\n",
    "\n",
    "anyfiles = os.listdir(data_dir)\n",
    "file_names = [_f for _f in anyfiles if os.path.isfile(os.path.join(data_dir, _f))]\n",
    "\n",
    "input_files = make_input_files(file_names)\n",
    "input_files"
   ]
  },
  {
   "cell_type": "code",
   "execution_count": 6,
   "metadata": {
    "ExecuteTime": {
     "end_time": "2018-09-15T07:04:02.212704Z",
     "start_time": "2018-09-15T07:04:02.198050Z"
    }
   },
   "outputs": [
    {
     "name": "stdout",
     "output_type": "stream",
     "text": [
      "132\n"
     ]
    }
   ],
   "source": [
    "print(len(input_files))"
   ]
  },
  {
   "cell_type": "markdown",
   "metadata": {
    "ExecuteTime": {
     "end_time": "2018-08-11T13:35:17.250753Z",
     "start_time": "2018-08-11T13:35:17.241969Z"
    }
   },
   "source": [
    "## データロードと行･列抽出"
   ]
  },
  {
   "cell_type": "code",
   "execution_count": 7,
   "metadata": {
    "ExecuteTime": {
     "end_time": "2018-09-15T07:04:03.928080Z",
     "start_time": "2018-09-15T07:04:03.920741Z"
    }
   },
   "outputs": [],
   "source": [
    "#\n",
    "# 削除対象\n",
    "#\n",
    "# def load_data(_f):\n",
    "# #     _df = pd.read_csv(_f,encoding=\"cp932\",header=None)\n",
    "# #     return _df\n",
    "#     try:\n",
    "#         _df = pd.read_csv(_f,encoding=\"cp932\",header=None)\n",
    "#         return _df\n",
    "#     except FileNotFoundError:\n",
    "#         print(\"file dones not exit {}\".format(\"abc\"))\n",
    "#         sys.exit()\n"
   ]
  },
  {
   "cell_type": "markdown",
   "metadata": {
    "ExecuteTime": {
     "end_time": "2018-08-26T02:38:33.284011Z",
     "start_time": "2018-08-26T02:38:33.266463Z"
    }
   },
   "source": [
    "最初に余計な行を削除。次に余計な列を削除する。残った列数に応じ列名を設定した上でDFを作成する。"
   ]
  },
  {
   "cell_type": "code",
   "execution_count": 8,
   "metadata": {
    "ExecuteTime": {
     "end_time": "2018-09-15T07:04:06.376558Z",
     "start_time": "2018-09-15T07:04:06.337182Z"
    },
    "run_control": {
     "marked": true
    },
    "scrolled": true
   },
   "outputs": [
    {
     "name": "stdout",
     "output_type": "stream",
     "text": [
      "20140512.watcher4.csv will be processed\n"
     ]
    },
    {
     "data": {
      "text/html": [
       "<div>\n",
       "<style scoped>\n",
       "    .dataframe tbody tr th:only-of-type {\n",
       "        vertical-align: middle;\n",
       "    }\n",
       "\n",
       "    .dataframe tbody tr th {\n",
       "        vertical-align: top;\n",
       "    }\n",
       "\n",
       "    .dataframe thead th {\n",
       "        text-align: right;\n",
       "    }\n",
       "</style>\n",
       "<table border=\"1\" class=\"dataframe\">\n",
       "  <thead>\n",
       "    <tr style=\"text-align: right;\">\n",
       "      <th></th>\n",
       "      <th>eval</th>\n",
       "      <th>ind</th>\n",
       "      <th>reasons</th>\n",
       "      <th>txt</th>\n",
       "    </tr>\n",
       "  </thead>\n",
       "  <tbody>\n",
       "    <tr>\n",
       "      <th>count</th>\n",
       "      <td>1335</td>\n",
       "      <td>1335</td>\n",
       "      <td>1335</td>\n",
       "      <td>1345</td>\n",
       "    </tr>\n",
       "    <tr>\n",
       "      <th>unique</th>\n",
       "      <td>6</td>\n",
       "      <td>546</td>\n",
       "      <td>17</td>\n",
       "      <td>1290</td>\n",
       "    </tr>\n",
       "    <tr>\n",
       "      <th>top</th>\n",
       "      <td>□</td>\n",
       "      <td>商店街（代表者）</td>\n",
       "      <td>販売量の動き</td>\n",
       "      <td>－</td>\n",
       "    </tr>\n",
       "    <tr>\n",
       "      <th>freq</th>\n",
       "      <td>489</td>\n",
       "      <td>47</td>\n",
       "      <td>314</td>\n",
       "      <td>29</td>\n",
       "    </tr>\n",
       "  </tbody>\n",
       "</table>\n",
       "</div>"
      ],
      "text/plain": [
       "        eval       ind reasons   txt\n",
       "count   1335      1335    1335  1345\n",
       "unique     6       546      17  1290\n",
       "top        □  商店街（代表者）  販売量の動き     －\n",
       "freq     489        47     314    29"
      ]
     },
     "execution_count": 8,
     "metadata": {},
     "output_type": "execute_result"
    }
   ],
   "source": [
    "def select_data_row_col(_df,_to_col):  \n",
    "    \n",
    "    # 最初の8行にターゲットとなるデータが無いことを、以下の記号有無で確認\n",
    "    searchfor = [\"◎\", \"○\", \"□\", \"▲\", \"×\"] \n",
    "    if _df.iloc[0:8,:].isin(searchfor).values.sum() != 0:\n",
    "        print(\"Something wrong. data is in deleted lines\")\n",
    "    \n",
    "    # 行と列を選択\n",
    "    _df = _df.iloc[8:,2:2+_to_col]\n",
    "    \n",
    "    _colslen = len(_df.columns)\n",
    "    if _colslen == 4:    _cols = cols_for_four\n",
    "    elif _colslen == 3:  _cols = cols_for_five\n",
    "    else:\n",
    "        print(\"Something wrong in select_data_row_col() _colslen:{}\".format(_colslen))\n",
    "        print(_df.columns)\n",
    "        print(_df)\n",
    "        \n",
    "    _df = pd.DataFrame(_df.values,columns=_cols)\n",
    "    \n",
    "    return _df\n",
    "\n",
    "# テスト用コード。file_namesの1つ目だけで処理を実行\n",
    "print(\"{} will be processed\".format(file_names[0]))\n",
    "\n",
    "_now_future = file_names[0].split(\".\")[1][-1] # watchers4 or watchers5の4とか5を選択\n",
    "if   _now_future == \"4\": _to_col = 4\n",
    "elif _now_future == \"5\": _to_col = 3\n",
    "else: print(\"error when processing file name. {} ===\".format(_now_future))\n",
    "        \n",
    "df = pd.read_csv(data_dir+file_names[0],encoding=\"cp932\",header=None)\n",
    "# from IPython.core.debugger import Pdb; Pdb().set_trace()\n",
    "df = select_data_row_col(df, _to_col)\n",
    "df.describe()"
   ]
  },
  {
   "cell_type": "code",
   "execution_count": 9,
   "metadata": {
    "ExecuteTime": {
     "end_time": "2018-09-15T07:04:09.160316Z",
     "start_time": "2018-09-15T07:04:09.154423Z"
    }
   },
   "outputs": [
    {
     "name": "stdout",
     "output_type": "stream",
     "text": [
      "(1365, 4)\n",
      "(0, 4)\n",
      "(0, 3)\n"
     ]
    }
   ],
   "source": [
    "print(\"{}\\n{}\\n{}\".format(df.shape,df4.shape,df5.shape))"
   ]
  },
  {
   "cell_type": "markdown",
   "metadata": {
    "ExecuteTime": {
     "end_time": "2018-08-25T13:26:50.637820Z",
     "start_time": "2018-08-25T13:26:50.625232Z"
    }
   },
   "source": [
    "ファイルを読み込む。*4.csvはdf4に、*5.csvはdf5に追加していく。"
   ]
  },
  {
   "cell_type": "code",
   "execution_count": 10,
   "metadata": {
    "ExecuteTime": {
     "end_time": "2018-09-15T07:04:15.164599Z",
     "start_time": "2018-09-15T07:04:12.820471Z"
    }
   },
   "outputs": [],
   "source": [
    "def check_and_load_files(_infile):\n",
    "#     print(\"---> {}\".format(_infile))\n",
    "    _now_future = _infile.split(\"/\")[2].split(\".\")[1][-1] # watchers4 or watchers5の4とか5を選択\n",
    "    if   _now_future == \"4\": \n",
    "        _cols = cols_for_four\n",
    "        _to_col = 4\n",
    "    elif _now_future == \"5\":\n",
    "        _cols = cols_for_five\n",
    "        _to_col = 3\n",
    "    else: print(\"error when processing file name. {} ===\".format(_now_future))\n",
    "    \n",
    "    try:\n",
    "        _df = pd.read_csv(_infile,encoding=\"cp932\",header=None)\n",
    "        _df = select_data_row_col(_df, _to_col)\n",
    "    except FileNotFoundError:\n",
    "        print(\"file dones not exit {}\".format(\"abc\"))\n",
    "        sys.exit()\n",
    "    except UnboundLocalError:\n",
    "        print(\"UnboundLocalError when processing {}\".format(_infile))\n",
    "\n",
    "    return _df, _cols\n",
    "\n",
    "for input_file in input_files:\n",
    "#     print(\"===> {}\".format(input_file))\n",
    "    df, cols = check_and_load_files(input_file)\n",
    "    cols_len = len(cols)\n",
    "    if cols_len == 4:\n",
    "        df4 = pd.concat([df4,df], ignore_index=True, sort=False)\n",
    "    elif cols_len == 3:\n",
    "        df5 = pd.concat([df5,df], ignore_index=True, sort=False)\n",
    "    else:\n",
    "        print(\"cols length error. {}\".format(cols_len))\n",
    "        "
   ]
  },
  {
   "cell_type": "code",
   "execution_count": 11,
   "metadata": {
    "ExecuteTime": {
     "end_time": "2018-09-15T07:04:17.781370Z",
     "start_time": "2018-09-15T07:04:17.778321Z"
    }
   },
   "outputs": [
    {
     "name": "stdout",
     "output_type": "stream",
     "text": [
      "(1383, 4) (88978, 4) (100184, 3)\n"
     ]
    }
   ],
   "source": [
    "print(\"{} {} {}\".format(df.shape,df4.shape,df5.shape))"
   ]
  },
  {
   "cell_type": "markdown",
   "metadata": {
    "ExecuteTime": {
     "end_time": "2018-08-19T00:37:32.390178Z",
     "start_time": "2018-08-19T00:37:32.370285Z"
    }
   },
   "source": [
    "dfとcolsの確認"
   ]
  },
  {
   "cell_type": "markdown",
   "metadata": {},
   "source": [
    "# データ･クリーニング\n",
    "## カラムeval"
   ]
  },
  {
   "cell_type": "code",
   "execution_count": 12,
   "metadata": {
    "ExecuteTime": {
     "end_time": "2018-09-15T07:04:22.978827Z",
     "start_time": "2018-09-15T07:04:22.969445Z"
    }
   },
   "outputs": [
    {
     "name": "stdout",
     "output_type": "stream",
     "text": [
      "['◎' '○' '□' '▲' '×' nan '景気の現状判断']\n"
     ]
    }
   ],
   "source": [
    "if df4.empty == False: print(\"{}\".format(df4[\"eval\"].unique()))"
   ]
  },
  {
   "cell_type": "code",
   "execution_count": 13,
   "metadata": {
    "ExecuteTime": {
     "end_time": "2018-09-15T07:04:24.652689Z",
     "start_time": "2018-09-15T07:04:24.642783Z"
    }
   },
   "outputs": [
    {
     "name": "stdout",
     "output_type": "stream",
     "text": [
      "['◎' '○' '□' '▲' '×' nan '景気の先行き判断']\n"
     ]
    }
   ],
   "source": [
    "if df5.empty == False: print(\"{}\".format(df5[\"eval\"].unique()))"
   ]
  },
  {
   "cell_type": "code",
   "execution_count": 14,
   "metadata": {
    "ExecuteTime": {
     "end_time": "2018-09-15T07:04:26.459374Z",
     "start_time": "2018-09-15T07:04:26.373125Z"
    }
   },
   "outputs": [],
   "source": [
    "def clean_eval(_df): # '◎', '○', '□', '▲', '×'以外を除く \n",
    "    _df = _df.dropna(subset=['eval'])\n",
    "    # df = df[~df.isin(['景気の現状判断']).any(axis=1)]\n",
    "    _df = _df.query('eval == [\"◎\", \"○\", \"□\", \"▲\", \"×\"]')\n",
    "    return _df\n",
    "\n",
    "df4 = clean_eval(df4)\n",
    "df5 = clean_eval(df5)\n",
    "\n",
    "if df4.empty == False: assert len(df4[\"eval\"].unique()) == 5\n",
    "if df5.empty == False: assert len(df5[\"eval\"].unique()) == 5"
   ]
  },
  {
   "cell_type": "code",
   "execution_count": 15,
   "metadata": {
    "ExecuteTime": {
     "end_time": "2018-09-15T07:04:27.786140Z",
     "start_time": "2018-09-15T07:04:27.781217Z"
    }
   },
   "outputs": [
    {
     "name": "stdout",
     "output_type": "stream",
     "text": [
      "['◎' '○' '□' '▲' '×']\n"
     ]
    }
   ],
   "source": [
    "if df4.empty == False: print(\"{}\".format(df4[\"eval\"].unique()))"
   ]
  },
  {
   "cell_type": "code",
   "execution_count": 16,
   "metadata": {
    "ExecuteTime": {
     "end_time": "2018-09-15T07:04:28.699021Z",
     "start_time": "2018-09-15T07:04:28.693144Z"
    }
   },
   "outputs": [
    {
     "name": "stdout",
     "output_type": "stream",
     "text": [
      "['◎' '○' '□' '▲' '×']\n"
     ]
    }
   ],
   "source": [
    "if df5.empty == False: print(\"{}\".format(df5[\"eval\"].unique()))"
   ]
  },
  {
   "cell_type": "markdown",
   "metadata": {
    "ExecuteTime": {
     "end_time": "2018-08-11T14:28:05.110581Z",
     "start_time": "2018-08-11T14:28:05.101098Z"
    }
   },
   "source": [
    "## カラムind\n",
    "除くべきは、 － 業種・職種 ＊。ここは地道に。\n",
    "    "
   ]
  },
  {
   "cell_type": "code",
   "execution_count": 17,
   "metadata": {
    "ExecuteTime": {
     "end_time": "2018-09-15T07:04:32.242823Z",
     "start_time": "2018-09-15T07:04:32.225447Z"
    }
   },
   "outputs": [
    {
     "name": "stdout",
     "output_type": "stream",
     "text": [
      "['観光名所（従業員）' 'その他サービスの動向を把握できる者［フェリー］（従業員）' 'スーパー（店長）' '旅行代理店（従業員）'\n",
      " '通信会社（企画担当）' '商店街（代表者）' '一般小売店［酒］（経営者）' 'スーパー（役員）' 'コンビニ（エリア担当）'\n",
      " 'コンビニ（オーナー）' '衣料品専門店（経営者）' '衣料品専門店（店長）' 'その他専門店［ガソリンスタンド］（経営者）'\n",
      " '高級レストラン（経営者）' '高級レストラン（スタッフ）' '観光型ホテル（スタッフ）' 'タクシー運転手' '美容室（経営者）'\n",
      " '百貨店（売場主任）' '家電量販店（店員）' '乗用車販売店（従業員）' '乗用車販売店（役員）' '自動車備品販売店（店長）'\n",
      " '観光型ホテル（役員）' 'パチンコ店（役員）' '住宅販売会社（役員）' '百貨店（販売促進担当）' '家電量販店（地区統括）'\n",
      " 'その他専門店［医薬品］（経営者）' '住宅販売会社（経営者）' '－' 'その他サービス業［ソフトウェア開発］（経営者）' '建設業（従業員）'\n",
      " '輸送業（営業担当）' '輸送業（支店長）' '通信業（営業担当）' '司法書士' '食料品製造業（経営者）' '家具製造業（経営者）'\n",
      " '金融業（企画担当）' 'その他非製造業［鋼材卸売］（役員）' '求人情報誌製作会社（編集者）' '職業安定所（職員）'\n",
      " '学校［大学］（就職担当）' '人材派遣会社（社員）' '新聞社［求人広告］（担当者）' 'スーパー（経営者）' 'コンビニ（店長）'\n",
      " '家電量販店（従業員）' '住関連専門店（経営者）' 'その他専門店［酒］（経営者）' '一般レストラン（経営者）' '観光型旅館（スタッフ）'\n",
      " '観光名所（職員）' '一般小売店［医薬品］（経営者）' '衣料品専門店（総務担当）' '家電量販店（店長）' '自動車備品販売店（経営者）'\n",
      " 'その他専門店［パソコン］（経営者）' 'その他専門店［靴］（従業員）' 'その他専門店［白衣・ユニフォーム］（営業担当）'\n",
      " 'その他専門店［ガソリンスタンド］（営業担当）' '観光型ホテル（経営者）' '都市型ホテル（スタッフ）' '通信会社（営業担当）'\n",
      " '遊園地（経営者）' 'その他サービス［自動車整備業］（経営者）' '設計事務所（経営者）' '一般小売店［書籍］（経営者）'\n",
      " '一般小売店［カメラ］（店長）' '百貨店（総務担当）' '百貨店（買付担当）' '百貨店（経営者）' 'スーパー（営業担当）'\n",
      " 'コンビニ（経営者）' '乗用車販売店（経営者）' '乗用車販売店（店長）' 'その他小売［ショッピングセンター］（統括）'\n",
      " '高級レストラン（支配人）' '旅行代理店（経営者）' 'テーマパーク（職員）' 'その他住宅［リフォーム］（従業員）' '百貨店（営業担当）'\n",
      " '百貨店（売場担当）' '観光型旅館（経営者）' '食料品製造業（総務担当）' '出版・印刷・同関連産業（経理担当）'\n",
      " '電気機械器具製造業（営業担当）' '電気機械器具製造業（企画担当）' '建設業（企画担当）' '金融業（営業担当）' '広告代理店（経営者）'\n",
      " '公認会計士' 'その他企業［工場施設管理］（従業員）' '農林水産業（従業者）' '出版・印刷・同関連産業（経営者）'\n",
      " '土石製品製造販売（従業員）' '建設業（経営者）' '輸送業（経営者）' '金融業（広報担当）' '経営コンサルタント'\n",
      " 'その他企業［企画業］（経営者）' '木材木製品製造業（経営者）' '一般機械器具製造業（経営者）' '広告業協会（役員）'\n",
      " 'コピーサービス業（経営者）' 'その他非製造業［飲食料品卸売業］（経営者）' 'アウトソーシング企業（社員）' '民間職業紹介機関（職員）'\n",
      " 'スーパー（商品部担当）' '乗用車販売店（販売担当）' '観光型ホテル（営業担当）' 'タクシー（役員）' 'ゴルフ場（支配人）'\n",
      " '一般小売店［精肉］（経営者）' 'スーパー（経営企画担当）' '家電量販店（物流担当）' '住関連専門店（仕入担当）' 'スナック（経営者）'\n",
      " '都市型ホテル（営業担当）' '都市型ホテル（副支配人）' '旅行代理店（副支店長）' '競輪場（職員）'\n",
      " 'その他サービス［立体駐車場］（従業員）' 'その他サービス［イベント企画］（職員）' '設計事務所（所長）' '一般小売店［家電］（経営者）'\n",
      " '一般小売店［青果］（店長）' '百貨店（店長）' 'スーパー（総務担当）' 'スーパー（統括）' '高級レストラン（店長）'\n",
      " '旅行代理店（所長）' '旅行代理店（営業担当）' 'タクシー（経営者）' '通信会社（経営者）' 'ゴルフ練習場（経営者）'\n",
      " '一般小売店［衣料］（経営者）' '衣料品専門店（販売担当）' '乗用車販売店（管理担当）' '乗用車販売店（統括）' '住関連専門店（店長）'\n",
      " 'その他製造業［環境機器］（経営者）' '化学工業（経営者）' '輸送用機械器具製造業（経営者）' '輸送用機械器具製造業（総務担当）'\n",
      " '建設業（開発担当）' 'その他サービス業［情報サービス］（経営者）' '食料品製造業（営業統括）' '窯業・土石製品製造業（総務担当）'\n",
      " '電気機械器具製造業（経営者）' '精密機械器具製造業（総務担当）' 'その他製造業［宝石・貴金属］（経営者）' '金融業（経営企画担当）'\n",
      " '金融業（役員）' '広告代理店（営業担当）' '社会保険労務士' '食料品製造業（製造担当）' '建設業（総務担当）' '金融業（調査担当）'\n",
      " '不動産業（経営者）' '新聞販売店［広告］（総務担当）' '窯業・土石製品製造業（経営者）' '不動産業（管理担当）'\n",
      " '人材派遣会社（経営者）' '人材派遣会社（支社長）' '民間職業紹介機関（経営者）' '学校［専門学校］（副校長）'\n",
      " '人材派遣会社（管理担当）' '求人情報誌製作会社（経営者）' '人材派遣会社（営業担当）' 'その他小売［雑貨卸］（経営者）'\n",
      " '一般小売店［家電］（経理担当）' '一般小売店［家具］（経営者）' '百貨店（副店長）' 'スーパー（ネット宅配担当）'\n",
      " '衣料品専門店（営業担当）' '通信会社（局長）' '住宅販売会社（従業員）' '一般小売店［文房具］（経営者）'\n",
      " '一般小売店［印章］（経営者）' '一般小売店［米穀］（経営者）' '一般小売店［文具］（販売企画担当）' '一般小売店［茶］（営業担当）'\n",
      " '百貨店（計画管理担当）' 'スーパー（販売担当）' 'スーパー（仕入担当）' '一般レストラン（スタッフ）' 'タクシー（団体役員）'\n",
      " '通信会社（総務担当）' '通信会社（経営企画担当）' '通信会社（管理担当）' 'ゴルフ場（従業員）' 'パチンコ店（経営者）'\n",
      " 'その他サービス［保険代理店］（経営者）' '設計事務所（職員）' '百貨店（営業企画担当）' '百貨店（販売管理担当）'\n",
      " '家電量販店（営業統括）' '乗用車販売店（営業担当）' '住関連専門店（統括）' 'その他小売［生鮮魚介卸売］（営業）'\n",
      " 'その他小売［ゲーム］（開発戦略担当）' '旅行代理店（支店長）' '通信会社（社員）' 'その他サービス［福祉輸送］（経営者）'\n",
      " 'その他住宅［住宅資材］（営業）' '一般小売店［和菓子］（経営者）' '一般小売店［食料雑貨］（経営者）' '一般小売店［祭用品］（経営者）'\n",
      " '百貨店（広報担当）' '家電量販店（統括）' '家電量販店（経営企画担当）' '乗用車販売店（総務担当）'\n",
      " 'その他専門店［ドラッグストア］（経営者）' '＊' '出版・印刷・同関連産業（営業担当）' '建設業（営業担当）' '不動産業（従業員）'\n",
      " '税理士' 'その他サービス業［警備］（経営者）' 'その他サービス業［ソフト開発］（経営者）' 'その他サービス業［情報サービス］（従業員）'\n",
      " '繊維工業（従業員）' 'プラスチック製品製造業（経営者）' '金属製品製造業（経営者）' '精密機械器具製造業（経営者）'\n",
      " 'その他製造業［鞄］（経営者）' '輸送業（総務担当）' '金融業（統括）' '金融業（支店長）' '不動産業（総務担当）'\n",
      " '広告代理店（従業員）' 'その他サービス業［廃棄物処理］（経営者）' 'その他サービス業［映像制作］（経営者）'\n",
      " '出版・印刷・同関連産業（所長）' '建設業（経理担当）' '通信業（広報担当）' '人材派遣会社（支店長）' '求人情報誌製作会社（広報担当）'\n",
      " '学校［専修学校］（就職担当）' '一般小売店［生花］（経営者）' 'スーパー（店員）' 'コンビニ（企画担当）'\n",
      " '衣料品専門店（販売企画担当）' 'その他専門店［雑貨］（店員）' '通信会社（サービス担当）' '一般小売店［高級精肉］（企画担当）'\n",
      " '一般小売店［電気屋］（経営者）' '一般小売店［薬局］（経営者）' '一般小売店［食品］（経営者）' '一般小売店［土産］（経営者）'\n",
      " '一般小売店［贈答品］（経営者）' 'スーパー（販売促進担当）' 'スーパー（商品開発担当）' '衣料品専門店［紳士服洋品］（売場担当）'\n",
      " '住関連専門店（営業担当）' '高級レストラン（役員）' '一般レストラン（従業員）' '観光型ホテル（販売担当）' '都市型ホテル（支配人）'\n",
      " '観光名所（案内係）' 'ゴルフ場（企画担当）' 'その他サービス［介護サービス］（職員）' 'その他住宅［不動産賃貸及び売買］（経営者）'\n",
      " '一般小売店［自然食品］（経営者）' '百貨店（経理担当）' '百貨店（販売担当）' '百貨店（経営企画担当）' 'スーパー（営業企画）'\n",
      " 'その他専門店［貴金属］（営業担当）' 'その他飲食［仕出し］（経営者）' '都市型ホテル（経営者）' 'その他レジャー施設［劇場］（職員）'\n",
      " '理美容室（経営者）' '美顔美容室（経営者）' 'その他住宅［住宅管理］（経営者）' '一般小売店［酒類］（経営者）' '理容室（経営者）'\n",
      " '化学工業（総務秘書）' '化学工業（人事担当）' '窯業・土石製品製造業（社員）' '鉄鋼業（経営者）' '電気機械器具製造業（総務担当）'\n",
      " '輸送業（エリア担当）' '会計事務所（社会保険労務士）' '食料品製造業（経営企画担当）' '金属製品製造業（従業員）'\n",
      " '通信会社（法人営業担当）' '金融業（従業員）' '金融業（法人営業担当）' '広告代理店（制作担当）' '行政書士' '会計事務所（職員）'\n",
      " 'その他サービス業［ソフト開発］（社員）' 'その他非製造業［ソフト開発］（経営者）' 'パルプ・紙・紙加工品製造業（総務担当）'\n",
      " '輸送用機械器具製造業（品質管理担当）' '輸送用機械器具製造業（総務経理担当）' '輸送業（従業員）' '新聞販売店［広告］（店主）'\n",
      " '民間職業紹介機関（営業担当）' 'アウトソーシング企業（エリア担当）' '新聞社［求人広告］（営業担当）'\n",
      " 'その他雇用［広告代理店］（求人広告担当）' '一般小売店［鮮魚］（従業員）' 'その他小売［ショッピングセンター］' '一般レストラン（店長）'\n",
      " '通信会社（役員）' '一般小売店［精肉］（店長）' '衣料品専門店（総括）' '一般レストラン（統括）' '都市型ホテル（役員）'\n",
      " '一般小売店［事務用品］（店員）' '一般小売店［書籍］（従業員）' 'コンビニ（店舗管理）' '乗用車販売店（経理担当）'\n",
      " '自動車備品販売店（従業員）' '通信会社（店舗統括）' 'その他レジャー施設（職員）' '一般機械器具製造業（総務担当）'\n",
      " '繊維工業（経営者）' '化学工業（総務担当）' 'プラスチック製品製造業（企画担当）' '金融業（融資担当）' '新聞販売店［広告］（従業員）'\n",
      " '食料品製造業（役員）' '輸送業（配車担当）' '人材派遣会社（役員）' '新聞社［求人広告］（役員）' '一般小売店［時計］（経営者）'\n",
      " '一般小売店［鮮魚］（営業担当）' 'スーパー（経理担当）' 'スーパー（社員）' 'コンビニ（広告担当）' '一般レストラン（経理担当）'\n",
      " 'その他飲食［コーヒーショップ］（店長）' '旅行代理店（店長）' 'その他レジャー施設［イベントホール］（職員）'\n",
      " '一般小売店［菓子］（経営企画担当）' '一般小売店［衣服］（経営者）' '一般小売店［野菜］（店長）' '百貨店（商品担当）'\n",
      " 'スーパー（広報担当）' 'コンビニ（店員）' '乗用車販売店（営業企画）' 'その他専門店［食品］（経営者）'\n",
      " 'その他専門店［宝飾品］（販売担当）' 'その他専門店［スポーツ用品］（経理担当）' 'その他小売［インターネット通販］（企画担当）'\n",
      " '一般レストラン（店員）' '観光型旅館（団体役員）' '都市型ホテル（マネージャー）' '都市型ホテル（客室担当）' 'パチンコ店（店員）'\n",
      " '競艇場（職員）' '美容室（店員）' 'その他サービス［ビデオ・ＣＤレンタル］（エリア担当）' '住宅販売会社（総務担当）'\n",
      " 'その他住宅投資の動向を把握できる者［不動産仲介］（経営者）' '一般小売店［珈琲］（経営者）' '一般小売店［精肉］（管理担当）'\n",
      " '一般小売店［花］（店長）' '一般小売店［雑貨］（店長）' '一般小売店［菓子］（営業担当）' '百貨店（企画担当）'\n",
      " '百貨店（サービス担当）' '百貨店（売場マネージャー）' '百貨店（マネージャー）' '百貨店（外商担当）' 'スーパー（企画担当）'\n",
      " 'スーパー（管理担当）' '家電量販店（経営者）' '住関連専門店（店員）' '都市型ホテル（総務担当）' '旅行代理店（広報担当）'\n",
      " '観光名所（経理担当）' 'その他住宅［情報誌］（編集者）' '一般小売店［花］（店員）' '百貨店（服飾品担当）' '百貨店（販促担当）'\n",
      " '家電量販店（企画担当）' 'その他専門店［宝石］（経営者）' '美容室（店長）' 'その他住宅［展示場］（従業員）' '食料品製造業（従業員）'\n",
      " '輸送用機械器具製造業（経理担当）' '金融業［投資運用業］（代表）' 'その他非製造業［商社］（営業担当）' '食料品製造業（営業担当）'\n",
      " '食料品製造業（経理担当）' '繊維工業（総務担当）' 'パルプ・紙・紙加工品製造業（経営者）' '化学工業（管理担当）'\n",
      " '金属製品製造業（管理担当）' 'その他製造業［事務用品］（営業担当）' '通信業（管理担当）' '不動産業（営業担当）'\n",
      " 'コピーサービス業（店長）' 'その他サービス［自動車修理］（経営者）' 'その他非製造業［機械器具卸］（経営者）' '繊維工業（団体職員）'\n",
      " '出版・印刷・同関連産業（情報企画担当）' '金属製品製造業（営業担当）' '電気機械器具製造業（宣伝担当）' '輸送業（商品管理担当）'\n",
      " 'その他サービス業［店舗開発］（従業員）' 'その他サービス業［ビルメンテナンス］（営業担当）' 'その他非製造業［電気業］（営業担当）'\n",
      " 'アウトソーシング企業（営業担当）' '民間職業紹介機関（大学担当）' '新聞社［求人広告］（管理担当）' 'コンビニ（副地域ブロック長）'\n",
      " 'その他小売［ショッピングセンター］（運営担当）' 'ゴルフ場（営業担当）' '一般小売店［酒店］（経営者）' 'スーパー（業務開発担当）'\n",
      " '家電量販店（販売担当）' 'その他専門店［時計］（経営者）' 'その他専門店［海産物］（経営者）' '一般レストラン（外食事業担当）'\n",
      " '通信会社（広報担当）' 'テーマパーク（管理担当）' 'テーマパーク（営業担当）' '住宅販売会社（販売担当）' '商店街（理事）'\n",
      " '一般小売店［茶］（経営者）' '一般小売店［紙類］（経営者）' 'その他専門店［和菓子］（経営者）' 'その他専門店［布地］（経営者）'\n",
      " 'その他小売［ショッピングセンター］（所長）' '観光型ホテル（宿泊予約担当）' '都市型ホテル（企画担当）' '都市型ホテル（総支配人）'\n",
      " 'その他サービス［介護サービス］（介護サービス担当）' '百貨店（購買担当）' 'スーパー（財務担当）' '衣料品専門店（地域ブロック長）'\n",
      " 'その他専門店［ファッション雑貨］（従業員）' 'その他飲食［サービスエリア内レストラン］（支配人）' '観光型ホテル（支配人）'\n",
      " '輸送用機械器具製造業（財務担当）' '金融業（自動車担当）' '木材木製品製造業（経理担当）' '窯業・土石製品製造業（総務経理担当）'\n",
      " '鉄鋼業（総務担当）' '非鉄金属製造業（経理担当）' '金属製品製造業（総務担当）' '輸送用機械器具製造業（経営企画担当）'\n",
      " 'その他製造業［スポーツ用品］（総務担当）' '輸送業（経理担当）' '通信業（営業企画担当）' '金融業（貸付担当）'\n",
      " '人材派遣会社（経営企画担当）' '求人情報誌製作会社（採用支援担当）' '職業安定所（雇用開発担当）' '職業安定所（産業雇用情報担当）'\n",
      " '求人情報誌製作会社（広告担当）' '学校［短期大学］（学生支援担当）' 'その他雇用の動向を把握できる者［労働機関］（職員）'\n",
      " '通信会社（企画）' '商店街（事務局長）' '一般小売店［書籍］（営業担当）' 'その他飲食［ファストフード］（経営者）'\n",
      " 'スーパー（統括担当）' 'その他小売［ショッピングセンター］（副支配人）' '一般小売店［乾物］（店員）' '一般小売店［酒］（販売担当）'\n",
      " 'コンビニ（総務）' 'その他小売［ショッピングセンター］（支配人）' '一般機械器具製造業（経理担当）' '鉄鋼業（総務部長）'\n",
      " '通信業（部長）' '建設会社（経理担当）' '輸送業（営業）' '電気機械器具製造業（経理）' '求人情報誌（営業）' '人材派遣会社（営業）'\n",
      " '民間職業紹介機関（所長）' '一般小売店［精肉］（店員）' '百貨店（営業統括）' '百貨店（業務担当）'\n",
      " 'その他専門店［コーヒー豆］（経営者）' '高級レストラン（従業員）' '住宅販売会社（代表）' '一般小売店［茶］（販売・事務）'\n",
      " '百貨店（店舗事業計画部）' 'スーパー（業務担当）' 'その他専門店［ガソリンスタンド］（統括）'\n",
      " 'その他小売の動向を把握できる者［ショッピングセンター］（統括者）' '通信会社（総務局）' '音楽教室（管理担当）' '百貨店（営業政策担当）'\n",
      " '百貨店（企画）' 'スーパー（統括者）' 'コンビニ（販売促進担当）' '衣料品専門店（店員）' '衣料品専門店（取締役）'\n",
      " '衣料品専門店（チーフ）' '家電量販店（広報・IR担当）' '高級レストラン（専務）' '通信会社（業務担当）'\n",
      " 'その他サービスの動向を把握できる者［介護サービス］（管理担当）' '設計事務所（代表）' '一般小売店［鮮魚］（店員）'\n",
      " '家電量販店（総務担当）' 'その他小売の動向を把握できる者［土産卸売］（従業員）' '居酒屋（経営者）' '都市型ホテル（販売担当）'\n",
      " '繊維工業（営業担当）' '家具製造業（従業員）' '電気機械器具製造業（取締役）' '金融業（営業）' '経営コンサルタント（社員）'\n",
      " 'その他サービス業［物品リース］（支社長）' 'その他サービス業［設計事務所］（代表取締役）' '農林水産業（経営者）' '農林水産業（営業）'\n",
      " '金属製品製造業（事業統括）' 'その他製造業（産業廃物処理業）' '通信業（経理担当）' '金融業（得意先担当）' '新聞社（広告）（担当者）'\n",
      " '経営コンサルタント（代表取締役）' '建設業（社員）' '輸送業（総務）' '学校［大学］（就職支援業務）' '民間職業紹介機関（社員）'\n",
      " '民間職業紹介機関（支店長）' '学校［専門学校］（就職担当）' '一般小売店［菓子］' 'その他専門店［書籍］（店長）' 'ゴルフ場（経営者）'\n",
      " 'その他のサービス［レンタカー］（営業担当）' '住宅販売会社（代表取締役）' '住宅販売会社（営業担当）' 'その他専門店［楽器］（経営者）'\n",
      " '観光型ホテル（マーケティング担当）' 'その他飲食［居酒屋］（経営者）' '旅行代理店（マネージャー）' '通信会社（店長）'\n",
      " '百貨店（営業企画）' 'スーパー（販売企画担当）' '食料品製造業（総務）' '人材派遣会社（総務担当）' '百貨店（担当者）'\n",
      " '百貨店（営業販促担当）' '建設業（役員）' 'その他非製造業［鋼材卸売］（従業員）' 'コピーサービス業（従業員）'\n",
      " 'その他サービス業［建設機械レンタル］（総務担当）' '一般小売店［寝具］（経営者）' '乗用車販売店（本部）' '窯業・土石製品製造業（役員）'\n",
      " 'その他飲食［給食・レストラン］（総務）' '都市型ホテル（営業）' 'ゴルフ場（総務担当）' '家電量販店（営業担当）'\n",
      " 'その他専門店［靴小売業］（経営者）' 'その他専門店［燃料］（従業員）' '一般小売店［傘］（店長）' 'コンビニ（商品開発担当）'\n",
      " '衣料品専門店（役員）' '旅行代理店（販売促進担当）' 'その他レジャー施設［ボウリング場］（支配人）' '一般小売店［生花］（店員）'\n",
      " '高級レストラン（仕入担当）' 'その他飲食［給食・レストラン］（役員）' '通信会社（経理担当）' 'その他サービス［電力］（経営者）'\n",
      " 'その他住宅［住宅管理・リフォーム］（経営者）' 'その他専門店［貴金属］（統括）' 'その他サービス業［ソフト開発］（従業員）'\n",
      " '金融業（総務担当）' '求人情報誌製作会社（所長）' 'その他サービス［葬祭業］（経営者）' '一般小売店［書店］（営業担当）'\n",
      " '百貨店（業績管理担当）' '高級レストラン（経理）' 'その他レジャー施設［鉄道会社］（職員）' '一般小売店［結納品］（経営者）'\n",
      " '百貨店（計画担当）' 'スーパー（商品管理担当）' 'コンビニ（本部管理担当）' '衣料品専門店（売場担当）'\n",
      " '家電量販店（フランチャイズ経営者）' 'その他専門店［書籍］（店員）' 'その他小売［ショッピングセンター］（経理担当）'\n",
      " 'その他飲食［ワイン輸入］（経営企画担当）' 'テーマパーク職員（総務担当）' 'スーパー（ブロック長）' 'パルプ・紙・紙加工品製造業（顧問）'\n",
      " '一般機械器具製造業（営業担当）' '輸送用機械器具製造業（製造担当）' '輸送業（役員）' '通信業（法人営業担当）' '不動産業（用地仕入）'\n",
      " '化学工業（営業担当）' '通信業（総務担当）' '人材派遣会社（経営企画）' '人材派遣業（営業担当）' '人材派遣会社（企画統括）'\n",
      " '職業安定所（所長）' '職業安定所（次長）' '衣料品専門店（店舗運営）' 'テーマパーク（役員）' '住宅販売会社（営業）'\n",
      " '一般小売店［鮮魚］（役員）' '自動車備品販売店（役員）' '住関連専門店（役員）' 'その他レジャー施設［スポーツクラブ］（総支配人）'\n",
      " '税理士（所長）' '食料品製造業（経営企画）' '精密機械器具製造業（役員）' '通信業（営業）' '新聞社［求人広告］（営業）'\n",
      " '一般小売店［事務用品］（経営者）' 'その他専門店［ドラッグストア］（店員）' '都市型ホテル（管理担当）' '旅行代理店（役員）'\n",
      " 'その他住宅［住宅設備］（営業担当）' '百貨店（役員）' '百貨店（宣伝担当）' 'スーパー（開発担当）' '高級レストラン（企画）'\n",
      " '一般レストラン（企画）' 'その他飲食［自動販売機（飲料）］（管理担当）' '百貨店（販売推進担当）' '家電量販店（人事担当）'\n",
      " 'その他小売［インターネット通販］（経営者）' '広告代理店（企画担当）' '金融業（副支店長）' 'アウトソーシング企業（管理担当）'\n",
      " 'テーマパーク（業務担当）' '一般小売店［洋裁附属品］（経営者）' '一般小売店［眼鏡］（経営者）' '一般小売店［靴］（経営者）'\n",
      " '通信会社（工事担当）' '百貨店（人事担当）' 'その他専門店［土産物］（経営者）' 'その他小売［ショッピングセンター］（管理担当）'\n",
      " '高級レストラン（宴会サービス担当）' '競艇場（企画営業担当）' '繊維工業（監査担当）' '非鉄金属製造業（業務担当）'\n",
      " '金融業（融資企画担当）' '会計事務所（経営者）' '農林水産業（従業員）' '職業安定所（事業所担当）' '職業安定所（雇用関連担当）'\n",
      " '民間職業紹介機関（人材紹介担当）' '学校［短期大学］（進路指導担当）' 'コンビニ（商品担当）' '通信会社（技術）'\n",
      " '百貨店（営業統括担当）' '衣料品専門店（営業責任者）' '通信会社（支店長）' '家電量販店（副店長）' '通信会社（営業部長）'\n",
      " '競輪競馬（マネージャー）' '食料品製造業（商品統括）' '木材木製品製造業（資材購買）' '農林水産業（職員）'\n",
      " 'コンビニ（エリア担当・店長）' '旅行代理店（企画）' '学習塾（従業員）'\n",
      " 'その他サービスの動向を把握できる者［フィットネスクラブ］（営業）' 'その他小売の動向を把握できる者［ショッピングセンター］（支配人）'\n",
      " 'その他製造業［産業廃棄物処理業］' '輸送用機械器具製造業（営業担当）' '新聞社［広告］（担当者）'\n",
      " 'その他サービス業［コンサルタント］（代表取締役）' '新聞社［求人広告］（社員）' 'その他サービス［レンタカー］（営業）'\n",
      " '一般小売店［鞄・袋物］（経営者）' '百貨店（店舗企画）' 'コンビニ（代表者）' '観光型ホテル（代表取締役）' '会計事務所（所長）'\n",
      " '求人情報誌製作会社（編集室）' 'その他サービス業［建設機械リース］（営業担当）' '衣料品専門店（統括）' '遊園地（職員）'\n",
      " 'その他専門店［貴金属］（経営企画担当）' '高級レストラン（副支配人）' '金融業（渉外・預金担当）' '求人情報誌製作会社（営業担当）'\n",
      " '一般レストラン［パン・カフェ］（経営者）' 'スーパー（企画・経営担当）' 'スーパー（人事担当）' '企業広告制作業（経営者）'\n",
      " '民間職業紹介機関（窓口担当）' 'スーパー（店舗管理）' '家電量販店（本部）' 'その他レジャー施設（総支配人）'\n",
      " '一般小売店［酒］（社員）' 'スーパー（企画）' 'その他小売［インターネット通販］（オペレーター）' '輸送業（営業所長）'\n",
      " 'その他専門店［土産物］（店長）' 'その他飲食［サービスエリア内レストラン］（店長）' '通信会社（販売企画担当）'\n",
      " 'スーパー（営業システム担当）' 'コンビニ（支店長）' '学校［大学］（就職支援担当）' '旅行代理店（営業部長）' '化学工業（所長）'\n",
      " 'ドラッグストア（部長）' 'その他製造業［産業廃物処理業］' '職業安定所（職業紹介）' 'スーパー（販売企画）'\n",
      " 'その他サービス業［建設機械リース］（支店長）' 'ゴルフ場（総務部長）' 'スーパー（副店長）' 'その他サービス［学習塾］（経営者）'\n",
      " '一般小売店［靴・履物］（店長）' 'その他サービス業［ビルメンテナンス］（経営者）' 'テーマパーク（経営企画担当）'\n",
      " '一般小売店［書店］（経営者）' '出版・印刷・同関連産業（代表）' '民間職業紹介機関（支社長）' '自動車備品販売店（営業担当）'\n",
      " '観光型ホテル（宿泊担当）' '繊維工業（経営管理担当）' '一般機械器具製造業（経理財務担当）' '木材木製品製造業' '職業安定所'\n",
      " '観光旅館組合（職員）' '観光型ホテル（専務）' 'その他小売［ショッピングセンター］（広報担当）' '百貨店（営業部）'\n",
      " '家電量販店（地区統括部長）' 'ゴルフ場（業務担当）' 'その他専門店［雑貨］（従業員）' 'その他製造業［化粧品］（営業担当）'\n",
      " '都市型ホテル（従業員）' '紙加工品［段ボール］製造業（経営者）' 'その他専門店［医薬品］（総務担当）' '通信会社（職員）'\n",
      " '衣料品専門店（営業・販売担当）' '一般小売店［自転車］（店長）' 'その他レジャー施設［飲食・物販系滞在型施設］（企画担当）'\n",
      " '電気機械器具製造業（経理担当）' '百貨店（電算担当）' '輸送業（業務担当）' '農林水産業（総務担当）'\n",
      " 'その他専門店［書籍］（地区支配人）' '高級レストラン（社長）' '精密機械器具製造業（従業員）' '不動産業'\n",
      " '住宅販売会社（総務・企画分野）' '輸送業（本社事業本部）' '学校就職担当者' 'その他レジャー施設（経営企画担当）' '化学工業（営業）'\n",
      " '輸送用機械器具製造業（デザイン担当）' '観光型旅館（管理担当）' '観光名所（企画担当）' '民間職業紹介機関（マネージャー）'\n",
      " '百貨店（営業推進担当）' '観光名所' '観光ホテル（総務）' '通信会社（営業）' '競馬場（職員）' '食料品製造業（団体役員）'\n",
      " 'スーパー（物流担当）' 'その他専門店［酒］（営業担当）' 'その他専門店［ガソリンスタンド］（従業員）' 'その他サービス［清掃］（所長）'\n",
      " 'その他レジャー施設［アミューズメント］（職員）' 'その他レジャー施設［アミューズメント］（店長）' '出版・印刷・同関連産業（総務担当）'\n",
      " '学校［短期大学］（就職担当）' 'スーパー（支店長）' 'その他小売［ショッピングセンター］（営業担当）' 'その他専門店［貴金属］（店長）'\n",
      " '電気機械器具製造業' 'その他サービス業［広告印刷］（従業員）' '出版・印刷・同関連産業（経営者）\\n' '化学工業（企画担当）'\n",
      " '一般小売店［事務用品］（役員）' '家電量販店（管理本部）' '一般小売店［食料品］（管理担当）'\n",
      " 'その他サービス［コインランドリー］（経営者）' 'その他非製造業［民間放送］（従業員）' '一般機械器具製造業（設計担当）'\n",
      " 'テーマパーク（広報担当）' 'その他レジャー施設（アミューズメント）' 'コンビニ（地域ブロック長）' '乗用車販売店（副店長）'\n",
      " '一般レストラン（エリア担当）' '繊維工業（統括担当）' '求人情報誌製作会社（サイト運営担当）' 'その他飲食［ファーストフード］（経営者）'\n",
      " 'スーパー（人事）' '一般小売店［菓子］（総務担当）' '食料品生産業（総務）' '印刷業（営業担当）' '通信会社（販売部）'\n",
      " '乗用車販売店（代表）' '輸送業（代表者）' 'その他小売［ショッピングセンター］（経営管理）' 'その他サービス［学習塾］（スタッフ）'\n",
      " '一般小売店［文具店］（経営者）' '百貨店（販売促進）' 'その他専門店［雑貨］（店長）' 'その他レジャー［スポーツレジャー紙］（広告担当）'\n",
      " 'その他非製造業［衣服卸］（経営者）' '一般小売店［惣菜］（店長）' '輸送用機械器具製造業（研修担当）' '一般小売店［花］（経営者）'\n",
      " '建設業（総務）' 'その他専門店［書籍］（副店長）' '化学工業（従業員）' 'スーパー（経営企画）' 'サービスの動向を把握できる者'\n",
      " '学校［専門学校］' '百貨店（一般顧客訪問担当）' '職業安定所（企画事業所部門（求人））' '一般小売店［スポーツ用品］（経営者）'\n",
      " '出版・印刷・同関連産業（営業本部長）' '一般小売店［貴金属製品］（従業員）' '観光遊園地（職員）' '不動産業（開発担当）'\n",
      " '求人情報誌製作会社（マネジャー）' 'その他サービス［貸切バス］（経営者）' 'その他サービス業［ディスプレイ］（経営者）'\n",
      " '石油製品・石炭製品製造業（生産管理）' '乗用車販売店（渉外担当）' '求人情報誌製作会社（企画担当）' '金融業（営業職渉外係）'\n",
      " '職業安定所（職業相談）' 'その他非製造業［商社］（総務担当）' '広告制作業（経営者）' '乗用車販売業（営業担当）'\n",
      " '通信業（企画・売上管理）' '職業安定所（求人開発）' '輸送業（経営企画室）' '一般小売店［土産］（役員）'\n",
      " '一般レストラン［居酒屋］（経営者）' '一般小売店［コーヒー］（営業担当）' 'コピーサービス業（管理担当）'\n",
      " '一般機械器具製造業（管理担当）' 'その他サービス［語学学校］（経営者）' '乗用車販売店（エリア担当）' '通信会社（販売担当）'\n",
      " '家電量販店（企画・IR担当）' '一般小売店［和菓子］（企画担当）' '窯業・土石製品製造業（経理担当）'\n",
      " 'その他レジャー［プロスポーツ］（経営管理担当）' 'その他レジャー施設（支配人）' '求人情報誌製作会社（従業員）' '百貨店（予実算担当）'\n",
      " '通信業（経営者）' 'その他サービス［立体駐車場］（経営者）' '住宅販売会社（営業所長）' '職業安定所（職業指導担当）'\n",
      " '出版・印刷・同関連産業（従業員）' 'その他住宅［室内装飾業］（経営者）' '木材木製品製造業（経理部次長）'\n",
      " 'その他小売［陶器卸］（営業担当）' '金属製品製造業（役員）' 'その他製造業［履物］（団体職員）' '一般小売店［文具］（販売企画担当）\\n'\n",
      " '一般小売店［果物］（店員）' '金融業（地域担当）' 'その他小売［バイク・福祉車両］（経営者）' '高級レストラン（営業担当）'\n",
      " '求人情報誌製作会社（総務担当）' 'パチンコ店（経理）' 'コンビニ（総務担当）' 'その他のサービス［レンタカー］（営業）'\n",
      " 'その他小売の動向を把握できる者［ショッピングセンター］（従業員）' '百貨店' '通信会社（技術部）' '学校就職担当' '通信業（職員）'\n",
      " '一般小売店［食料雑貨］（店員）' '家電量販店（管理担当）' 'その他専門店［造花］（店長）']\n"
     ]
    }
   ],
   "source": [
    "if df4.empty == False: print(\"{}\".format(df4[\"ind\"].unique()))"
   ]
  },
  {
   "cell_type": "code",
   "execution_count": 18,
   "metadata": {
    "ExecuteTime": {
     "end_time": "2018-09-15T07:04:34.823971Z",
     "start_time": "2018-09-15T07:04:34.798282Z"
    }
   },
   "outputs": [
    {
     "name": "stdout",
     "output_type": "stream",
     "text": [
      "['＊' '商店街（代表者）' '一般小売店［土産］（経営者）' '百貨店（売場主任）' '百貨店（販売促進担当）' 'スーパー（店長）'\n",
      " 'スーパー（役員）' 'コンビニ（エリア担当）' '衣料品専門店（店員）' '家電量販店（経営者）' '家電量販店（地区統括部長）'\n",
      " '乗用車販売店（従業員）' '乗用車販売店（営業担当）' '観光型ホテル（スタッフ）' '旅行代理店（従業員）' 'タクシー運転手'\n",
      " '通信会社（企画担当）' '観光名所（従業員）' '一般小売店［酒］（経営者）' '百貨店（役員）' '衣料品専門店（店長）'\n",
      " '家電量販店（店員）' '自動車備品販売店（店長）' 'その他専門店［造花］（店長）' '高級レストラン（経営者）'\n",
      " '高級レストラン（スタッフ）' 'スナック（経営者）' '通信会社（社員）' '観光名所（職員）' '美容室（経営者）'\n",
      " '住宅販売会社（経営者）' '住宅販売会社（従業員）' 'スーパー（企画担当）' 'その他専門店［医薬品］（経営者）'\n",
      " '一般レストラン（スタッフ）' '観光型ホテル（経営者）' 'その他サービスの動向を把握できる者［フェリー］（従業員）' '輸送業（支店長）'\n",
      " 'その他サービス業［建設機械レンタル］（総務担当）' '建設業（経営者）' '金融業（企画担当）' 'コピーサービス業（従業員）'\n",
      " 'その他サービス業［建設機械リース］（支店長）' 'その他非製造業［鋼材卸売］（役員）' '食料品製造業（役員）' '家具製造業（経営者）'\n",
      " '金属製品製造業（役員）' '通信業（営業担当）' '司法書士' 'その他サービス業［ソフトウェア開発］（経営者）' '建設業（従業員）'\n",
      " '輸送業（営業担当）' '－' '求人情報誌製作会社（編集者）' '職業安定所（職員）' '人材派遣会社（社員）'\n",
      " '新聞社［求人広告］（担当者）' '学校［大学］（就職担当）' '百貨店（営業担当）' '百貨店（経営者）' 'コンビニ（経営者）'\n",
      " '衣料品専門店（経営者）' '家電量販店（店長）' '乗用車販売店（経営者）' '乗用車販売店（店長）' '住関連専門店（経営者）'\n",
      " 'その他専門店［白衣・ユニフォーム］（営業担当）' '高級レストラン（支配人）' '一般レストラン（経営者）' '都市型ホテル（スタッフ）'\n",
      " '旅行代理店（店長）' '通信会社（営業担当）' 'その他サービス［自動車整備業］（経営者）' '一般小売店［書籍］（経営者）'\n",
      " '一般小売店［医薬品］（経営者）' '一般小売店［寝具］（経営者）' '百貨店（総務担当）' '百貨店（企画担当）' '百貨店（売場担当）'\n",
      " 'スーパー（経営者）' 'スーパー（物流担当）' 'コンビニ（店長）' '衣料品専門店（総務担当）' 'その他専門店［酒］（経営者）'\n",
      " 'その他専門店［靴］（従業員）' 'その他専門店［ガソリンスタンド］（営業担当）' 'その他小売［ショッピングセンター］（統括）'\n",
      " '観光型旅館（経営者）' '旅行代理店（経営者）' '遊園地（経営者）' '競艇場（職員）' 'その他住宅［リフォーム］（従業員）'\n",
      " '百貨店（買付担当）' 'スーパー（総務担当）' '自動車備品販売店（経営者）' 'その他専門店［パソコン］（経営者）'\n",
      " '観光型旅館（スタッフ）' 'テーマパーク（職員）' '設計事務所（経営者）' 'その他非製造業［飲食料品卸売業］（経営者）'\n",
      " '電気機械器具製造業（企画担当）' '輸送業（経営者）' '広告業協会（役員）' '広告代理店（経営者）' '公認会計士'\n",
      " 'その他企業［工場施設管理］（従業員）' '金属工業協同組合（職員）' '農林水産業（従業者）' '食料品製造業（経営者）'\n",
      " '食料品製造業（総務担当）' '繊維工業（経営者）' '出版・印刷・同関連産業（経営者）' '電気機械器具製造業（営業担当）'\n",
      " '建設業（企画担当）' '輸送業（従業員）' '金融業（営業担当）' '金融業（広報担当）' '経営コンサルタント'\n",
      " 'その他企業［企画業］（経営者）' '木材木製品製造業（経営者）' '出版・印刷・同関連産業（経理担当）' '土石製品製造販売（従業員）'\n",
      " '一般機械器具製造業（経営者）' 'コピーサービス業（経営者）' '民間職業紹介機関（職員）' 'アウトソーシング企業（社員）'\n",
      " '乗用車販売店（統括）' '観光型ホテル（営業担当）' '都市型ホテル（営業担当）' '旅行代理店（営業担当）' '遊園地（職員）'\n",
      " 'ゴルフ場（業務担当）' '一般小売店［精肉］（経営者）' '一般小売店［家電］（経営者）' '一般小売店［乳業］（経営者）' '百貨店（店長）'\n",
      " 'スーパー（経営企画担当）' 'スーパー（統括）' 'スーパー（商品部担当）' '衣料品専門店（統括）' '家電量販店（営業担当）'\n",
      " '乗用車販売店（販売担当）' '住関連専門店（店長）' '住関連専門店（仕入担当）' '都市型ホテル（支配人）' '旅行代理店（副支店長）'\n",
      " 'タクシー（経営者）' '通信会社（経営者）' '通信会社（局長）' 'ゴルフ場（支配人）' '競輪場（職員）'\n",
      " 'その他レジャー施設［アミューズメント］（職員）' 'その他サービス［イベント企画］（職員）' '衣料品専門店（販売担当）'\n",
      " '乗用車販売店（管理担当）' '高級レストラン（店長）' '旅行代理店（所長）' 'その他サービス［立体駐車場］（従業員）'\n",
      " '設計事務所（所長）' 'その他製造業［環境機器］（経営者）' '食料品製造業（営業統括）' '窯業・土石製品製造業（総務担当）'\n",
      " '電気機械器具製造業（経営者）' '輸送用機械器具製造業（総務担当）' '建設業（開発担当）' '建設業（総務担当）' '金融業（調査担当）'\n",
      " '金融業（経営企画担当）' '広告代理店（営業担当）' '窯業・土石製品製造業（経営者）' '金属製品製造業（経営者）'\n",
      " '一般機械器具製造業（経理担当）' '輸送用機械器具製造業（経営者）' '金融業（役員）' '新聞販売店［広告］（総務担当）'\n",
      " '出版・印刷・同関連産業（営業担当）' '化学工業（経営者）' '通信業（経営者）' '不動産業（経営者）' '不動産業（管理担当）'\n",
      " '社会保険労務士' 'その他サービス業［情報サービス］（経営者）' '食料品製造業（製造担当）' 'その他製造業［宝石・貴金属］（経営者）'\n",
      " '人材派遣会社（経営者）' '人材派遣会社（管理担当）' '求人情報誌製作会社（経営者）' '学校［専門学校］（副校長）'\n",
      " '人材派遣会社（営業担当）' '一般小売店［文房具］（経営者）' '一般小売店［印章］（経営者）' '百貨店（販売管理担当）'\n",
      " 'スーパー（ネット宅配担当）' '家電量販店（営業統括）' '家電量販店（統括）' 'その他小売［雑貨卸］（経営者）'\n",
      " 'その他小売［ゲーム］（開発戦略担当）' '旅行代理店（支店長）' 'タクシー（団体役員）' 'その他レジャー施設（経営企画担当）'\n",
      " 'その他サービス［福祉輸送］（経営者）' 'その他サービス［保険代理店］（経営者）' '一般小売店［家電］（経理担当）'\n",
      " '一般小売店［文具］（販売企画担当）' '一般小売店［茶］（営業担当）' '百貨店（広報担当）' '百貨店（営業企画担当）' '百貨店（副店長）'\n",
      " '百貨店（計画管理担当）' 'スーパー（店員）' 'スーパー（営業担当）' 'スーパー（仕入担当）' 'コンビニ（商品開発担当）'\n",
      " '衣料品専門店（営業担当）' '乗用車販売店（渉外担当）' '住関連専門店（統括）' 'その他専門店［ドラッグストア］（経営者）'\n",
      " 'その他小売［生鮮魚介卸売］（営業）' '通信会社（管理担当）' '通信会社（総務担当）' '通信会社（経営企画担当）' 'ゴルフ場（従業員）'\n",
      " 'パチンコ店（経営者）' 'その他レジャー施設［アミューズメント］（店長）' 'その他サービス［学習塾］（経営者）'\n",
      " 'その他サービス［立体駐車場］（経営者）' '設計事務所（職員）' 'その他住宅［住宅資材］（営業）' '一般小売店［茶］（経営者）'\n",
      " '一般小売店［和菓子］（経営者）' '一般小売店［家具］（経営者）' '一般小売店［祭用品］（経営者）'\n",
      " 'その他レジャー施設［ボウリング場］（支配人）' '一般小売店［食料雑貨］（経営者）' '一般小売店［靴・履物］（店長）' '建設業（営業担当）'\n",
      " '建設業（経理担当）' '金融業（統括）' '不動産業（総務担当）' '税理士' 'その他サービス業［警備］（経営者）'\n",
      " 'その他サービス業［映像制作］（経営者）' '化学工業（従業員）' 'プラスチック製品製造業（経営者）' '精密機械器具製造業（経営者）'\n",
      " 'その他製造業［鞄］（経営者）' 'その他製造業［化粧品］（営業担当）' '通信業（広報担当）' '金融業（従業員）' '金融業（支店長）'\n",
      " '広告代理店（従業員）' 'その他サービス業［情報サービス］（従業員）' '繊維工業（従業員）' 'その他サービス業［廃棄物処理］（経営者）'\n",
      " '出版・印刷・同関連産業（所長）' '輸送業（総務担当）' 'その他サービス業［ソフト開発］（経営者）' '人材派遣会社（支店長）'\n",
      " '求人情報誌製作会社（営業担当）' '民間職業紹介機関（経営者）' '学校［専修学校］（就職担当）' '求人情報誌製作会社（広報担当）'\n",
      " '住関連専門店（営業担当）' '一般小売店［高級精肉］（企画担当）' 'コンビニ（企画担当）' '乗用車販売店（総務担当）'\n",
      " 'その他専門店［雑貨］（店員）' 'その他専門店［貴金属］（営業担当）' 'その他小売［ショッピングセンター］（営業担当）'\n",
      " 'その他飲食［仕出し］（経営者）' '都市型ホテル（経理担当）' '美顔美容室（経営者）' 'その他サービス［語学学校］（経営者）'\n",
      " 'その他サービス［介護サービス］（職員）' 'その他住宅［室内装飾業］（経営者）' '一般小売店［結納品］（経営者）'\n",
      " '一般小売店［生花］（経営者）' '一般小売店［薬局］（経営者）' '一般小売店［贈答品］（経営者）' '一般小売店［自然食品］（経営者）'\n",
      " '一般小売店［果物］（店員）' '一般小売店［和菓子］（企画担当）' '百貨店（販売担当）' '百貨店（経営企画担当）'\n",
      " 'スーパー（商品開発担当）' 'スーパー（販売担当）' '衣料品専門店（販売企画担当）' '乗用車販売店（経理担当）'\n",
      " 'その他小売［ショッピングセンター］（経理担当）' '高級レストラン（役員）' '一般レストラン（従業員）' '観光型ホテル（販売担当）'\n",
      " '都市型ホテル（従業員）' '通信会社（サービス担当）' '観光名所（案内係）' 'ゴルフ場（企画担当）'\n",
      " 'その他住宅［不動産賃貸及び売買］（経営者）' '一般小売店［電気屋］（経営者）' '一般小売店［書店］（経営者）'\n",
      " '一般小売店［酒類］（経営者）' '一般小売店［食品］（経営者）' '百貨店（経理担当）' 'スーパー（販売促進担当）' 'スーパー（営業企画）'\n",
      " '都市型ホテル（経営者）' 'テーマパーク（経営企画担当）' '理美容室（経営者）' 'その他住宅［住宅管理］（経営者）'\n",
      " '一般小売店［時計］（経営者）' '理容室（経営者）' '窯業・土石製品製造業（経理担当）' '食料品製造業（経営企画担当）'\n",
      " '出版・印刷・同関連産業（経営者）\\n' '化学工業（総務秘書）' '窯業・土石製品製造業（社員）' '輸送業（エリア担当）'\n",
      " '通信会社（法人営業担当）' '金融業（法人営業担当）' '企業広告制作業（経営者）' '会計事務所（社会保険労務士）'\n",
      " 'その他サービス業［広告印刷］（従業員）' 'その他非製造業［ソフト開発］（経営者）' 'パルプ・紙・紙加工品製造業（総務担当）'\n",
      " '化学工業（人事担当）' '金属製品製造業（従業員）' '一般機械器具製造業（営業担当）' '輸送用機械器具製造業（品質管理担当）'\n",
      " '輸送用機械器具製造業（総務経理担当）' '輸送用機械器具製造業（経理担当）' '広告代理店（制作担当）' '新聞販売店［広告］（店主）'\n",
      " '行政書士' '会計事務所（職員）' '紙加工品［段ボール］製造業（経営者）' '印刷業（営業担当）' 'その他サービス業［ソフト開発］（社員）'\n",
      " '鉄鋼業（経営者）' '電気機械器具製造業' 'アウトソーシング企業（エリア担当）' '民間職業紹介機関（営業担当）'\n",
      " '学校［専門学校］（就職担当）' '人材派遣会社（経営企画）' '新聞社［求人広告］（営業担当）' 'その他雇用［広告代理店］（求人広告担当）'\n",
      " '一般小売店［精肉］（店長）' '乗用車販売店（役員）' '一般小売店［事務用品］（店員）' '一般小売店［鮮魚］（従業員）'\n",
      " '百貨店（一般顧客訪問担当）' 'コンビニ（店舗管理）' '衣料品専門店（総括）' '家電量販店（管理本部）' '自動車備品販売店（従業員）'\n",
      " 'その他専門店［ガソリンスタンド］（経営者）' 'その他専門店［医薬品］（総務担当）' '一般レストラン（店長）' '通信会社（職員）'\n",
      " '通信会社（役員）' '一般小売店［書籍］（従業員）' 'その他レジャー施設（職員）' 'プラスチック製品製造業（企画担当）'\n",
      " '一般機械器具製造業（総務担当）' '輸送業（配車担当）' '金融業（融資担当）' '新聞販売店［広告］（従業員）' '税理士（所長）'\n",
      " '人材派遣会社（役員）' '一般小売店［事務用品］（経営者）' '百貨店（売場マネージャー）' '百貨店（マネージャー）' '百貨店（商品担当）'\n",
      " 'スーパー（社員）' 'スーパー（企画）' 'コンビニ（店員）' '衣料品専門店（営業・販売担当）'\n",
      " 'その他レジャー施設［イベントホール］（職員）' '住宅販売会社（総務担当）' 'その他住宅［展示場］（従業員）' '一般小売店［花］（経営者）'\n",
      " '一般小売店［精肉］（管理担当）' '一般小売店［鮮魚］（営業担当）' '一般小売店［衣服］（経営者）' '一般小売店［野菜］（店長）'\n",
      " '一般小売店［花］（店長）' '一般小売店［菓子］（営業担当）' '百貨店（サービス担当）' '百貨店（販促担当）' '百貨店（外商担当）'\n",
      " 'スーパー（経理担当）' 'スーパー（広報担当）' 'スーパー（開発担当）' 'その他専門店［食品］（経営者）'\n",
      " 'その他専門店［宝飾品］（販売担当）' '一般レストラン（店員）' 'その他飲食［コーヒーショップ］（店長）' '都市型ホテル（総務担当）'\n",
      " '都市型ホテル（マネージャー）' '都市型ホテル（客室担当）' '観光名所（経理担当）'\n",
      " 'その他レジャー施設［飲食・物販系滞在型施設］（企画担当）' '美容室（店員）' 'その他サービス［マッサージ］（スタッフ）'\n",
      " 'その他サービス［ビデオ・ＣＤレンタル］（エリア担当）' 'その他サービス［生命保険］（営業担当）'\n",
      " 'その他住宅投資の動向を把握できる者［不動産仲介］（経営者）' 'その他住宅［情報誌］（編集者）' '一般小売店［珈琲］（経営者）'\n",
      " '一般小売店［酒］（社員）' 'スーパー（管理担当）' 'コンビニ（広告担当）' '家電量販店（企画担当）' 'その他専門店［宝石］（経営者）'\n",
      " 'その他小売［インターネット通販］（企画担当）' '一般レストラン（経理担当）' '旅行代理店（広報担当）' 'パチンコ店（店員）'\n",
      " 'その他レジャー施設［球場］（経理担当）' '金融業［投資運用業］（代表）' '家具及び木材木製品製造業（営業担当）' '化学工業（企画担当）'\n",
      " '金属製品製造業（管理担当）' 'その他サービス業［店舗開発］（従業員）' 'その他非製造業［衣服卸］（経営者）' '食料品製造業（営業担当）'\n",
      " '食料品製造業（経理担当）' '繊維工業（団体職員）' '繊維工業（総務担当）' 'パルプ・紙・紙加工品製造業（経営者）'\n",
      " '化学工業（管理担当）' '電気機械器具製造業（宣伝担当）' 'その他製造業［履物］（団体職員）' 'その他製造業［事務用品］（営業担当）'\n",
      " '輸送業（営業所長）' '通信業（管理担当）' '不動産業（営業担当）' 'コピーサービス業（店長）' 'その他サービス［自動車修理］（経営者）'\n",
      " 'その他非製造業［機械器具卸］（経営者）' 'その他非製造業［電気業］（営業担当）' '食料品製造業（従業員）'\n",
      " '出版・印刷・同関連産業（情報企画担当）' '金属製品製造業（営業担当）' '一般機械器具製造業（設計担当）' '輸送業（商品管理担当）'\n",
      " '新聞社［求人広告］（管理担当）' '民間職業紹介機関（大学担当）' '民間職業紹介機関（支社長）' '求人情報誌製作会社（企画担当）'\n",
      " '商店街（理事）' '家電量販店（販売担当）' '乗用車販売店（副店長）' '乗用車販売店（業務担当）' 'その他専門店［海産物］（経営者）'\n",
      " 'その他小売［ショッピングセンター］（運営担当）' '一般レストラン（エリア担当）' 'その他飲食［サービスエリア内レストラン］（支配人）'\n",
      " '都市型ホテル（企画担当）' 'テーマパーク（業務担当）' '一般小売店［靴］（経営者）' '一般小売店［酒店］（経営者）'\n",
      " '百貨店（営業推進担当）' '百貨店（購買担当）' 'スーパー（財務担当）' 'スーパー（営業システム担当）' 'コンビニ（副地域ブロック長）'\n",
      " '衣料品専門店（地域ブロック長）' 'その他専門店［和菓子］（経営者）' 'その他専門店［ファッション雑貨］（従業員）'\n",
      " 'その他小売［ショッピングセンター］（支配人）' '観光型ホテル（支配人）' '都市型ホテル（総支配人）' 'テーマパーク（管理担当）'\n",
      " 'ゴルフ場（営業担当）' 'その他サービス［介護サービス］（介護サービス担当）' '住宅販売会社（販売担当）' '住宅販売会社（営業担当）'\n",
      " 'スーパー（業務開発担当）' 'その他専門店［時計］（経営者）' 'その他専門店［布地］（経営者）' '一般レストラン（外食事業担当）'\n",
      " '通信会社（通信事業担当）' '通信会社（広報担当）' '通信会社（工事担当）' '木材木製品製造業（経理担当）' '鉄鋼業（総務担当）'\n",
      " '輸送業（業務担当）' '通信業（営業企画担当）' 'コピーサービス業（管理担当）' '繊維工業（統括担当）' '化学工業（総務担当）'\n",
      " '窯業・土石製品製造業（総務経理担当）' '非鉄金属製造業（経理担当）' '金属製品製造業（総務担当）' '電気機械器具製造業（総務担当）'\n",
      " '輸送用機械器具製造業（経営企画担当）' '輸送用機械器具製造業（財務担当）' '金融業（自動車担当）' '金融業（貸付担当）'\n",
      " 'その他製造業［スポーツ用品］（総務担当）' '求人情報誌製作会社（採用支援担当）' '求人情報誌製作会社（マネジャー）'\n",
      " '職業安定所（雇用開発担当）' '人材派遣会社（支社長）' '人材派遣会社（経営企画担当）' '求人情報誌製作会社（広告担当）'\n",
      " '職業安定所（産業雇用情報担当）' '民間職業紹介機関（人材紹介担当）' '学校［短期大学］（学生支援担当）'\n",
      " 'その他雇用の動向を把握できる者［労働機関］（職員）' '商店街（事務局長）' '一般小売店［文具店］（経営者）' 'コンビニ（商品担当）'\n",
      " '通信会社（企画）' '一般小売店［乾物］（店員）' 'その他小売［ショッピングセンター］（副支配人）' '一般小売店［菓子］（総務担当）'\n",
      " 'コンビニ（総務）' '一般小売店［酒］（販売担当）' '食料品製造業（商品統括）' '電気機械器具製造業（経理）' '建設会社（経理担当）'\n",
      " '通信業（部長）' '鉄鋼業（総務部長）' '人材派遣会社（営業）' '求人情報誌（営業）' '民間職業紹介機関（所長）'\n",
      " '求人情報誌製作会社（従業員）' '一般小売店［精肉］（店員）' '百貨店（営業統括）' 'スーパー（統括者）' 'コンビニ（販売促進担当）'\n",
      " '衣料品専門店（チーフ）' '家電量販店（従業員）' 'その他小売の動向を把握できる者［土産卸売］（従業員）'\n",
      " 'その他小売［ショッピングセンター］（広報担当）' '観光ホテル（総務）' '通信会社（総務局）' '住宅販売会社（代表）'\n",
      " '一般小売店［青果］（店長）' '一般小売店［鮮魚］（店員）' '一般小売店［茶］（販売・事務）' '百貨店（業務担当）'\n",
      " '百貨店（店舗事業計画部）' '百貨店（営業政策担当）' '百貨店（企画）' 'スーパー（業務担当）' 'コンビニ（エリア担当・店長）'\n",
      " '衣料品専門店（取締役）' '家電量販店（総務担当）' '家電量販店（広報・IR担当）' '乗用車販売店（代表）'\n",
      " 'その他専門店［コーヒー豆］（経営者）' 'その他専門店［ガソリンスタンド］（統括）' 'その他専門店［書籍］（地区支配人）'\n",
      " 'その他専門店［書籍］（代表）' 'その他小売の動向を把握できる者［ショッピングセンター］（統括者）' '高級レストラン（社長）'\n",
      " '高級レストラン（専務）' '居酒屋（経営者）' '通信会社（業務担当）' '美容室（店長）'\n",
      " 'その他サービスの動向を把握できる者［介護サービス］（管理担当）' '都市型ホテル（販売担当）' '都市型ホテル（副支配人）'\n",
      " '旅行代理店（企画）' '通信会社（販売部）' '競馬場（職員）' '音楽教室（管理担当）'\n",
      " 'その他サービスの動向を把握できる者［フィットネスクラブ］（営業）' '繊維工業（営業担当）' '金属製品製造業（事業統括）'\n",
      " '電気機械器具製造業（取締役）' '通信業（経理担当）' '新聞社（広告）（担当者）' '経営コンサルタント（社員）'\n",
      " 'その他サービス業［物品リース］（支社長）' '農林水産業（経営者）' '農林水産業（営業）' '家具製造業（従業員）'\n",
      " '精密機械器具製造業（従業員）' 'その他製造業（産業廃物処理業）' '建設業（社員）' '輸送業（総務）' '金融業（営業）'\n",
      " '金融業（得意先担当）' '不動産業' '不動産業（従業員）' '経営コンサルタント（代表取締役）' '輸送用機械器具製造業（営業担当）'\n",
      " '通信業（職員）' 'その他サービス業［設計事務所］（代表取締役）' '職業安定所（職業相談）' '民間職業紹介機関（社員）'\n",
      " '民間職業紹介機関（支店長）' '学校［大学］（就職支援業務）' 'その他専門店［書籍］（店長）' '通信会社（店長）' 'ゴルフ場（経営者）'\n",
      " '一般小売店［菓子］' '百貨店（営業企画）' 'その他専門店［楽器］（経営者）' '住宅販売会社（代表取締役）'\n",
      " '住宅販売会社（総務・企画分野）' 'その他飲食［居酒屋］（経営者）' '観光型ホテル（マーケティング担当）' '輸送業（本社事業本部）'\n",
      " '会計事務所（所長）' '食料品製造業（総務）' '輸送業（代表者）' 'コピーサービス業（営業担当）' '求人情報誌製作会社（総務担当）'\n",
      " '人材派遣会社（総務担当）' '住宅販売会社（役員）' '百貨店（担当者）' 'パチンコ店（役員）' '観光型ホテル（役員）'\n",
      " 'その他サービス業［建設機械リース］（営業担当）' 'スーパー（副店長）' 'ゴルフ場（総務部長）' 'その他サービス［葬祭業］（経営者）'\n",
      " 'その他サービス［貸切バス］（経営者）' '一般小売店［衣料］（経営者）' 'その他専門店［燃料］（従業員）' 'タクシー（役員）'\n",
      " 'その他製造業［消防用品］（営業担当）' '一般小売店［米穀］（経営者）' '一般小売店［傘］（店長）' '旅行代理店（販売促進担当）'\n",
      " '高級レストラン（副支配人）' '高級レストラン（仕入担当）' 'その他飲食［給食・レストラン］（役員）' '家電量販店（経営企画担当）'\n",
      " 'その他専門店［貴金属］（経営企画担当）' 'その他サービス業［ソフト開発］（従業員）' 'その他サービス業［ビルメンテナンス］（経営者）'\n",
      " '一般小売店［書店］（営業担当）' 'スーパー（支店長）' 'スーパー（企画・経営担当）' 'スーパー（人事担当）'\n",
      " '衣料品専門店［紳士服洋品］（売場担当）' 'その他飲食［ワイン輸入］（経営企画担当）' 'その他専門店［書籍］（店員）'\n",
      " '一般レストラン［パン・カフェ］（経営者）' 'その他レジャー［スポーツレジャー紙］（広告担当）' '輸送用機械器具製造業（デザイン担当）'\n",
      " '輸送用機械器具製造業（研修担当）' '不動産業（用地仕入）' '出版・印刷・同関連産業（代表）' '化学工業（営業）'\n",
      " '民間職業紹介機関（窓口担当）' '職業安定所（所長）' '一般小売店［鮮魚］（役員）' '都市型ホテル（役員）' '自動車備品販売店（役員）'\n",
      " '住関連専門店（役員）' 'その他小売［ショッピングセンター］' '一般レストラン（統括）' '通信会社（店舗統括）' 'テーマパーク（役員）'\n",
      " 'その他レジャー施設（総支配人）' 'スーパー（店舗管理）' '精密機械器具製造業（役員）' '建設業（役員）'\n",
      " 'その他飲食［ファーストフード］（店員）' '一般小売店［花］（店員）' 'その他小売［インターネット通販］（オペレーター）'\n",
      " '高級レストラン（企画）' '観光型旅館（団体役員）' '都市型ホテル（管理担当）' '観光名所（企画担当）'\n",
      " 'その他サービス［学習塾］（スタッフ）' '百貨店（服飾品担当）' '一般レストラン（企画）' '一般小売店［貴金属製品］（従業員）'\n",
      " '一般小売店［雑貨］（店長）' 'その他非製造業［民間放送］（従業員）' 'その他非製造業［商社］（営業担当）'\n",
      " '電気機械器具製造業（経理担当）' 'アウトソーシング企業（管理担当）' '一般小売店［紙類］（経営者）' '住宅販売会社（営業所長）'\n",
      " '百貨店（人事担当）' 'コンビニ（支店長）' 'その他小売［ショッピングセンター］（所長）' '高級レストラン（宴会サービス担当）'\n",
      " 'その他飲食［サービスエリア内レストラン］（店長）' '通信会社（販売企画担当）' '観光型ホテル（宿泊担当）' '一般小売店［眼鏡］（経営者）'\n",
      " '輸送業（経理担当）' '金融業（融資企画担当）' '非鉄金属製造業（業務担当）' '百貨店（営業推進）' '旅行代理店（営業部長）'\n",
      " '通信会社（支店長）' '観光遊園地（職員）' '金融業（副支店長）' '木材木製品製造業' '輸送業（営業）' '職業安定所'\n",
      " 'その他小売の動向を把握できる者［ショッピングセンター］（支配人）' '高級レストラン（従業員）' 'ドラッグストア（部長）'\n",
      " '設計事務所（代表）' 'その他専門店［書籍］（副店長）' '観光型ホテル（専務）' '職業安定所（職業紹介）' '百貨店（営業部）'\n",
      " 'スーパー（販売企画担当）' '旅行代理店（マネージャー）' 'その他のサービス［レンタカー］（営業担当）' '求人情報誌製作会社（編集室）'\n",
      " '出版・印刷・同関連産業（従業員）' '出版・印刷・同関連産業（総務担当）' '住関連専門店（店員）'\n",
      " 'その他飲食［自動販売機（飲料）］（管理担当）' '自動車備品販売店（営業担当）' '繊維工業（経営管理担当）' '農林水産業（総務担当）'\n",
      " '通信業（総務担当）' '通信会社（営業）' '新聞社［広告］（担当者）' '百貨店（管理担当）' '新聞社［求人広告］（役員）'\n",
      " 'その他サービス［コインランドリー］（経営者）' '一般小売店［自転車］（店長）' 'テーマパーク（営業担当）' 'スーパー（統括担当）'\n",
      " '一般小売店［鞄・袋物］（経営者）' '百貨店（営業販促担当）' 'その他非製造業［鋼材卸売］（従業員）' '乗用車販売店（本部）'\n",
      " '窯業・土石製品製造業（役員）' '学校［専門学校］' '都市型ホテル（営業）' 'ゴルフ場（総務担当）' 'その他専門店［靴小売業］（経営者）'\n",
      " 'その他飲食［給食・レストラン］（総務）' '一般小売店［生花］（店員）' '衣料品専門店（役員）' 'その他専門店［貴金属］（統括）'\n",
      " '通信会社（経理担当）' 'その他レジャー施設［総合］（経営企画担当）' 'その他住宅［住宅管理・リフォーム］（経営者）'\n",
      " 'その他小売［バイク・福祉車両］（経営者）' 'その他サービス［電力］（経営者）' '金融業（総務担当）' '求人情報誌製作会社（所長）'\n",
      " '衣料品専門店（売場担当）' '家電量販店（フランチャイズ経営者）' 'スーパー（ブロック長）' 'スーパー（商品管理担当）'\n",
      " 'コンビニ（総務担当）' 'テーマパーク職員（総務担当）' '百貨店（計画担当）' 'パルプ・紙・紙加工品製造業（顧問）'\n",
      " '通信業（法人営業担当）' '輸送用機械器具製造業（製造担当）' '人材派遣業（営業担当）' '衣料品専門店（店舗運営）'\n",
      " '住宅販売会社（営業）' '家電量販店（本部）' 'その他レジャー施設［スポーツクラブ］（総支配人）' '食料品製造業（経営企画）'\n",
      " '新聞社［求人広告］（営業）' '家電量販店（人事担当）' '百貨店（販売推進担当）' 'その他専門店［ドラッグストア］（店員）'\n",
      " '観光型旅館（管理担当）' '旅行代理店（役員）' 'その他住宅［住宅設備］（営業担当）' '百貨店（宣伝担当）' '広告代理店（企画担当）'\n",
      " 'その他専門店［土産物］（店長）' 'その他小売［ショッピングセンター］（管理担当）' '繊維工業（監査担当）' '農林水産業（従業員）'\n",
      " '一般機械器具製造業（管理担当）' '学校［短期大学］（進路指導担当）' '学校［大学］（就職支援担当）' '通信会社（技術）'\n",
      " '競輪競馬（マネージャー）' '百貨店（営業統括担当）' '家電量販店（副店長）' '通信会社（営業部長）' '木材木製品製造業（資材購買）'\n",
      " '農林水産業（職員）' '化学工業（所長）' 'その他製造業［産業廃棄物処理業］' 'その他サービス業［コンサルタント］（代表取締役）'\n",
      " 'その他のサービス［レンタカー］（営業）' '百貨店（店舗企画）' 'コンビニ（代表者）' '観光型ホテル（代表取締役）'\n",
      " 'コンビニ（オーナー）' '学校就職担当者' 'その他レジャー施設［鉄道会社］（職員）' '民間職業紹介機関（マネージャー）'\n",
      " '一般機械製造業（経理）' '学校就職担当' 'その他小売の動向を把握できる者［ショッピングセンター］（従業員）'\n",
      " 'その他製造業［産業廃物処理業］' '新聞社［求人広告］（社員）' 'スーパー（販売企画）' 'その他専門店［燃料］（経営者）'\n",
      " '百貨店（業績管理担当）' 'コンビニ（本部管理担当）' '輸送用機械器具製造業（管理担当）' 'その他小売［ショッピングセンター］（経営管理）'\n",
      " '競艇場（企画営業担当）' '一般小売店［洋裁附属品］（経営者）' 'その他専門店［土産物］（経営者）' '会計事務所（経営者）'\n",
      " '百貨店（販売促進）' '衣料品専門店（営業責任者）' 'その他サービス［レンタカー］（営業）' '食料品製造業（団体役員）'\n",
      " '一般小売店［スポーツ用品］（経営者）' 'その他専門店［酒］（営業担当）' '乗用車販売店（エリア担当）' '通信会社（販売担当）'\n",
      " 'ゴルフ練習場（経営者）' 'その他サービス［清掃］（所長）' 'その他レジャー施設［スポーツ施設］（支配人）'\n",
      " 'その他専門店［雑貨］（従業員）' '金融業（渉外・預金担当）' '学校［短期大学］（就職担当）' 'その他専門店［貴金属］（店長）'\n",
      " '不動産業（開発担当）' '職業安定所（次長）' '一般小売店［事務用品］（役員）' '家電量販店（管理担当）'\n",
      " 'その他専門店［スポーツ用品］（経理担当）' 'コンビニ（地域ブロック長）' 'テーマパーク（広報担当）' '百貨店（電算担当）'\n",
      " 'その他レジャー施設（アミューズメント）' '一般機械器具製造業（経理財務担当）' '求人情報誌製作会社（サイト運営担当）' 'スーパー（人事）'\n",
      " 'その他飲食［ファーストフード］（経営者）' '家電量販店（企画・IR担当）' 'スーパー（売場担当）' '金属製品製造業（企画担当）'\n",
      " '食料品生産業（総務）' 'その他企業［協同組合］（職員）' '高級レストラン（経理）' 'その他住宅［室内装飾業］（従業員）'\n",
      " '一般機械器具製造業（経営管理担当）' '輸送業（役員）' '化学工業（営業担当）' '人材派遣会社（企画統括）' '通信業（営業）'\n",
      " 'その他小売［インターネット通販］（経営者）' '職業安定所（事業所担当）' '職業安定所（職業指導担当）' '職業安定所（雇用関連担当）'\n",
      " '家電量販店（物流担当）' '一般レストラン［居酒屋］（経営者）' 'その他サービス業［ビルメンテナンス］（営業担当）'\n",
      " 'アウトソーシング企業（営業担当）' '観光型ホテル（宿泊予約担当）' 'その他専門店［書籍］（経営者）' '百貨店（予実算担当）'\n",
      " '乗用車販売店（営業企画）' '一般小売店［書籍］（営業担当）' '建設業（総務）' '職業安定所（企画事業所部門（求人））'\n",
      " '家電量販店（地区統括）' '一般小売店［惣菜］（店長）' '出版・印刷・同関連産業（営業本部長）' 'サービスの動向を把握できる者'\n",
      " '一般小売店［雑貨］（経営者）' 'スーパー（経営企画）' '一般小売店［食料品］（管理担当）' '精密機械器具製造業（総務担当）'\n",
      " 'その他飲食［ファストフード］（経営者）' 'その他小売［陶器卸］（営業担当）' '木材木製品製造業（経理部次長）' '観光名所'\n",
      " '観光旅館組合（職員）' 'その他レジャー［プロスポーツ］（経営管理担当）' 'その他レジャー施設（支配人）' '一般小売店［菓子］（企画）'\n",
      " 'その他専門店［ガソリンスタンド］（従業員）' 'その他サービス［フィットネスクラブ］（マネージャー）' '通信会社（店員）'\n",
      " '高級レストラン（営業担当）' 'パチンコ店（経理）' '乗用車販売業（営業担当）' '通信業（企画・売上管理）' '職業安定所（求人開発）'\n",
      " 'その他専門店［ドラッグストア］（企画担当）' '輸送業（経営企画室）' 'その他専門店［雑貨］（店長）' '一般小売店［土産］（役員）'\n",
      " '一般小売店［菓子］（経営企画担当）' '一般小売店［コーヒー］（営業担当）' 'その他サービス業［ディスプレイ］（経営者）' '百貨店'\n",
      " '通信会社（技術部）' '住関連販売店（経営者）' '金融業（地域担当）' '金融業（営業職渉外係）'\n",
      " 'その他住宅投資の動向を把握できる者［住宅情報誌］（経営者）' '13590' 'その他レジャー施設［劇場］（職員）'\n",
      " 'その他非製造業［商社］（総務担当）' '広告制作業（経営者）' 'その他飲食［ジャズバー］（店員）' '一般小売店［食料雑貨］（店員）']\n"
     ]
    }
   ],
   "source": [
    "if df5.empty == False: print(\"{}\".format(df5[\"ind\"].unique()))"
   ]
  },
  {
   "cell_type": "code",
   "execution_count": 19,
   "metadata": {
    "ExecuteTime": {
     "end_time": "2018-09-15T07:04:37.969185Z",
     "start_time": "2018-09-15T07:04:37.818520Z"
    }
   },
   "outputs": [],
   "source": [
    "def clean_ind(_df):\n",
    "    _df = _df.dropna(subset=['ind'])\n",
    "    _df = _df[~_df.isin(['－','業種・職種','＊']).any(axis=1)] # 業種･職種はeval処理で消えているが念の為。\n",
    "    return _df\n",
    "\n",
    "df4 = clean_ind(df4)\n",
    "df5 = clean_ind(df5)"
   ]
  },
  {
   "cell_type": "code",
   "execution_count": 20,
   "metadata": {
    "ExecuteTime": {
     "end_time": "2018-09-15T07:04:40.036272Z",
     "start_time": "2018-09-15T07:04:40.021052Z"
    }
   },
   "outputs": [
    {
     "name": "stdout",
     "output_type": "stream",
     "text": [
      "['観光名所（従業員）' 'その他サービスの動向を把握できる者［フェリー］（従業員）' 'スーパー（店長）' '旅行代理店（従業員）'\n",
      " '通信会社（企画担当）' '商店街（代表者）' '一般小売店［酒］（経営者）' 'スーパー（役員）' 'コンビニ（エリア担当）'\n",
      " 'コンビニ（オーナー）' '衣料品専門店（経営者）' '衣料品専門店（店長）' 'その他専門店［ガソリンスタンド］（経営者）'\n",
      " '高級レストラン（経営者）' '高級レストラン（スタッフ）' '観光型ホテル（スタッフ）' 'タクシー運転手' '美容室（経営者）'\n",
      " '百貨店（売場主任）' '家電量販店（店員）' '乗用車販売店（従業員）' '乗用車販売店（役員）' '自動車備品販売店（店長）'\n",
      " '観光型ホテル（役員）' 'パチンコ店（役員）' '住宅販売会社（役員）' '百貨店（販売促進担当）' '家電量販店（地区統括）'\n",
      " 'その他専門店［医薬品］（経営者）' '住宅販売会社（経営者）' 'その他サービス業［ソフトウェア開発］（経営者）' '建設業（従業員）'\n",
      " '輸送業（営業担当）' '輸送業（支店長）' '通信業（営業担当）' '司法書士' '食料品製造業（経営者）' '家具製造業（経営者）'\n",
      " '金融業（企画担当）' 'その他非製造業［鋼材卸売］（役員）' '求人情報誌製作会社（編集者）' '職業安定所（職員）'\n",
      " '学校［大学］（就職担当）' '人材派遣会社（社員）' '新聞社［求人広告］（担当者）' 'スーパー（経営者）' 'コンビニ（店長）'\n",
      " '家電量販店（従業員）' '住関連専門店（経営者）' 'その他専門店［酒］（経営者）' '一般レストラン（経営者）' '観光型旅館（スタッフ）'\n",
      " '観光名所（職員）' '一般小売店［医薬品］（経営者）' '衣料品専門店（総務担当）' '家電量販店（店長）' '自動車備品販売店（経営者）'\n",
      " 'その他専門店［パソコン］（経営者）' 'その他専門店［靴］（従業員）' 'その他専門店［白衣・ユニフォーム］（営業担当）'\n",
      " 'その他専門店［ガソリンスタンド］（営業担当）' '観光型ホテル（経営者）' '都市型ホテル（スタッフ）' '通信会社（営業担当）'\n",
      " '遊園地（経営者）' 'その他サービス［自動車整備業］（経営者）' '設計事務所（経営者）' '一般小売店［書籍］（経営者）'\n",
      " '一般小売店［カメラ］（店長）' '百貨店（総務担当）' '百貨店（買付担当）' '百貨店（経営者）' 'スーパー（営業担当）'\n",
      " 'コンビニ（経営者）' '乗用車販売店（経営者）' '乗用車販売店（店長）' 'その他小売［ショッピングセンター］（統括）'\n",
      " '高級レストラン（支配人）' '旅行代理店（経営者）' 'テーマパーク（職員）' 'その他住宅［リフォーム］（従業員）' '百貨店（営業担当）'\n",
      " '百貨店（売場担当）' '観光型旅館（経営者）' '食料品製造業（総務担当）' '出版・印刷・同関連産業（経理担当）'\n",
      " '電気機械器具製造業（営業担当）' '電気機械器具製造業（企画担当）' '建設業（企画担当）' '金融業（営業担当）' '広告代理店（経営者）'\n",
      " '公認会計士' 'その他企業［工場施設管理］（従業員）' '農林水産業（従業者）' '出版・印刷・同関連産業（経営者）'\n",
      " '土石製品製造販売（従業員）' '建設業（経営者）' '輸送業（経営者）' '金融業（広報担当）' '経営コンサルタント'\n",
      " 'その他企業［企画業］（経営者）' '木材木製品製造業（経営者）' '一般機械器具製造業（経営者）' '広告業協会（役員）'\n",
      " 'コピーサービス業（経営者）' 'その他非製造業［飲食料品卸売業］（経営者）' 'アウトソーシング企業（社員）' '民間職業紹介機関（職員）'\n",
      " 'スーパー（商品部担当）' '乗用車販売店（販売担当）' '観光型ホテル（営業担当）' 'タクシー（役員）' 'ゴルフ場（支配人）'\n",
      " '一般小売店［精肉］（経営者）' 'スーパー（経営企画担当）' '家電量販店（物流担当）' '住関連専門店（仕入担当）' 'スナック（経営者）'\n",
      " '都市型ホテル（営業担当）' '都市型ホテル（副支配人）' '旅行代理店（副支店長）' '競輪場（職員）'\n",
      " 'その他サービス［立体駐車場］（従業員）' 'その他サービス［イベント企画］（職員）' '設計事務所（所長）' '一般小売店［家電］（経営者）'\n",
      " '一般小売店［青果］（店長）' '百貨店（店長）' 'スーパー（総務担当）' 'スーパー（統括）' '高級レストラン（店長）'\n",
      " '旅行代理店（所長）' '旅行代理店（営業担当）' 'タクシー（経営者）' '通信会社（経営者）' 'ゴルフ練習場（経営者）'\n",
      " '一般小売店［衣料］（経営者）' '衣料品専門店（販売担当）' '乗用車販売店（管理担当）' '乗用車販売店（統括）' '住関連専門店（店長）'\n",
      " 'その他製造業［環境機器］（経営者）' '化学工業（経営者）' '輸送用機械器具製造業（経営者）' '輸送用機械器具製造業（総務担当）'\n",
      " '建設業（開発担当）' 'その他サービス業［情報サービス］（経営者）' '食料品製造業（営業統括）' '窯業・土石製品製造業（総務担当）'\n",
      " '電気機械器具製造業（経営者）' '精密機械器具製造業（総務担当）' 'その他製造業［宝石・貴金属］（経営者）' '金融業（経営企画担当）'\n",
      " '金融業（役員）' '広告代理店（営業担当）' '社会保険労務士' '食料品製造業（製造担当）' '建設業（総務担当）' '金融業（調査担当）'\n",
      " '不動産業（経営者）' '新聞販売店［広告］（総務担当）' '窯業・土石製品製造業（経営者）' '不動産業（管理担当）'\n",
      " '人材派遣会社（経営者）' '人材派遣会社（支社長）' '民間職業紹介機関（経営者）' '学校［専門学校］（副校長）'\n",
      " '人材派遣会社（管理担当）' '求人情報誌製作会社（経営者）' '人材派遣会社（営業担当）' 'その他小売［雑貨卸］（経営者）'\n",
      " '一般小売店［家電］（経理担当）' '一般小売店［家具］（経営者）' '百貨店（副店長）' 'スーパー（ネット宅配担当）'\n",
      " '衣料品専門店（営業担当）' '通信会社（局長）' '住宅販売会社（従業員）' '一般小売店［文房具］（経営者）'\n",
      " '一般小売店［印章］（経営者）' '一般小売店［米穀］（経営者）' '一般小売店［文具］（販売企画担当）' '一般小売店［茶］（営業担当）'\n",
      " '百貨店（計画管理担当）' 'スーパー（販売担当）' 'スーパー（仕入担当）' '一般レストラン（スタッフ）' 'タクシー（団体役員）'\n",
      " '通信会社（総務担当）' '通信会社（経営企画担当）' '通信会社（管理担当）' 'ゴルフ場（従業員）' 'パチンコ店（経営者）'\n",
      " 'その他サービス［保険代理店］（経営者）' '設計事務所（職員）' '百貨店（営業企画担当）' '百貨店（販売管理担当）'\n",
      " '家電量販店（営業統括）' '乗用車販売店（営業担当）' '住関連専門店（統括）' 'その他小売［生鮮魚介卸売］（営業）'\n",
      " 'その他小売［ゲーム］（開発戦略担当）' '旅行代理店（支店長）' '通信会社（社員）' 'その他サービス［福祉輸送］（経営者）'\n",
      " 'その他住宅［住宅資材］（営業）' '一般小売店［和菓子］（経営者）' '一般小売店［食料雑貨］（経営者）' '一般小売店［祭用品］（経営者）'\n",
      " '百貨店（広報担当）' '家電量販店（統括）' '家電量販店（経営企画担当）' '乗用車販売店（総務担当）'\n",
      " 'その他専門店［ドラッグストア］（経営者）' '出版・印刷・同関連産業（営業担当）' '建設業（営業担当）' '不動産業（従業員）' '税理士'\n",
      " 'その他サービス業［警備］（経営者）' 'その他サービス業［ソフト開発］（経営者）' 'その他サービス業［情報サービス］（従業員）'\n",
      " '繊維工業（従業員）' 'プラスチック製品製造業（経営者）' '金属製品製造業（経営者）' '精密機械器具製造業（経営者）'\n",
      " 'その他製造業［鞄］（経営者）' '輸送業（総務担当）' '金融業（統括）' '金融業（支店長）' '不動産業（総務担当）'\n",
      " '広告代理店（従業員）' 'その他サービス業［廃棄物処理］（経営者）' 'その他サービス業［映像制作］（経営者）'\n",
      " '出版・印刷・同関連産業（所長）' '建設業（経理担当）' '通信業（広報担当）' '人材派遣会社（支店長）' '求人情報誌製作会社（広報担当）'\n",
      " '学校［専修学校］（就職担当）' '一般小売店［生花］（経営者）' 'スーパー（店員）' 'コンビニ（企画担当）'\n",
      " '衣料品専門店（販売企画担当）' 'その他専門店［雑貨］（店員）' '通信会社（サービス担当）' '一般小売店［高級精肉］（企画担当）'\n",
      " '一般小売店［電気屋］（経営者）' '一般小売店［薬局］（経営者）' '一般小売店［食品］（経営者）' '一般小売店［土産］（経営者）'\n",
      " '一般小売店［贈答品］（経営者）' 'スーパー（販売促進担当）' 'スーパー（商品開発担当）' '衣料品専門店［紳士服洋品］（売場担当）'\n",
      " '住関連専門店（営業担当）' '高級レストラン（役員）' '一般レストラン（従業員）' '観光型ホテル（販売担当）' '都市型ホテル（支配人）'\n",
      " '観光名所（案内係）' 'ゴルフ場（企画担当）' 'その他サービス［介護サービス］（職員）' 'その他住宅［不動産賃貸及び売買］（経営者）'\n",
      " '一般小売店［自然食品］（経営者）' '百貨店（経理担当）' '百貨店（販売担当）' '百貨店（経営企画担当）' 'スーパー（営業企画）'\n",
      " 'その他専門店［貴金属］（営業担当）' 'その他飲食［仕出し］（経営者）' '都市型ホテル（経営者）' 'その他レジャー施設［劇場］（職員）'\n",
      " '理美容室（経営者）' '美顔美容室（経営者）' 'その他住宅［住宅管理］（経営者）' '一般小売店［酒類］（経営者）' '理容室（経営者）'\n",
      " '化学工業（総務秘書）' '化学工業（人事担当）' '窯業・土石製品製造業（社員）' '鉄鋼業（経営者）' '電気機械器具製造業（総務担当）'\n",
      " '輸送業（エリア担当）' '会計事務所（社会保険労務士）' '食料品製造業（経営企画担当）' '金属製品製造業（従業員）'\n",
      " '通信会社（法人営業担当）' '金融業（従業員）' '金融業（法人営業担当）' '広告代理店（制作担当）' '行政書士' '会計事務所（職員）'\n",
      " 'その他サービス業［ソフト開発］（社員）' 'その他非製造業［ソフト開発］（経営者）' 'パルプ・紙・紙加工品製造業（総務担当）'\n",
      " '輸送用機械器具製造業（品質管理担当）' '輸送用機械器具製造業（総務経理担当）' '輸送業（従業員）' '新聞販売店［広告］（店主）'\n",
      " '民間職業紹介機関（営業担当）' 'アウトソーシング企業（エリア担当）' '新聞社［求人広告］（営業担当）'\n",
      " 'その他雇用［広告代理店］（求人広告担当）' '一般小売店［鮮魚］（従業員）' 'その他小売［ショッピングセンター］' '一般レストラン（店長）'\n",
      " '通信会社（役員）' '一般小売店［精肉］（店長）' '衣料品専門店（総括）' '一般レストラン（統括）' '都市型ホテル（役員）'\n",
      " '一般小売店［事務用品］（店員）' '一般小売店［書籍］（従業員）' 'コンビニ（店舗管理）' '乗用車販売店（経理担当）'\n",
      " '自動車備品販売店（従業員）' '通信会社（店舗統括）' 'その他レジャー施設（職員）' '一般機械器具製造業（総務担当）'\n",
      " '繊維工業（経営者）' '化学工業（総務担当）' 'プラスチック製品製造業（企画担当）' '金融業（融資担当）' '新聞販売店［広告］（従業員）'\n",
      " '食料品製造業（役員）' '輸送業（配車担当）' '人材派遣会社（役員）' '新聞社［求人広告］（役員）' '一般小売店［時計］（経営者）'\n",
      " '一般小売店［鮮魚］（営業担当）' 'スーパー（経理担当）' 'スーパー（社員）' 'コンビニ（広告担当）' '一般レストラン（経理担当）'\n",
      " 'その他飲食［コーヒーショップ］（店長）' '旅行代理店（店長）' 'その他レジャー施設［イベントホール］（職員）'\n",
      " '一般小売店［菓子］（経営企画担当）' '一般小売店［衣服］（経営者）' '一般小売店［野菜］（店長）' '百貨店（商品担当）'\n",
      " 'スーパー（広報担当）' 'コンビニ（店員）' '乗用車販売店（営業企画）' 'その他専門店［食品］（経営者）'\n",
      " 'その他専門店［宝飾品］（販売担当）' 'その他専門店［スポーツ用品］（経理担当）' 'その他小売［インターネット通販］（企画担当）'\n",
      " '一般レストラン（店員）' '観光型旅館（団体役員）' '都市型ホテル（マネージャー）' '都市型ホテル（客室担当）' 'パチンコ店（店員）'\n",
      " '競艇場（職員）' '美容室（店員）' 'その他サービス［ビデオ・ＣＤレンタル］（エリア担当）' '住宅販売会社（総務担当）'\n",
      " 'その他住宅投資の動向を把握できる者［不動産仲介］（経営者）' '一般小売店［珈琲］（経営者）' '一般小売店［精肉］（管理担当）'\n",
      " '一般小売店［花］（店長）' '一般小売店［雑貨］（店長）' '一般小売店［菓子］（営業担当）' '百貨店（企画担当）'\n",
      " '百貨店（サービス担当）' '百貨店（売場マネージャー）' '百貨店（マネージャー）' '百貨店（外商担当）' 'スーパー（企画担当）'\n",
      " 'スーパー（管理担当）' '家電量販店（経営者）' '住関連専門店（店員）' '都市型ホテル（総務担当）' '旅行代理店（広報担当）'\n",
      " '観光名所（経理担当）' 'その他住宅［情報誌］（編集者）' '一般小売店［花］（店員）' '百貨店（服飾品担当）' '百貨店（販促担当）'\n",
      " '家電量販店（企画担当）' 'その他専門店［宝石］（経営者）' '美容室（店長）' 'その他住宅［展示場］（従業員）' '食料品製造業（従業員）'\n",
      " '輸送用機械器具製造業（経理担当）' '金融業［投資運用業］（代表）' 'その他非製造業［商社］（営業担当）' '食料品製造業（営業担当）'\n",
      " '食料品製造業（経理担当）' '繊維工業（総務担当）' 'パルプ・紙・紙加工品製造業（経営者）' '化学工業（管理担当）'\n",
      " '金属製品製造業（管理担当）' 'その他製造業［事務用品］（営業担当）' '通信業（管理担当）' '不動産業（営業担当）'\n",
      " 'コピーサービス業（店長）' 'その他サービス［自動車修理］（経営者）' 'その他非製造業［機械器具卸］（経営者）' '繊維工業（団体職員）'\n",
      " '出版・印刷・同関連産業（情報企画担当）' '金属製品製造業（営業担当）' '電気機械器具製造業（宣伝担当）' '輸送業（商品管理担当）'\n",
      " 'その他サービス業［店舗開発］（従業員）' 'その他サービス業［ビルメンテナンス］（営業担当）' 'その他非製造業［電気業］（営業担当）'\n",
      " 'アウトソーシング企業（営業担当）' '民間職業紹介機関（大学担当）' '新聞社［求人広告］（管理担当）' 'コンビニ（副地域ブロック長）'\n",
      " 'その他小売［ショッピングセンター］（運営担当）' 'ゴルフ場（営業担当）' '一般小売店［酒店］（経営者）' 'スーパー（業務開発担当）'\n",
      " '家電量販店（販売担当）' 'その他専門店［時計］（経営者）' 'その他専門店［海産物］（経営者）' '一般レストラン（外食事業担当）'\n",
      " '通信会社（広報担当）' 'テーマパーク（管理担当）' 'テーマパーク（営業担当）' '住宅販売会社（販売担当）' '商店街（理事）'\n",
      " '一般小売店［茶］（経営者）' '一般小売店［紙類］（経営者）' 'その他専門店［和菓子］（経営者）' 'その他専門店［布地］（経営者）'\n",
      " 'その他小売［ショッピングセンター］（所長）' '観光型ホテル（宿泊予約担当）' '都市型ホテル（企画担当）' '都市型ホテル（総支配人）'\n",
      " 'その他サービス［介護サービス］（介護サービス担当）' '百貨店（購買担当）' 'スーパー（財務担当）' '衣料品専門店（地域ブロック長）'\n",
      " 'その他専門店［ファッション雑貨］（従業員）' 'その他飲食［サービスエリア内レストラン］（支配人）' '観光型ホテル（支配人）'\n",
      " '輸送用機械器具製造業（財務担当）' '金融業（自動車担当）' '木材木製品製造業（経理担当）' '窯業・土石製品製造業（総務経理担当）'\n",
      " '鉄鋼業（総務担当）' '非鉄金属製造業（経理担当）' '金属製品製造業（総務担当）' '輸送用機械器具製造業（経営企画担当）'\n",
      " 'その他製造業［スポーツ用品］（総務担当）' '輸送業（経理担当）' '通信業（営業企画担当）' '金融業（貸付担当）'\n",
      " '人材派遣会社（経営企画担当）' '求人情報誌製作会社（採用支援担当）' '職業安定所（雇用開発担当）' '職業安定所（産業雇用情報担当）'\n",
      " '求人情報誌製作会社（広告担当）' '学校［短期大学］（学生支援担当）' 'その他雇用の動向を把握できる者［労働機関］（職員）'\n",
      " '通信会社（企画）' '商店街（事務局長）' '一般小売店［書籍］（営業担当）' 'その他飲食［ファストフード］（経営者）'\n",
      " 'スーパー（統括担当）' 'その他小売［ショッピングセンター］（副支配人）' '一般小売店［乾物］（店員）' '一般小売店［酒］（販売担当）'\n",
      " 'コンビニ（総務）' 'その他小売［ショッピングセンター］（支配人）' '一般機械器具製造業（経理担当）' '鉄鋼業（総務部長）'\n",
      " '通信業（部長）' '建設会社（経理担当）' '輸送業（営業）' '電気機械器具製造業（経理）' '求人情報誌（営業）' '人材派遣会社（営業）'\n",
      " '民間職業紹介機関（所長）' '一般小売店［精肉］（店員）' '百貨店（営業統括）' '百貨店（業務担当）'\n",
      " 'その他専門店［コーヒー豆］（経営者）' '高級レストラン（従業員）' '住宅販売会社（代表）' '一般小売店［茶］（販売・事務）'\n",
      " '百貨店（店舗事業計画部）' 'スーパー（業務担当）' 'その他専門店［ガソリンスタンド］（統括）'\n",
      " 'その他小売の動向を把握できる者［ショッピングセンター］（統括者）' '通信会社（総務局）' '音楽教室（管理担当）' '百貨店（営業政策担当）'\n",
      " '百貨店（企画）' 'スーパー（統括者）' 'コンビニ（販売促進担当）' '衣料品専門店（店員）' '衣料品専門店（取締役）'\n",
      " '衣料品専門店（チーフ）' '家電量販店（広報・IR担当）' '高級レストラン（専務）' '通信会社（業務担当）'\n",
      " 'その他サービスの動向を把握できる者［介護サービス］（管理担当）' '設計事務所（代表）' '一般小売店［鮮魚］（店員）'\n",
      " '家電量販店（総務担当）' 'その他小売の動向を把握できる者［土産卸売］（従業員）' '居酒屋（経営者）' '都市型ホテル（販売担当）'\n",
      " '繊維工業（営業担当）' '家具製造業（従業員）' '電気機械器具製造業（取締役）' '金融業（営業）' '経営コンサルタント（社員）'\n",
      " 'その他サービス業［物品リース］（支社長）' 'その他サービス業［設計事務所］（代表取締役）' '農林水産業（経営者）' '農林水産業（営業）'\n",
      " '金属製品製造業（事業統括）' 'その他製造業（産業廃物処理業）' '通信業（経理担当）' '金融業（得意先担当）' '新聞社（広告）（担当者）'\n",
      " '経営コンサルタント（代表取締役）' '建設業（社員）' '輸送業（総務）' '学校［大学］（就職支援業務）' '民間職業紹介機関（社員）'\n",
      " '民間職業紹介機関（支店長）' '学校［専門学校］（就職担当）' '一般小売店［菓子］' 'その他専門店［書籍］（店長）' 'ゴルフ場（経営者）'\n",
      " 'その他のサービス［レンタカー］（営業担当）' '住宅販売会社（代表取締役）' '住宅販売会社（営業担当）' 'その他専門店［楽器］（経営者）'\n",
      " '観光型ホテル（マーケティング担当）' 'その他飲食［居酒屋］（経営者）' '旅行代理店（マネージャー）' '通信会社（店長）'\n",
      " '百貨店（営業企画）' 'スーパー（販売企画担当）' '食料品製造業（総務）' '人材派遣会社（総務担当）' '百貨店（担当者）'\n",
      " '百貨店（営業販促担当）' '建設業（役員）' 'その他非製造業［鋼材卸売］（従業員）' 'コピーサービス業（従業員）'\n",
      " 'その他サービス業［建設機械レンタル］（総務担当）' '一般小売店［寝具］（経営者）' '乗用車販売店（本部）' '窯業・土石製品製造業（役員）'\n",
      " 'その他飲食［給食・レストラン］（総務）' '都市型ホテル（営業）' 'ゴルフ場（総務担当）' '家電量販店（営業担当）'\n",
      " 'その他専門店［靴小売業］（経営者）' 'その他専門店［燃料］（従業員）' '一般小売店［傘］（店長）' 'コンビニ（商品開発担当）'\n",
      " '衣料品専門店（役員）' '旅行代理店（販売促進担当）' 'その他レジャー施設［ボウリング場］（支配人）' '一般小売店［生花］（店員）'\n",
      " '高級レストラン（仕入担当）' 'その他飲食［給食・レストラン］（役員）' '通信会社（経理担当）' 'その他サービス［電力］（経営者）'\n",
      " 'その他住宅［住宅管理・リフォーム］（経営者）' 'その他専門店［貴金属］（統括）' 'その他サービス業［ソフト開発］（従業員）'\n",
      " '金融業（総務担当）' '求人情報誌製作会社（所長）' 'その他サービス［葬祭業］（経営者）' '一般小売店［書店］（営業担当）'\n",
      " '百貨店（業績管理担当）' '高級レストラン（経理）' 'その他レジャー施設［鉄道会社］（職員）' '一般小売店［結納品］（経営者）'\n",
      " '百貨店（計画担当）' 'スーパー（商品管理担当）' 'コンビニ（本部管理担当）' '衣料品専門店（売場担当）'\n",
      " '家電量販店（フランチャイズ経営者）' 'その他専門店［書籍］（店員）' 'その他小売［ショッピングセンター］（経理担当）'\n",
      " 'その他飲食［ワイン輸入］（経営企画担当）' 'テーマパーク職員（総務担当）' 'スーパー（ブロック長）' 'パルプ・紙・紙加工品製造業（顧問）'\n",
      " '一般機械器具製造業（営業担当）' '輸送用機械器具製造業（製造担当）' '輸送業（役員）' '通信業（法人営業担当）' '不動産業（用地仕入）'\n",
      " '化学工業（営業担当）' '通信業（総務担当）' '人材派遣会社（経営企画）' '人材派遣業（営業担当）' '人材派遣会社（企画統括）'\n",
      " '職業安定所（所長）' '職業安定所（次長）' '衣料品専門店（店舗運営）' 'テーマパーク（役員）' '住宅販売会社（営業）'\n",
      " '一般小売店［鮮魚］（役員）' '自動車備品販売店（役員）' '住関連専門店（役員）' 'その他レジャー施設［スポーツクラブ］（総支配人）'\n",
      " '税理士（所長）' '食料品製造業（経営企画）' '精密機械器具製造業（役員）' '通信業（営業）' '新聞社［求人広告］（営業）'\n",
      " '一般小売店［事務用品］（経営者）' 'その他専門店［ドラッグストア］（店員）' '都市型ホテル（管理担当）' '旅行代理店（役員）'\n",
      " 'その他住宅［住宅設備］（営業担当）' '百貨店（役員）' '百貨店（宣伝担当）' 'スーパー（開発担当）' '高級レストラン（企画）'\n",
      " '一般レストラン（企画）' 'その他飲食［自動販売機（飲料）］（管理担当）' '百貨店（販売推進担当）' '家電量販店（人事担当）'\n",
      " 'その他小売［インターネット通販］（経営者）' '広告代理店（企画担当）' '金融業（副支店長）' 'アウトソーシング企業（管理担当）'\n",
      " 'テーマパーク（業務担当）' '一般小売店［洋裁附属品］（経営者）' '一般小売店［眼鏡］（経営者）' '一般小売店［靴］（経営者）'\n",
      " '通信会社（工事担当）' '百貨店（人事担当）' 'その他専門店［土産物］（経営者）' 'その他小売［ショッピングセンター］（管理担当）'\n",
      " '高級レストラン（宴会サービス担当）' '競艇場（企画営業担当）' '繊維工業（監査担当）' '非鉄金属製造業（業務担当）'\n",
      " '金融業（融資企画担当）' '会計事務所（経営者）' '農林水産業（従業員）' '職業安定所（事業所担当）' '職業安定所（雇用関連担当）'\n",
      " '民間職業紹介機関（人材紹介担当）' '学校［短期大学］（進路指導担当）' 'コンビニ（商品担当）' '通信会社（技術）'\n",
      " '百貨店（営業統括担当）' '衣料品専門店（営業責任者）' '通信会社（支店長）' '家電量販店（副店長）' '通信会社（営業部長）'\n",
      " '競輪競馬（マネージャー）' '食料品製造業（商品統括）' '木材木製品製造業（資材購買）' '農林水産業（職員）'\n",
      " 'コンビニ（エリア担当・店長）' '旅行代理店（企画）' '学習塾（従業員）'\n",
      " 'その他サービスの動向を把握できる者［フィットネスクラブ］（営業）' 'その他小売の動向を把握できる者［ショッピングセンター］（支配人）'\n",
      " 'その他製造業［産業廃棄物処理業］' '輸送用機械器具製造業（営業担当）' '新聞社［広告］（担当者）'\n",
      " 'その他サービス業［コンサルタント］（代表取締役）' '新聞社［求人広告］（社員）' 'その他サービス［レンタカー］（営業）'\n",
      " '一般小売店［鞄・袋物］（経営者）' '百貨店（店舗企画）' 'コンビニ（代表者）' '観光型ホテル（代表取締役）' '会計事務所（所長）'\n",
      " '求人情報誌製作会社（編集室）' 'その他サービス業［建設機械リース］（営業担当）' '衣料品専門店（統括）' '遊園地（職員）'\n",
      " 'その他専門店［貴金属］（経営企画担当）' '高級レストラン（副支配人）' '金融業（渉外・預金担当）' '求人情報誌製作会社（営業担当）'\n",
      " '一般レストラン［パン・カフェ］（経営者）' 'スーパー（企画・経営担当）' 'スーパー（人事担当）' '企業広告制作業（経営者）'\n",
      " '民間職業紹介機関（窓口担当）' 'スーパー（店舗管理）' '家電量販店（本部）' 'その他レジャー施設（総支配人）'\n",
      " '一般小売店［酒］（社員）' 'スーパー（企画）' 'その他小売［インターネット通販］（オペレーター）' '輸送業（営業所長）'\n",
      " 'その他専門店［土産物］（店長）' 'その他飲食［サービスエリア内レストラン］（店長）' '通信会社（販売企画担当）'\n",
      " 'スーパー（営業システム担当）' 'コンビニ（支店長）' '学校［大学］（就職支援担当）' '旅行代理店（営業部長）' '化学工業（所長）'\n",
      " 'ドラッグストア（部長）' 'その他製造業［産業廃物処理業］' '職業安定所（職業紹介）' 'スーパー（販売企画）'\n",
      " 'その他サービス業［建設機械リース］（支店長）' 'ゴルフ場（総務部長）' 'スーパー（副店長）' 'その他サービス［学習塾］（経営者）'\n",
      " '一般小売店［靴・履物］（店長）' 'その他サービス業［ビルメンテナンス］（経営者）' 'テーマパーク（経営企画担当）'\n",
      " '一般小売店［書店］（経営者）' '出版・印刷・同関連産業（代表）' '民間職業紹介機関（支社長）' '自動車備品販売店（営業担当）'\n",
      " '観光型ホテル（宿泊担当）' '繊維工業（経営管理担当）' '一般機械器具製造業（経理財務担当）' '木材木製品製造業' '職業安定所'\n",
      " '観光旅館組合（職員）' '観光型ホテル（専務）' 'その他小売［ショッピングセンター］（広報担当）' '百貨店（営業部）'\n",
      " '家電量販店（地区統括部長）' 'ゴルフ場（業務担当）' 'その他専門店［雑貨］（従業員）' 'その他製造業［化粧品］（営業担当）'\n",
      " '都市型ホテル（従業員）' '紙加工品［段ボール］製造業（経営者）' 'その他専門店［医薬品］（総務担当）' '通信会社（職員）'\n",
      " '衣料品専門店（営業・販売担当）' '一般小売店［自転車］（店長）' 'その他レジャー施設［飲食・物販系滞在型施設］（企画担当）'\n",
      " '電気機械器具製造業（経理担当）' '百貨店（電算担当）' '輸送業（業務担当）' '農林水産業（総務担当）'\n",
      " 'その他専門店［書籍］（地区支配人）' '高級レストラン（社長）' '精密機械器具製造業（従業員）' '不動産業'\n",
      " '住宅販売会社（総務・企画分野）' '輸送業（本社事業本部）' '学校就職担当者' 'その他レジャー施設（経営企画担当）' '化学工業（営業）'\n",
      " '輸送用機械器具製造業（デザイン担当）' '観光型旅館（管理担当）' '観光名所（企画担当）' '民間職業紹介機関（マネージャー）'\n",
      " '百貨店（営業推進担当）' '観光名所' '観光ホテル（総務）' '通信会社（営業）' '競馬場（職員）' '食料品製造業（団体役員）'\n",
      " 'スーパー（物流担当）' 'その他専門店［酒］（営業担当）' 'その他専門店［ガソリンスタンド］（従業員）' 'その他サービス［清掃］（所長）'\n",
      " 'その他レジャー施設［アミューズメント］（職員）' 'その他レジャー施設［アミューズメント］（店長）' '出版・印刷・同関連産業（総務担当）'\n",
      " '学校［短期大学］（就職担当）' 'スーパー（支店長）' 'その他小売［ショッピングセンター］（営業担当）' 'その他専門店［貴金属］（店長）'\n",
      " '電気機械器具製造業' 'その他サービス業［広告印刷］（従業員）' '出版・印刷・同関連産業（経営者）\\n' '化学工業（企画担当）'\n",
      " '一般小売店［事務用品］（役員）' '家電量販店（管理本部）' '一般小売店［食料品］（管理担当）'\n",
      " 'その他サービス［コインランドリー］（経営者）' 'その他非製造業［民間放送］（従業員）' '一般機械器具製造業（設計担当）'\n",
      " 'テーマパーク（広報担当）' 'その他レジャー施設（アミューズメント）' 'コンビニ（地域ブロック長）' '乗用車販売店（副店長）'\n",
      " '一般レストラン（エリア担当）' '繊維工業（統括担当）' '求人情報誌製作会社（サイト運営担当）' 'その他飲食［ファーストフード］（経営者）'\n",
      " 'スーパー（人事）' '一般小売店［菓子］（総務担当）' '食料品生産業（総務）' '印刷業（営業担当）' '通信会社（販売部）'\n",
      " '乗用車販売店（代表）' '輸送業（代表者）' 'その他小売［ショッピングセンター］（経営管理）' 'その他サービス［学習塾］（スタッフ）'\n",
      " '一般小売店［文具店］（経営者）' '百貨店（販売促進）' 'その他専門店［雑貨］（店長）' 'その他レジャー［スポーツレジャー紙］（広告担当）'\n",
      " 'その他非製造業［衣服卸］（経営者）' '一般小売店［惣菜］（店長）' '輸送用機械器具製造業（研修担当）' '一般小売店［花］（経営者）'\n",
      " '建設業（総務）' 'その他専門店［書籍］（副店長）' '化学工業（従業員）' 'スーパー（経営企画）' 'サービスの動向を把握できる者'\n",
      " '学校［専門学校］' '百貨店（一般顧客訪問担当）' '職業安定所（企画事業所部門（求人））' '一般小売店［スポーツ用品］（経営者）'\n",
      " '出版・印刷・同関連産業（営業本部長）' '一般小売店［貴金属製品］（従業員）' '観光遊園地（職員）' '不動産業（開発担当）'\n",
      " '求人情報誌製作会社（マネジャー）' 'その他サービス［貸切バス］（経営者）' 'その他サービス業［ディスプレイ］（経営者）'\n",
      " '石油製品・石炭製品製造業（生産管理）' '乗用車販売店（渉外担当）' '求人情報誌製作会社（企画担当）' '金融業（営業職渉外係）'\n",
      " '職業安定所（職業相談）' 'その他非製造業［商社］（総務担当）' '広告制作業（経営者）' '乗用車販売業（営業担当）'\n",
      " '通信業（企画・売上管理）' '職業安定所（求人開発）' '輸送業（経営企画室）' '一般小売店［土産］（役員）'\n",
      " '一般レストラン［居酒屋］（経営者）' '一般小売店［コーヒー］（営業担当）' 'コピーサービス業（管理担当）'\n",
      " '一般機械器具製造業（管理担当）' 'その他サービス［語学学校］（経営者）' '乗用車販売店（エリア担当）' '通信会社（販売担当）'\n",
      " '家電量販店（企画・IR担当）' '一般小売店［和菓子］（企画担当）' '窯業・土石製品製造業（経理担当）'\n",
      " 'その他レジャー［プロスポーツ］（経営管理担当）' 'その他レジャー施設（支配人）' '求人情報誌製作会社（従業員）' '百貨店（予実算担当）'\n",
      " '通信業（経営者）' 'その他サービス［立体駐車場］（経営者）' '住宅販売会社（営業所長）' '職業安定所（職業指導担当）'\n",
      " '出版・印刷・同関連産業（従業員）' 'その他住宅［室内装飾業］（経営者）' '木材木製品製造業（経理部次長）'\n",
      " 'その他小売［陶器卸］（営業担当）' '金属製品製造業（役員）' 'その他製造業［履物］（団体職員）' '一般小売店［文具］（販売企画担当）\\n'\n",
      " '一般小売店［果物］（店員）' '金融業（地域担当）' 'その他小売［バイク・福祉車両］（経営者）' '高級レストラン（営業担当）'\n",
      " '求人情報誌製作会社（総務担当）' 'パチンコ店（経理）' 'コンビニ（総務担当）' 'その他のサービス［レンタカー］（営業）'\n",
      " 'その他小売の動向を把握できる者［ショッピングセンター］（従業員）' '百貨店' '通信会社（技術部）' '学校就職担当' '通信業（職員）'\n",
      " '一般小売店［食料雑貨］（店員）' '家電量販店（管理担当）' 'その他専門店［造花］（店長）']\n"
     ]
    }
   ],
   "source": [
    "if df4.empty == False: print(\"{}\".format(df4[\"ind\"].unique()))"
   ]
  },
  {
   "cell_type": "code",
   "execution_count": 21,
   "metadata": {
    "ExecuteTime": {
     "end_time": "2018-09-15T07:04:43.059773Z",
     "start_time": "2018-09-15T07:04:43.042832Z"
    }
   },
   "outputs": [
    {
     "name": "stdout",
     "output_type": "stream",
     "text": [
      "['商店街（代表者）' '一般小売店［土産］（経営者）' '百貨店（売場主任）' '百貨店（販売促進担当）' 'スーパー（店長）'\n",
      " 'スーパー（役員）' 'コンビニ（エリア担当）' '衣料品専門店（店員）' '家電量販店（経営者）' '家電量販店（地区統括部長）'\n",
      " '乗用車販売店（従業員）' '乗用車販売店（営業担当）' '観光型ホテル（スタッフ）' '旅行代理店（従業員）' 'タクシー運転手'\n",
      " '通信会社（企画担当）' '観光名所（従業員）' '一般小売店［酒］（経営者）' '百貨店（役員）' '衣料品専門店（店長）'\n",
      " '家電量販店（店員）' '自動車備品販売店（店長）' 'その他専門店［造花］（店長）' '高級レストラン（経営者）'\n",
      " '高級レストラン（スタッフ）' 'スナック（経営者）' '通信会社（社員）' '観光名所（職員）' '美容室（経営者）'\n",
      " '住宅販売会社（経営者）' '住宅販売会社（従業員）' 'スーパー（企画担当）' 'その他専門店［医薬品］（経営者）'\n",
      " '一般レストラン（スタッフ）' '観光型ホテル（経営者）' 'その他サービスの動向を把握できる者［フェリー］（従業員）' '輸送業（支店長）'\n",
      " 'その他サービス業［建設機械レンタル］（総務担当）' '建設業（経営者）' '金融業（企画担当）' 'コピーサービス業（従業員）'\n",
      " 'その他サービス業［建設機械リース］（支店長）' 'その他非製造業［鋼材卸売］（役員）' '食料品製造業（役員）' '家具製造業（経営者）'\n",
      " '金属製品製造業（役員）' '通信業（営業担当）' '司法書士' 'その他サービス業［ソフトウェア開発］（経営者）' '建設業（従業員）'\n",
      " '輸送業（営業担当）' '求人情報誌製作会社（編集者）' '職業安定所（職員）' '人材派遣会社（社員）' '新聞社［求人広告］（担当者）'\n",
      " '学校［大学］（就職担当）' '百貨店（営業担当）' '百貨店（経営者）' 'コンビニ（経営者）' '衣料品専門店（経営者）'\n",
      " '家電量販店（店長）' '乗用車販売店（経営者）' '乗用車販売店（店長）' '住関連専門店（経営者）'\n",
      " 'その他専門店［白衣・ユニフォーム］（営業担当）' '高級レストラン（支配人）' '一般レストラン（経営者）' '都市型ホテル（スタッフ）'\n",
      " '旅行代理店（店長）' '通信会社（営業担当）' 'その他サービス［自動車整備業］（経営者）' '一般小売店［書籍］（経営者）'\n",
      " '一般小売店［医薬品］（経営者）' '一般小売店［寝具］（経営者）' '百貨店（総務担当）' '百貨店（企画担当）' '百貨店（売場担当）'\n",
      " 'スーパー（経営者）' 'スーパー（物流担当）' 'コンビニ（店長）' '衣料品専門店（総務担当）' 'その他専門店［酒］（経営者）'\n",
      " 'その他専門店［靴］（従業員）' 'その他専門店［ガソリンスタンド］（営業担当）' 'その他小売［ショッピングセンター］（統括）'\n",
      " '観光型旅館（経営者）' '旅行代理店（経営者）' '遊園地（経営者）' '競艇場（職員）' 'その他住宅［リフォーム］（従業員）'\n",
      " '百貨店（買付担当）' 'スーパー（総務担当）' '自動車備品販売店（経営者）' 'その他専門店［パソコン］（経営者）'\n",
      " '観光型旅館（スタッフ）' 'テーマパーク（職員）' '設計事務所（経営者）' 'その他非製造業［飲食料品卸売業］（経営者）'\n",
      " '電気機械器具製造業（企画担当）' '輸送業（経営者）' '広告業協会（役員）' '広告代理店（経営者）' '公認会計士'\n",
      " 'その他企業［工場施設管理］（従業員）' '金属工業協同組合（職員）' '農林水産業（従業者）' '食料品製造業（経営者）'\n",
      " '食料品製造業（総務担当）' '繊維工業（経営者）' '出版・印刷・同関連産業（経営者）' '電気機械器具製造業（営業担当）'\n",
      " '建設業（企画担当）' '輸送業（従業員）' '金融業（営業担当）' '金融業（広報担当）' '経営コンサルタント'\n",
      " 'その他企業［企画業］（経営者）' '木材木製品製造業（経営者）' '出版・印刷・同関連産業（経理担当）' '土石製品製造販売（従業員）'\n",
      " '一般機械器具製造業（経営者）' 'コピーサービス業（経営者）' '民間職業紹介機関（職員）' 'アウトソーシング企業（社員）'\n",
      " '乗用車販売店（統括）' '観光型ホテル（営業担当）' '都市型ホテル（営業担当）' '旅行代理店（営業担当）' '遊園地（職員）'\n",
      " 'ゴルフ場（業務担当）' '一般小売店［精肉］（経営者）' '一般小売店［家電］（経営者）' '一般小売店［乳業］（経営者）' '百貨店（店長）'\n",
      " 'スーパー（経営企画担当）' 'スーパー（統括）' 'スーパー（商品部担当）' '衣料品専門店（統括）' '家電量販店（営業担当）'\n",
      " '乗用車販売店（販売担当）' '住関連専門店（店長）' '住関連専門店（仕入担当）' '都市型ホテル（支配人）' '旅行代理店（副支店長）'\n",
      " 'タクシー（経営者）' '通信会社（経営者）' '通信会社（局長）' 'ゴルフ場（支配人）' '競輪場（職員）'\n",
      " 'その他レジャー施設［アミューズメント］（職員）' 'その他サービス［イベント企画］（職員）' '衣料品専門店（販売担当）'\n",
      " '乗用車販売店（管理担当）' '高級レストラン（店長）' '旅行代理店（所長）' 'その他サービス［立体駐車場］（従業員）'\n",
      " '設計事務所（所長）' 'その他製造業［環境機器］（経営者）' '食料品製造業（営業統括）' '窯業・土石製品製造業（総務担当）'\n",
      " '電気機械器具製造業（経営者）' '輸送用機械器具製造業（総務担当）' '建設業（開発担当）' '建設業（総務担当）' '金融業（調査担当）'\n",
      " '金融業（経営企画担当）' '広告代理店（営業担当）' '窯業・土石製品製造業（経営者）' '金属製品製造業（経営者）'\n",
      " '一般機械器具製造業（経理担当）' '輸送用機械器具製造業（経営者）' '金融業（役員）' '新聞販売店［広告］（総務担当）'\n",
      " '出版・印刷・同関連産業（営業担当）' '化学工業（経営者）' '通信業（経営者）' '不動産業（経営者）' '不動産業（管理担当）'\n",
      " '社会保険労務士' 'その他サービス業［情報サービス］（経営者）' '食料品製造業（製造担当）' 'その他製造業［宝石・貴金属］（経営者）'\n",
      " '人材派遣会社（経営者）' '人材派遣会社（管理担当）' '求人情報誌製作会社（経営者）' '学校［専門学校］（副校長）'\n",
      " '人材派遣会社（営業担当）' '一般小売店［文房具］（経営者）' '一般小売店［印章］（経営者）' '百貨店（販売管理担当）'\n",
      " 'スーパー（ネット宅配担当）' '家電量販店（営業統括）' '家電量販店（統括）' 'その他小売［雑貨卸］（経営者）'\n",
      " 'その他小売［ゲーム］（開発戦略担当）' '旅行代理店（支店長）' 'タクシー（団体役員）' 'その他レジャー施設（経営企画担当）'\n",
      " 'その他サービス［福祉輸送］（経営者）' 'その他サービス［保険代理店］（経営者）' '一般小売店［家電］（経理担当）'\n",
      " '一般小売店［文具］（販売企画担当）' '一般小売店［茶］（営業担当）' '百貨店（広報担当）' '百貨店（営業企画担当）' '百貨店（副店長）'\n",
      " '百貨店（計画管理担当）' 'スーパー（店員）' 'スーパー（営業担当）' 'スーパー（仕入担当）' 'コンビニ（商品開発担当）'\n",
      " '衣料品専門店（営業担当）' '乗用車販売店（渉外担当）' '住関連専門店（統括）' 'その他専門店［ドラッグストア］（経営者）'\n",
      " 'その他小売［生鮮魚介卸売］（営業）' '通信会社（管理担当）' '通信会社（総務担当）' '通信会社（経営企画担当）' 'ゴルフ場（従業員）'\n",
      " 'パチンコ店（経営者）' 'その他レジャー施設［アミューズメント］（店長）' 'その他サービス［学習塾］（経営者）'\n",
      " 'その他サービス［立体駐車場］（経営者）' '設計事務所（職員）' 'その他住宅［住宅資材］（営業）' '一般小売店［茶］（経営者）'\n",
      " '一般小売店［和菓子］（経営者）' '一般小売店［家具］（経営者）' '一般小売店［祭用品］（経営者）'\n",
      " 'その他レジャー施設［ボウリング場］（支配人）' '一般小売店［食料雑貨］（経営者）' '一般小売店［靴・履物］（店長）' '建設業（営業担当）'\n",
      " '建設業（経理担当）' '金融業（統括）' '不動産業（総務担当）' '税理士' 'その他サービス業［警備］（経営者）'\n",
      " 'その他サービス業［映像制作］（経営者）' '化学工業（従業員）' 'プラスチック製品製造業（経営者）' '精密機械器具製造業（経営者）'\n",
      " 'その他製造業［鞄］（経営者）' 'その他製造業［化粧品］（営業担当）' '通信業（広報担当）' '金融業（従業員）' '金融業（支店長）'\n",
      " '広告代理店（従業員）' 'その他サービス業［情報サービス］（従業員）' '繊維工業（従業員）' 'その他サービス業［廃棄物処理］（経営者）'\n",
      " '出版・印刷・同関連産業（所長）' '輸送業（総務担当）' 'その他サービス業［ソフト開発］（経営者）' '人材派遣会社（支店長）'\n",
      " '求人情報誌製作会社（営業担当）' '民間職業紹介機関（経営者）' '学校［専修学校］（就職担当）' '求人情報誌製作会社（広報担当）'\n",
      " '住関連専門店（営業担当）' '一般小売店［高級精肉］（企画担当）' 'コンビニ（企画担当）' '乗用車販売店（総務担当）'\n",
      " 'その他専門店［雑貨］（店員）' 'その他専門店［貴金属］（営業担当）' 'その他小売［ショッピングセンター］（営業担当）'\n",
      " 'その他飲食［仕出し］（経営者）' '都市型ホテル（経理担当）' '美顔美容室（経営者）' 'その他サービス［語学学校］（経営者）'\n",
      " 'その他サービス［介護サービス］（職員）' 'その他住宅［室内装飾業］（経営者）' '一般小売店［結納品］（経営者）'\n",
      " '一般小売店［生花］（経営者）' '一般小売店［薬局］（経営者）' '一般小売店［贈答品］（経営者）' '一般小売店［自然食品］（経営者）'\n",
      " '一般小売店［果物］（店員）' '一般小売店［和菓子］（企画担当）' '百貨店（販売担当）' '百貨店（経営企画担当）'\n",
      " 'スーパー（商品開発担当）' 'スーパー（販売担当）' '衣料品専門店（販売企画担当）' '乗用車販売店（経理担当）'\n",
      " 'その他小売［ショッピングセンター］（経理担当）' '高級レストラン（役員）' '一般レストラン（従業員）' '観光型ホテル（販売担当）'\n",
      " '都市型ホテル（従業員）' '通信会社（サービス担当）' '観光名所（案内係）' 'ゴルフ場（企画担当）'\n",
      " 'その他住宅［不動産賃貸及び売買］（経営者）' '一般小売店［電気屋］（経営者）' '一般小売店［書店］（経営者）'\n",
      " '一般小売店［酒類］（経営者）' '一般小売店［食品］（経営者）' '百貨店（経理担当）' 'スーパー（販売促進担当）' 'スーパー（営業企画）'\n",
      " '都市型ホテル（経営者）' 'テーマパーク（経営企画担当）' '理美容室（経営者）' 'その他住宅［住宅管理］（経営者）'\n",
      " '一般小売店［時計］（経営者）' '理容室（経営者）' '窯業・土石製品製造業（経理担当）' '食料品製造業（経営企画担当）'\n",
      " '出版・印刷・同関連産業（経営者）\\n' '化学工業（総務秘書）' '窯業・土石製品製造業（社員）' '輸送業（エリア担当）'\n",
      " '通信会社（法人営業担当）' '金融業（法人営業担当）' '企業広告制作業（経営者）' '会計事務所（社会保険労務士）'\n",
      " 'その他サービス業［広告印刷］（従業員）' 'その他非製造業［ソフト開発］（経営者）' 'パルプ・紙・紙加工品製造業（総務担当）'\n",
      " '化学工業（人事担当）' '金属製品製造業（従業員）' '一般機械器具製造業（営業担当）' '輸送用機械器具製造業（品質管理担当）'\n",
      " '輸送用機械器具製造業（総務経理担当）' '輸送用機械器具製造業（経理担当）' '広告代理店（制作担当）' '新聞販売店［広告］（店主）'\n",
      " '行政書士' '会計事務所（職員）' '紙加工品［段ボール］製造業（経営者）' '印刷業（営業担当）' 'その他サービス業［ソフト開発］（社員）'\n",
      " '鉄鋼業（経営者）' '電気機械器具製造業' 'アウトソーシング企業（エリア担当）' '民間職業紹介機関（営業担当）'\n",
      " '学校［専門学校］（就職担当）' '人材派遣会社（経営企画）' '新聞社［求人広告］（営業担当）' 'その他雇用［広告代理店］（求人広告担当）'\n",
      " '一般小売店［精肉］（店長）' '乗用車販売店（役員）' '一般小売店［事務用品］（店員）' '一般小売店［鮮魚］（従業員）'\n",
      " '百貨店（一般顧客訪問担当）' 'コンビニ（店舗管理）' '衣料品専門店（総括）' '家電量販店（管理本部）' '自動車備品販売店（従業員）'\n",
      " 'その他専門店［ガソリンスタンド］（経営者）' 'その他専門店［医薬品］（総務担当）' '一般レストラン（店長）' '通信会社（職員）'\n",
      " '通信会社（役員）' '一般小売店［書籍］（従業員）' 'その他レジャー施設（職員）' 'プラスチック製品製造業（企画担当）'\n",
      " '一般機械器具製造業（総務担当）' '輸送業（配車担当）' '金融業（融資担当）' '新聞販売店［広告］（従業員）' '税理士（所長）'\n",
      " '人材派遣会社（役員）' '一般小売店［事務用品］（経営者）' '百貨店（売場マネージャー）' '百貨店（マネージャー）' '百貨店（商品担当）'\n",
      " 'スーパー（社員）' 'スーパー（企画）' 'コンビニ（店員）' '衣料品専門店（営業・販売担当）'\n",
      " 'その他レジャー施設［イベントホール］（職員）' '住宅販売会社（総務担当）' 'その他住宅［展示場］（従業員）' '一般小売店［花］（経営者）'\n",
      " '一般小売店［精肉］（管理担当）' '一般小売店［鮮魚］（営業担当）' '一般小売店［衣服］（経営者）' '一般小売店［野菜］（店長）'\n",
      " '一般小売店［花］（店長）' '一般小売店［菓子］（営業担当）' '百貨店（サービス担当）' '百貨店（販促担当）' '百貨店（外商担当）'\n",
      " 'スーパー（経理担当）' 'スーパー（広報担当）' 'スーパー（開発担当）' 'その他専門店［食品］（経営者）'\n",
      " 'その他専門店［宝飾品］（販売担当）' '一般レストラン（店員）' 'その他飲食［コーヒーショップ］（店長）' '都市型ホテル（総務担当）'\n",
      " '都市型ホテル（マネージャー）' '都市型ホテル（客室担当）' '観光名所（経理担当）'\n",
      " 'その他レジャー施設［飲食・物販系滞在型施設］（企画担当）' '美容室（店員）' 'その他サービス［マッサージ］（スタッフ）'\n",
      " 'その他サービス［ビデオ・ＣＤレンタル］（エリア担当）' 'その他サービス［生命保険］（営業担当）'\n",
      " 'その他住宅投資の動向を把握できる者［不動産仲介］（経営者）' 'その他住宅［情報誌］（編集者）' '一般小売店［珈琲］（経営者）'\n",
      " '一般小売店［酒］（社員）' 'スーパー（管理担当）' 'コンビニ（広告担当）' '家電量販店（企画担当）' 'その他専門店［宝石］（経営者）'\n",
      " 'その他小売［インターネット通販］（企画担当）' '一般レストラン（経理担当）' '旅行代理店（広報担当）' 'パチンコ店（店員）'\n",
      " 'その他レジャー施設［球場］（経理担当）' '金融業［投資運用業］（代表）' '家具及び木材木製品製造業（営業担当）' '化学工業（企画担当）'\n",
      " '金属製品製造業（管理担当）' 'その他サービス業［店舗開発］（従業員）' 'その他非製造業［衣服卸］（経営者）' '食料品製造業（営業担当）'\n",
      " '食料品製造業（経理担当）' '繊維工業（団体職員）' '繊維工業（総務担当）' 'パルプ・紙・紙加工品製造業（経営者）'\n",
      " '化学工業（管理担当）' '電気機械器具製造業（宣伝担当）' 'その他製造業［履物］（団体職員）' 'その他製造業［事務用品］（営業担当）'\n",
      " '輸送業（営業所長）' '通信業（管理担当）' '不動産業（営業担当）' 'コピーサービス業（店長）' 'その他サービス［自動車修理］（経営者）'\n",
      " 'その他非製造業［機械器具卸］（経営者）' 'その他非製造業［電気業］（営業担当）' '食料品製造業（従業員）'\n",
      " '出版・印刷・同関連産業（情報企画担当）' '金属製品製造業（営業担当）' '一般機械器具製造業（設計担当）' '輸送業（商品管理担当）'\n",
      " '新聞社［求人広告］（管理担当）' '民間職業紹介機関（大学担当）' '民間職業紹介機関（支社長）' '求人情報誌製作会社（企画担当）'\n",
      " '商店街（理事）' '家電量販店（販売担当）' '乗用車販売店（副店長）' '乗用車販売店（業務担当）' 'その他専門店［海産物］（経営者）'\n",
      " 'その他小売［ショッピングセンター］（運営担当）' '一般レストラン（エリア担当）' 'その他飲食［サービスエリア内レストラン］（支配人）'\n",
      " '都市型ホテル（企画担当）' 'テーマパーク（業務担当）' '一般小売店［靴］（経営者）' '一般小売店［酒店］（経営者）'\n",
      " '百貨店（営業推進担当）' '百貨店（購買担当）' 'スーパー（財務担当）' 'スーパー（営業システム担当）' 'コンビニ（副地域ブロック長）'\n",
      " '衣料品専門店（地域ブロック長）' 'その他専門店［和菓子］（経営者）' 'その他専門店［ファッション雑貨］（従業員）'\n",
      " 'その他小売［ショッピングセンター］（支配人）' '観光型ホテル（支配人）' '都市型ホテル（総支配人）' 'テーマパーク（管理担当）'\n",
      " 'ゴルフ場（営業担当）' 'その他サービス［介護サービス］（介護サービス担当）' '住宅販売会社（販売担当）' '住宅販売会社（営業担当）'\n",
      " 'スーパー（業務開発担当）' 'その他専門店［時計］（経営者）' 'その他専門店［布地］（経営者）' '一般レストラン（外食事業担当）'\n",
      " '通信会社（通信事業担当）' '通信会社（広報担当）' '通信会社（工事担当）' '木材木製品製造業（経理担当）' '鉄鋼業（総務担当）'\n",
      " '輸送業（業務担当）' '通信業（営業企画担当）' 'コピーサービス業（管理担当）' '繊維工業（統括担当）' '化学工業（総務担当）'\n",
      " '窯業・土石製品製造業（総務経理担当）' '非鉄金属製造業（経理担当）' '金属製品製造業（総務担当）' '電気機械器具製造業（総務担当）'\n",
      " '輸送用機械器具製造業（経営企画担当）' '輸送用機械器具製造業（財務担当）' '金融業（自動車担当）' '金融業（貸付担当）'\n",
      " 'その他製造業［スポーツ用品］（総務担当）' '求人情報誌製作会社（採用支援担当）' '求人情報誌製作会社（マネジャー）'\n",
      " '職業安定所（雇用開発担当）' '人材派遣会社（支社長）' '人材派遣会社（経営企画担当）' '求人情報誌製作会社（広告担当）'\n",
      " '職業安定所（産業雇用情報担当）' '民間職業紹介機関（人材紹介担当）' '学校［短期大学］（学生支援担当）'\n",
      " 'その他雇用の動向を把握できる者［労働機関］（職員）' '商店街（事務局長）' '一般小売店［文具店］（経営者）' 'コンビニ（商品担当）'\n",
      " '通信会社（企画）' '一般小売店［乾物］（店員）' 'その他小売［ショッピングセンター］（副支配人）' '一般小売店［菓子］（総務担当）'\n",
      " 'コンビニ（総務）' '一般小売店［酒］（販売担当）' '食料品製造業（商品統括）' '電気機械器具製造業（経理）' '建設会社（経理担当）'\n",
      " '通信業（部長）' '鉄鋼業（総務部長）' '人材派遣会社（営業）' '求人情報誌（営業）' '民間職業紹介機関（所長）'\n",
      " '求人情報誌製作会社（従業員）' '一般小売店［精肉］（店員）' '百貨店（営業統括）' 'スーパー（統括者）' 'コンビニ（販売促進担当）'\n",
      " '衣料品専門店（チーフ）' '家電量販店（従業員）' 'その他小売の動向を把握できる者［土産卸売］（従業員）'\n",
      " 'その他小売［ショッピングセンター］（広報担当）' '観光ホテル（総務）' '通信会社（総務局）' '住宅販売会社（代表）'\n",
      " '一般小売店［青果］（店長）' '一般小売店［鮮魚］（店員）' '一般小売店［茶］（販売・事務）' '百貨店（業務担当）'\n",
      " '百貨店（店舗事業計画部）' '百貨店（営業政策担当）' '百貨店（企画）' 'スーパー（業務担当）' 'コンビニ（エリア担当・店長）'\n",
      " '衣料品専門店（取締役）' '家電量販店（総務担当）' '家電量販店（広報・IR担当）' '乗用車販売店（代表）'\n",
      " 'その他専門店［コーヒー豆］（経営者）' 'その他専門店［ガソリンスタンド］（統括）' 'その他専門店［書籍］（地区支配人）'\n",
      " 'その他専門店［書籍］（代表）' 'その他小売の動向を把握できる者［ショッピングセンター］（統括者）' '高級レストラン（社長）'\n",
      " '高級レストラン（専務）' '居酒屋（経営者）' '通信会社（業務担当）' '美容室（店長）'\n",
      " 'その他サービスの動向を把握できる者［介護サービス］（管理担当）' '都市型ホテル（販売担当）' '都市型ホテル（副支配人）'\n",
      " '旅行代理店（企画）' '通信会社（販売部）' '競馬場（職員）' '音楽教室（管理担当）'\n",
      " 'その他サービスの動向を把握できる者［フィットネスクラブ］（営業）' '繊維工業（営業担当）' '金属製品製造業（事業統括）'\n",
      " '電気機械器具製造業（取締役）' '通信業（経理担当）' '新聞社（広告）（担当者）' '経営コンサルタント（社員）'\n",
      " 'その他サービス業［物品リース］（支社長）' '農林水産業（経営者）' '農林水産業（営業）' '家具製造業（従業員）'\n",
      " '精密機械器具製造業（従業員）' 'その他製造業（産業廃物処理業）' '建設業（社員）' '輸送業（総務）' '金融業（営業）'\n",
      " '金融業（得意先担当）' '不動産業' '不動産業（従業員）' '経営コンサルタント（代表取締役）' '輸送用機械器具製造業（営業担当）'\n",
      " '通信業（職員）' 'その他サービス業［設計事務所］（代表取締役）' '職業安定所（職業相談）' '民間職業紹介機関（社員）'\n",
      " '民間職業紹介機関（支店長）' '学校［大学］（就職支援業務）' 'その他専門店［書籍］（店長）' '通信会社（店長）' 'ゴルフ場（経営者）'\n",
      " '一般小売店［菓子］' '百貨店（営業企画）' 'その他専門店［楽器］（経営者）' '住宅販売会社（代表取締役）'\n",
      " '住宅販売会社（総務・企画分野）' 'その他飲食［居酒屋］（経営者）' '観光型ホテル（マーケティング担当）' '輸送業（本社事業本部）'\n",
      " '会計事務所（所長）' '食料品製造業（総務）' '輸送業（代表者）' 'コピーサービス業（営業担当）' '求人情報誌製作会社（総務担当）'\n",
      " '人材派遣会社（総務担当）' '住宅販売会社（役員）' '百貨店（担当者）' 'パチンコ店（役員）' '観光型ホテル（役員）'\n",
      " 'その他サービス業［建設機械リース］（営業担当）' 'スーパー（副店長）' 'ゴルフ場（総務部長）' 'その他サービス［葬祭業］（経営者）'\n",
      " 'その他サービス［貸切バス］（経営者）' '一般小売店［衣料］（経営者）' 'その他専門店［燃料］（従業員）' 'タクシー（役員）'\n",
      " 'その他製造業［消防用品］（営業担当）' '一般小売店［米穀］（経営者）' '一般小売店［傘］（店長）' '旅行代理店（販売促進担当）'\n",
      " '高級レストラン（副支配人）' '高級レストラン（仕入担当）' 'その他飲食［給食・レストラン］（役員）' '家電量販店（経営企画担当）'\n",
      " 'その他専門店［貴金属］（経営企画担当）' 'その他サービス業［ソフト開発］（従業員）' 'その他サービス業［ビルメンテナンス］（経営者）'\n",
      " '一般小売店［書店］（営業担当）' 'スーパー（支店長）' 'スーパー（企画・経営担当）' 'スーパー（人事担当）'\n",
      " '衣料品専門店［紳士服洋品］（売場担当）' 'その他飲食［ワイン輸入］（経営企画担当）' 'その他専門店［書籍］（店員）'\n",
      " '一般レストラン［パン・カフェ］（経営者）' 'その他レジャー［スポーツレジャー紙］（広告担当）' '輸送用機械器具製造業（デザイン担当）'\n",
      " '輸送用機械器具製造業（研修担当）' '不動産業（用地仕入）' '出版・印刷・同関連産業（代表）' '化学工業（営業）'\n",
      " '民間職業紹介機関（窓口担当）' '職業安定所（所長）' '一般小売店［鮮魚］（役員）' '都市型ホテル（役員）' '自動車備品販売店（役員）'\n",
      " '住関連専門店（役員）' 'その他小売［ショッピングセンター］' '一般レストラン（統括）' '通信会社（店舗統括）' 'テーマパーク（役員）'\n",
      " 'その他レジャー施設（総支配人）' 'スーパー（店舗管理）' '精密機械器具製造業（役員）' '建設業（役員）'\n",
      " 'その他飲食［ファーストフード］（店員）' '一般小売店［花］（店員）' 'その他小売［インターネット通販］（オペレーター）'\n",
      " '高級レストラン（企画）' '観光型旅館（団体役員）' '都市型ホテル（管理担当）' '観光名所（企画担当）'\n",
      " 'その他サービス［学習塾］（スタッフ）' '百貨店（服飾品担当）' '一般レストラン（企画）' '一般小売店［貴金属製品］（従業員）'\n",
      " '一般小売店［雑貨］（店長）' 'その他非製造業［民間放送］（従業員）' 'その他非製造業［商社］（営業担当）'\n",
      " '電気機械器具製造業（経理担当）' 'アウトソーシング企業（管理担当）' '一般小売店［紙類］（経営者）' '住宅販売会社（営業所長）'\n",
      " '百貨店（人事担当）' 'コンビニ（支店長）' 'その他小売［ショッピングセンター］（所長）' '高級レストラン（宴会サービス担当）'\n",
      " 'その他飲食［サービスエリア内レストラン］（店長）' '通信会社（販売企画担当）' '観光型ホテル（宿泊担当）' '一般小売店［眼鏡］（経営者）'\n",
      " '輸送業（経理担当）' '金融業（融資企画担当）' '非鉄金属製造業（業務担当）' '百貨店（営業推進）' '旅行代理店（営業部長）'\n",
      " '通信会社（支店長）' '観光遊園地（職員）' '金融業（副支店長）' '木材木製品製造業' '輸送業（営業）' '職業安定所'\n",
      " 'その他小売の動向を把握できる者［ショッピングセンター］（支配人）' '高級レストラン（従業員）' 'ドラッグストア（部長）'\n",
      " '設計事務所（代表）' 'その他専門店［書籍］（副店長）' '観光型ホテル（専務）' '職業安定所（職業紹介）' '百貨店（営業部）'\n",
      " 'スーパー（販売企画担当）' '旅行代理店（マネージャー）' 'その他のサービス［レンタカー］（営業担当）' '求人情報誌製作会社（編集室）'\n",
      " '出版・印刷・同関連産業（従業員）' '出版・印刷・同関連産業（総務担当）' '住関連専門店（店員）'\n",
      " 'その他飲食［自動販売機（飲料）］（管理担当）' '自動車備品販売店（営業担当）' '繊維工業（経営管理担当）' '農林水産業（総務担当）'\n",
      " '通信業（総務担当）' '通信会社（営業）' '新聞社［広告］（担当者）' '百貨店（管理担当）' '新聞社［求人広告］（役員）'\n",
      " 'その他サービス［コインランドリー］（経営者）' '一般小売店［自転車］（店長）' 'テーマパーク（営業担当）' 'スーパー（統括担当）'\n",
      " '一般小売店［鞄・袋物］（経営者）' '百貨店（営業販促担当）' 'その他非製造業［鋼材卸売］（従業員）' '乗用車販売店（本部）'\n",
      " '窯業・土石製品製造業（役員）' '学校［専門学校］' '都市型ホテル（営業）' 'ゴルフ場（総務担当）' 'その他専門店［靴小売業］（経営者）'\n",
      " 'その他飲食［給食・レストラン］（総務）' '一般小売店［生花］（店員）' '衣料品専門店（役員）' 'その他専門店［貴金属］（統括）'\n",
      " '通信会社（経理担当）' 'その他レジャー施設［総合］（経営企画担当）' 'その他住宅［住宅管理・リフォーム］（経営者）'\n",
      " 'その他小売［バイク・福祉車両］（経営者）' 'その他サービス［電力］（経営者）' '金融業（総務担当）' '求人情報誌製作会社（所長）'\n",
      " '衣料品専門店（売場担当）' '家電量販店（フランチャイズ経営者）' 'スーパー（ブロック長）' 'スーパー（商品管理担当）'\n",
      " 'コンビニ（総務担当）' 'テーマパーク職員（総務担当）' '百貨店（計画担当）' 'パルプ・紙・紙加工品製造業（顧問）'\n",
      " '通信業（法人営業担当）' '輸送用機械器具製造業（製造担当）' '人材派遣業（営業担当）' '衣料品専門店（店舗運営）'\n",
      " '住宅販売会社（営業）' '家電量販店（本部）' 'その他レジャー施設［スポーツクラブ］（総支配人）' '食料品製造業（経営企画）'\n",
      " '新聞社［求人広告］（営業）' '家電量販店（人事担当）' '百貨店（販売推進担当）' 'その他専門店［ドラッグストア］（店員）'\n",
      " '観光型旅館（管理担当）' '旅行代理店（役員）' 'その他住宅［住宅設備］（営業担当）' '百貨店（宣伝担当）' '広告代理店（企画担当）'\n",
      " 'その他専門店［土産物］（店長）' 'その他小売［ショッピングセンター］（管理担当）' '繊維工業（監査担当）' '農林水産業（従業員）'\n",
      " '一般機械器具製造業（管理担当）' '学校［短期大学］（進路指導担当）' '学校［大学］（就職支援担当）' '通信会社（技術）'\n",
      " '競輪競馬（マネージャー）' '百貨店（営業統括担当）' '家電量販店（副店長）' '通信会社（営業部長）' '木材木製品製造業（資材購買）'\n",
      " '農林水産業（職員）' '化学工業（所長）' 'その他製造業［産業廃棄物処理業］' 'その他サービス業［コンサルタント］（代表取締役）'\n",
      " 'その他のサービス［レンタカー］（営業）' '百貨店（店舗企画）' 'コンビニ（代表者）' '観光型ホテル（代表取締役）'\n",
      " 'コンビニ（オーナー）' '学校就職担当者' 'その他レジャー施設［鉄道会社］（職員）' '民間職業紹介機関（マネージャー）'\n",
      " '一般機械製造業（経理）' '学校就職担当' 'その他小売の動向を把握できる者［ショッピングセンター］（従業員）'\n",
      " 'その他製造業［産業廃物処理業］' '新聞社［求人広告］（社員）' 'スーパー（販売企画）' 'その他専門店［燃料］（経営者）'\n",
      " '百貨店（業績管理担当）' 'コンビニ（本部管理担当）' '輸送用機械器具製造業（管理担当）' 'その他小売［ショッピングセンター］（経営管理）'\n",
      " '競艇場（企画営業担当）' '一般小売店［洋裁附属品］（経営者）' 'その他専門店［土産物］（経営者）' '会計事務所（経営者）'\n",
      " '百貨店（販売促進）' '衣料品専門店（営業責任者）' 'その他サービス［レンタカー］（営業）' '食料品製造業（団体役員）'\n",
      " '一般小売店［スポーツ用品］（経営者）' 'その他専門店［酒］（営業担当）' '乗用車販売店（エリア担当）' '通信会社（販売担当）'\n",
      " 'ゴルフ練習場（経営者）' 'その他サービス［清掃］（所長）' 'その他レジャー施設［スポーツ施設］（支配人）'\n",
      " 'その他専門店［雑貨］（従業員）' '金融業（渉外・預金担当）' '学校［短期大学］（就職担当）' 'その他専門店［貴金属］（店長）'\n",
      " '不動産業（開発担当）' '職業安定所（次長）' '一般小売店［事務用品］（役員）' '家電量販店（管理担当）'\n",
      " 'その他専門店［スポーツ用品］（経理担当）' 'コンビニ（地域ブロック長）' 'テーマパーク（広報担当）' '百貨店（電算担当）'\n",
      " 'その他レジャー施設（アミューズメント）' '一般機械器具製造業（経理財務担当）' '求人情報誌製作会社（サイト運営担当）' 'スーパー（人事）'\n",
      " 'その他飲食［ファーストフード］（経営者）' '家電量販店（企画・IR担当）' 'スーパー（売場担当）' '金属製品製造業（企画担当）'\n",
      " '食料品生産業（総務）' 'その他企業［協同組合］（職員）' '高級レストラン（経理）' 'その他住宅［室内装飾業］（従業員）'\n",
      " '一般機械器具製造業（経営管理担当）' '輸送業（役員）' '化学工業（営業担当）' '人材派遣会社（企画統括）' '通信業（営業）'\n",
      " 'その他小売［インターネット通販］（経営者）' '職業安定所（事業所担当）' '職業安定所（職業指導担当）' '職業安定所（雇用関連担当）'\n",
      " '家電量販店（物流担当）' '一般レストラン［居酒屋］（経営者）' 'その他サービス業［ビルメンテナンス］（営業担当）'\n",
      " 'アウトソーシング企業（営業担当）' '観光型ホテル（宿泊予約担当）' 'その他専門店［書籍］（経営者）' '百貨店（予実算担当）'\n",
      " '乗用車販売店（営業企画）' '一般小売店［書籍］（営業担当）' '建設業（総務）' '職業安定所（企画事業所部門（求人））'\n",
      " '家電量販店（地区統括）' '一般小売店［惣菜］（店長）' '出版・印刷・同関連産業（営業本部長）' 'サービスの動向を把握できる者'\n",
      " '一般小売店［雑貨］（経営者）' 'スーパー（経営企画）' '一般小売店［食料品］（管理担当）' '精密機械器具製造業（総務担当）'\n",
      " 'その他飲食［ファストフード］（経営者）' 'その他小売［陶器卸］（営業担当）' '木材木製品製造業（経理部次長）' '観光名所'\n",
      " '観光旅館組合（職員）' 'その他レジャー［プロスポーツ］（経営管理担当）' 'その他レジャー施設（支配人）' '一般小売店［菓子］（企画）'\n",
      " 'その他専門店［ガソリンスタンド］（従業員）' 'その他サービス［フィットネスクラブ］（マネージャー）' '通信会社（店員）'\n",
      " '高級レストラン（営業担当）' 'パチンコ店（経理）' '乗用車販売業（営業担当）' '通信業（企画・売上管理）' '職業安定所（求人開発）'\n",
      " 'その他専門店［ドラッグストア］（企画担当）' '輸送業（経営企画室）' 'その他専門店［雑貨］（店長）' '一般小売店［土産］（役員）'\n",
      " '一般小売店［菓子］（経営企画担当）' '一般小売店［コーヒー］（営業担当）' 'その他サービス業［ディスプレイ］（経営者）' '百貨店'\n",
      " '通信会社（技術部）' '住関連販売店（経営者）' '金融業（地域担当）' '金融業（営業職渉外係）'\n",
      " 'その他住宅投資の動向を把握できる者［住宅情報誌］（経営者）' '13590' 'その他レジャー施設［劇場］（職員）'\n",
      " 'その他非製造業［商社］（総務担当）' '広告制作業（経営者）' 'その他飲食［ジャズバー］（店員）' '一般小売店［食料雑貨］（店員）']\n"
     ]
    }
   ],
   "source": [
    "if df5.empty == False: print(\"{}\".format(df5[\"ind\"].unique()))"
   ]
  },
  {
   "cell_type": "markdown",
   "metadata": {
    "ExecuteTime": {
     "end_time": "2018-08-11T14:38:52.197479Z",
     "start_time": "2018-08-11T14:38:52.099585Z"
    }
   },
   "source": [
    "## カラムreasons\n",
    "ここも地道に。'判断の理由','－','＊'とnan。ただし、これは4のファイルのみ。"
   ]
  },
  {
   "cell_type": "code",
   "execution_count": 22,
   "metadata": {
    "ExecuteTime": {
     "end_time": "2018-09-15T07:04:49.221780Z",
     "start_time": "2018-09-15T07:04:49.203360Z"
    }
   },
   "outputs": [
    {
     "name": "stdout",
     "output_type": "stream",
     "text": [
      "['来客数の動き' 'それ以外' '単価の動き' 'お客様の様子' '販売量の動き' '受注量や販売量の動き' '取引先の様子'\n",
      " '受注価格や販売価格の動き' '求人数の動き' '採用者数の動き' '雇用形態の様子' '求職者数の動き' '競争相手の様子' '周辺企業の様子']\n"
     ]
    }
   ],
   "source": [
    "if df4.empty == False: print(\"{}\".format(df4['reasons'].unique()))"
   ]
  },
  {
   "cell_type": "code",
   "execution_count": 23,
   "metadata": {
    "ExecuteTime": {
     "end_time": "2018-09-15T07:04:51.740090Z",
     "start_time": "2018-09-15T07:04:51.661904Z"
    }
   },
   "outputs": [],
   "source": [
    "def clean_reasons(_df):\n",
    "    _df = _df.dropna(subset=['reasons'])\n",
    "    _df = _df[~_df.isin(['－','判断の理由','＊']).any(axis=1)] \n",
    "    return (_df)\n",
    "\n",
    "if df4.empty == False: df4 = clean_reasons(df4)\n",
    "\n"
   ]
  },
  {
   "cell_type": "code",
   "execution_count": 24,
   "metadata": {
    "ExecuteTime": {
     "end_time": "2018-09-15T07:04:52.795217Z",
     "start_time": "2018-09-15T07:04:52.779254Z"
    }
   },
   "outputs": [
    {
     "name": "stdout",
     "output_type": "stream",
     "text": [
      "['来客数の動き' 'それ以外' '単価の動き' 'お客様の様子' '販売量の動き' '受注量や販売量の動き' '取引先の様子'\n",
      " '受注価格や販売価格の動き' '求人数の動き' '採用者数の動き' '雇用形態の様子' '求職者数の動き' '競争相手の様子' '周辺企業の様子']\n"
     ]
    }
   ],
   "source": [
    "if df4.empty == False: print(\"{}\".format(df4['reasons'].unique()))"
   ]
  },
  {
   "cell_type": "markdown",
   "metadata": {
    "ExecuteTime": {
     "end_time": "2018-08-11T14:38:52.197479Z",
     "start_time": "2018-08-11T14:38:52.099585Z"
    }
   },
   "source": [
    "## カラムtxt\n",
    "'・'始まりの行は有効。それ以外は無効。"
   ]
  },
  {
   "cell_type": "code",
   "execution_count": 25,
   "metadata": {
    "ExecuteTime": {
     "end_time": "2018-09-15T07:04:57.336184Z",
     "start_time": "2018-09-15T07:04:57.158429Z"
    }
   },
   "outputs": [
    {
     "name": "stdout",
     "output_type": "stream",
     "text": [
      "         eval       ind reasons                     txt\n",
      "count   83660     83660   83660                   83660\n",
      "unique      5       878      14                   82888\n",
      "top         □  商店街（代表者）  販売量の動き  ・手持ち工事の繁忙度の高い状態が続いている。\n",
      "freq    41251      3092   17862                      24\n"
     ]
    }
   ],
   "source": [
    "if df4.empty == False: print(\"{}\".format(df4.describe()))"
   ]
  },
  {
   "cell_type": "code",
   "execution_count": 26,
   "metadata": {
    "ExecuteTime": {
     "end_time": "2018-09-15T07:04:59.197507Z",
     "start_time": "2018-09-15T07:04:59.044330Z"
    }
   },
   "outputs": [
    {
     "name": "stdout",
     "output_type": "stream",
     "text": [
      "         eval       ind              txt\n",
      "count   95040     95040            95040\n",
      "unique      5       909            93766\n",
      "top         □  商店街（代表者）  ・良くなる要素が見当たらない。\n",
      "freq    48977      3141               60\n"
     ]
    }
   ],
   "source": [
    "if df5.empty == False: print(\"{}\".format(df5.describe()))"
   ]
  },
  {
   "cell_type": "markdown",
   "metadata": {
    "ExecuteTime": {
     "end_time": "2018-08-25T13:31:26.934232Z",
     "start_time": "2018-08-25T13:31:26.921151Z"
    }
   },
   "source": [
    "\"・\"始まりのデータを正とする。"
   ]
  },
  {
   "cell_type": "code",
   "execution_count": 27,
   "metadata": {
    "ExecuteTime": {
     "end_time": "2018-09-15T07:05:01.957563Z",
     "start_time": "2018-09-15T07:05:01.848298Z"
    }
   },
   "outputs": [],
   "source": [
    "def clean_txt(_df):\n",
    "    _df = _df[_df['txt'].str.startswith('・')]\n",
    "    return (_df)\n",
    "\n",
    "# df = clean_txt(df)\n",
    "\n",
    "df4 = clean_txt(df4)\n",
    "df5 = clean_txt(df5)"
   ]
  },
  {
   "cell_type": "code",
   "execution_count": 28,
   "metadata": {
    "ExecuteTime": {
     "end_time": "2018-09-15T07:05:03.705058Z",
     "start_time": "2018-09-15T07:05:03.511272Z"
    }
   },
   "outputs": [
    {
     "name": "stdout",
     "output_type": "stream",
     "text": [
      "         eval       ind reasons                     txt\n",
      "count   83580     83580   83580                   83580\n",
      "unique      5       878      14                   82808\n",
      "top         □  商店街（代表者）  販売量の動き  ・手持ち工事の繁忙度の高い状態が続いている。\n",
      "freq    41212      3088   17843                      24\n"
     ]
    }
   ],
   "source": [
    "if df4.empty == False: print(\"{}\".format(df4.describe()))"
   ]
  },
  {
   "cell_type": "code",
   "execution_count": 29,
   "metadata": {
    "ExecuteTime": {
     "end_time": "2018-09-15T07:05:05.760154Z",
     "start_time": "2018-09-15T07:05:05.577597Z"
    }
   },
   "outputs": [
    {
     "name": "stdout",
     "output_type": "stream",
     "text": [
      "         eval       ind              txt\n",
      "count   94956     94956            94956\n",
      "unique      5       909            93682\n",
      "top         □  商店街（代表者）  ・良くなる要素が見当たらない。\n",
      "freq    48928      3136               60\n"
     ]
    }
   ],
   "source": [
    "if df5.empty == False: print(\"{}\".format(df5.describe()))"
   ]
  },
  {
   "cell_type": "code",
   "execution_count": 30,
   "metadata": {
    "ExecuteTime": {
     "end_time": "2018-09-15T07:05:07.903373Z",
     "start_time": "2018-09-15T07:05:07.573813Z"
    }
   },
   "outputs": [
    {
     "name": "stdout",
     "output_type": "stream",
     "text": [
      "df4 24\n",
      "df5 60\n"
     ]
    }
   ],
   "source": [
    "if df4.empty != True: print(\"df4 {}\".format(df4.describe().at[\"freq\",\"txt\"]))\n",
    "if df5.empty != True: print(\"df5 {}\".format(df5.describe().at[\"freq\",\"txt\"]))"
   ]
  },
  {
   "cell_type": "markdown",
   "metadata": {},
   "source": [
    "## 重複対応\n",
    "重複排除する。"
   ]
  },
  {
   "cell_type": "code",
   "execution_count": 31,
   "metadata": {
    "ExecuteTime": {
     "end_time": "2018-09-15T07:05:10.578123Z",
     "start_time": "2018-09-15T07:05:10.365137Z"
    }
   },
   "outputs": [
    {
     "name": "stdout",
     "output_type": "stream",
     "text": [
      "436 779\n"
     ]
    }
   ],
   "source": [
    "print(\"{} {}\".format(sum(df4.duplicated()),sum(df5.duplicated())))"
   ]
  },
  {
   "cell_type": "code",
   "execution_count": 32,
   "metadata": {
    "ExecuteTime": {
     "end_time": "2018-09-15T07:05:12.783295Z",
     "start_time": "2018-09-15T07:05:12.451569Z"
    }
   },
   "outputs": [],
   "source": [
    "def delete_dups(_df):\n",
    "    _df = _df.drop_duplicates()\n",
    "    return _df\n",
    "\n",
    "if df4.empty == False: df4 = delete_dups(df4)\n",
    "if df5.empty == False: df5 = delete_dups(df5)\n",
    "\n",
    "assert sum(df4.duplicated()) == 0\n",
    "assert sum(df5.duplicated()) == 0"
   ]
  },
  {
   "cell_type": "code",
   "execution_count": 33,
   "metadata": {
    "ExecuteTime": {
     "end_time": "2018-09-15T07:05:13.142755Z",
     "start_time": "2018-09-15T07:05:12.934986Z"
    }
   },
   "outputs": [
    {
     "name": "stdout",
     "output_type": "stream",
     "text": [
      "0 0\n"
     ]
    }
   ],
   "source": [
    "print(\"{} {}\".format(sum(df4.duplicated()),sum(df5.duplicated())))"
   ]
  },
  {
   "cell_type": "markdown",
   "metadata": {},
   "source": [
    "# データ準備\n",
    "## y_data準備"
   ]
  },
  {
   "cell_type": "code",
   "execution_count": 34,
   "metadata": {
    "ExecuteTime": {
     "end_time": "2018-09-15T07:05:16.330040Z",
     "start_time": "2018-09-15T07:05:16.225797Z"
    }
   },
   "outputs": [],
   "source": [
    "def make_y(_df):\n",
    "    _y_data = _df[\"eval\"].replace({'◎': 0, '○': 1, '□':2, '▲':3, '×':4 })\n",
    "    return _y_data\n",
    "\n",
    "# y_data = make_y(df)\n",
    "# assert len(y_data.unique()) == 5\n",
    "\n",
    "# y_data\n",
    "if df4.empty == False: y_data_4 = make_y(df4)\n",
    "if df5.empty == False: y_data_5 = make_y(df5)\n",
    "\n",
    "if df4.empty == False: assert len(y_data_4.unique()) == 5\n",
    "if df5.empty == False: assert len(y_data_5.unique()) == 5\n"
   ]
  },
  {
   "cell_type": "markdown",
   "metadata": {},
   "source": [
    "## y2_data準備\n",
    "判断の理由を2つ目のy(y2)とする"
   ]
  },
  {
   "cell_type": "code",
   "execution_count": 35,
   "metadata": {
    "ExecuteTime": {
     "end_time": "2018-09-15T07:05:34.475260Z",
     "start_time": "2018-09-15T07:05:34.449526Z"
    },
    "scrolled": true
   },
   "outputs": [
    {
     "data": {
      "text/plain": [
       "{'来客数の動き': 0,\n",
       " 'それ以外': 1,\n",
       " '単価の動き': 2,\n",
       " 'お客様の様子': 3,\n",
       " '販売量の動き': 4,\n",
       " '受注量や販売量の動き': 5,\n",
       " '取引先の様子': 6,\n",
       " '受注価格や販売価格の動き': 7,\n",
       " '求人数の動き': 8,\n",
       " '採用者数の動き': 9,\n",
       " '雇用形態の様子': 10,\n",
       " '求職者数の動き': 11,\n",
       " '競争相手の様子': 12,\n",
       " '周辺企業の様子': 13}"
      ]
     },
     "execution_count": 35,
     "metadata": {},
     "output_type": "execute_result"
    }
   ],
   "source": [
    "# _d = {}\n",
    "# df4[\"reasons\"].unique()\n",
    "# for _i in df4[\"reasons\"].unique():\n",
    "#     print(_i)\n",
    "# for _n,_i in enumerate(df4[\"reasons\"].unique()):\n",
    "#     _d[_i]=_n\n",
    "# _d\n",
    "_d = {}\n",
    "def dicappend(_i,_e):\n",
    "    _d[_e] = _i\n",
    "[dicappend(_i,_e) for _i,_e in enumerate(df4[\"reasons\"].unique())]\n",
    "_d"
   ]
  },
  {
   "cell_type": "code",
   "execution_count": 36,
   "metadata": {
    "ExecuteTime": {
     "end_time": "2018-09-15T07:05:37.818126Z",
     "start_time": "2018-09-15T07:05:37.726612Z"
    }
   },
   "outputs": [],
   "source": [
    "def make_y2(_df):\n",
    "    \n",
    "    # 辞書作成。{'来客数の動き': 0, '販売量の動き': 1}\n",
    "    _d={}\n",
    "    for _n,_i in enumerate(df4[\"reasons\"].unique()):\n",
    "        _d[_i]=_n\n",
    "        \n",
    "    # 置換え\n",
    "    _y2_data = _df[\"reasons\"].replace(_d)\n",
    "    return _y2_data\n",
    "\n",
    "# y_data = make_y(df)\n",
    "# assert len(y_data.unique()) == 5\n",
    "\n",
    "# y_data\n",
    "if df4.empty == False: y2_data_4 = make_y2(df4)\n",
    "# y2_data_4\n",
    "# if df4.empty == False: assert len(y_data_4.unique()) == 5\n",
    "# if df5.empty == False: assert len(y_data_5.unique()) == 5\n"
   ]
  },
  {
   "cell_type": "code",
   "execution_count": 37,
   "metadata": {
    "ExecuteTime": {
     "end_time": "2018-09-15T07:05:38.765672Z",
     "start_time": "2018-09-15T07:05:38.748677Z"
    }
   },
   "outputs": [
    {
     "data": {
      "text/plain": [
       "(83144,)"
      ]
     },
     "execution_count": 37,
     "metadata": {},
     "output_type": "execute_result"
    }
   ],
   "source": [
    "y_data_4.shape"
   ]
  },
  {
   "cell_type": "code",
   "execution_count": 38,
   "metadata": {
    "ExecuteTime": {
     "end_time": "2018-09-15T07:05:40.696178Z",
     "start_time": "2018-09-15T07:05:40.690910Z"
    }
   },
   "outputs": [
    {
     "data": {
      "text/plain": [
       "(83144,)"
      ]
     },
     "execution_count": 38,
     "metadata": {},
     "output_type": "execute_result"
    }
   ],
   "source": [
    "y2_data_4.shape"
   ]
  },
  {
   "cell_type": "markdown",
   "metadata": {},
   "source": [
    "## X_data準備"
   ]
  },
  {
   "cell_type": "code",
   "execution_count": 39,
   "metadata": {
    "ExecuteTime": {
     "end_time": "2018-09-15T07:05:43.054921Z",
     "start_time": "2018-09-15T07:05:43.050150Z"
    }
   },
   "outputs": [],
   "source": [
    "def cabop(_cp, _str):\n",
    "    tree = _cp.parse(_str)\n",
    "    # print(tree.toString(CaboCha.FORMAT_TREE))\n",
    "#     print(tree.toString(CaboCha.FORMAT_LATTICE))\n",
    "    _ctreeFL = tree.toString(CaboCha.FORMAT_LATTICE)\n",
    "    # type(ctreeFL)\n",
    "    return _ctreeFL\n",
    "    # print(tree.toString(CaboCha.FORMAT_TREE_LATTICE))\n",
    "    "
   ]
  },
  {
   "cell_type": "code",
   "execution_count": 40,
   "metadata": {
    "ExecuteTime": {
     "end_time": "2018-09-15T07:05:44.239795Z",
     "start_time": "2018-09-15T07:05:44.233604Z"
    }
   },
   "outputs": [],
   "source": [
    "def load_sswords(_f):\n",
    "    with open(_f,\"rt\") as _f:\n",
    "        return [_w.strip() for _w in _f]\n",
    "        \n",
    "sswords = load_sswords(sswords_file)\n",
    "assert len(sswords) > 0\n",
    "# sswords"
   ]
  },
  {
   "cell_type": "code",
   "execution_count": 41,
   "metadata": {
    "ExecuteTime": {
     "end_time": "2018-09-15T07:05:48.380245Z",
     "start_time": "2018-09-15T07:05:48.344126Z"
    },
    "run_control": {
     "marked": true
    }
   },
   "outputs": [],
   "source": [
    "def prepare_text_proc():\n",
    "    _cp = CaboCha.Parser()\n",
    "    sswords = load_sswords(sswords_file)\n",
    "    _X_df4 = pd.DataFrame(index=[], columns=[\"txt\"])\n",
    "    _X_df5 = pd.DataFrame(index=[], columns=[\"txt\"])\n",
    "    return _X_df4, _X_df5, _cp\n",
    "\n",
    "X_train_text4, X_train_text5, cp = prepare_text_proc()"
   ]
  },
  {
   "cell_type": "code",
   "execution_count": 42,
   "metadata": {
    "ExecuteTime": {
     "end_time": "2018-09-15T07:05:49.587020Z",
     "start_time": "2018-09-15T07:05:49.413209Z"
    }
   },
   "outputs": [],
   "source": [
    "def remove_first_char(_str):\n",
    "    return _str[1:]\n",
    "\n",
    "# # print(\"{}\".format(remove_first_char(\"・直接雇用を前提とした紹介予定派遣の問合せが増えている。\")))\n",
    "# base_text = df[\"txt\"].map(remove_first_char).to_frame()\n",
    "base_text4 = df4[\"txt\"].map(remove_first_char).to_frame()\n",
    "base_text5 = df5[\"txt\"].map(remove_first_char).to_frame()\n",
    "\n",
    "assert base_text4.query('txt.str.startswith(\"･\")', engine='python').empty == True\n",
    "assert base_text5.query('txt.str.startswith(\"･\")', engine='python').empty == True\n",
    "# if base_text.query('txt.str.startswith(\"･\")', engine='python').empty:\n",
    "#     print(\"then\")\n",
    "# else:\n",
    "#     print(\"else\")"
   ]
  },
  {
   "cell_type": "markdown",
   "metadata": {},
   "source": [
    "### 分かち書きとストップワード処理  \n",
    "ストップワードは、[SlothLib][2]の[もの][3]を使わせていただいた。  \n",
    "\n",
    "[2]: http://www.dl.kuis.kyoto-u.ac.jp/slothlib/\n",
    "[3]: http://svn.sourceforge.jp/svnroot/slothlib/CSharp/Version1/SlothLib/NLP/Filter/StopWord/word/Japanese.txt"
   ]
  },
  {
   "cell_type": "code",
   "execution_count": 43,
   "metadata": {
    "ExecuteTime": {
     "end_time": "2018-09-15T07:05:52.817243Z",
     "start_time": "2018-09-15T07:05:52.797666Z"
    },
    "run_control": {
     "marked": false
    }
   },
   "outputs": [],
   "source": [
    "def separte_line(_block):\n",
    "    _b = _block.split(\"\\n\")\n",
    "    for _l in _b:\n",
    "        _l = _l.split(\"\\t\")\n",
    "        if _l == \"EOS\" or len(_l) == 1:              # EOSの行と係り受け情報の行を無視\n",
    "            continue\n",
    "        _analyzed = _l[1].split(',')                 # 形態素の行は解析情報(タブ以降=_l[1]を\",\"で分解 \n",
    "        if _analyzed[0] == '記号' or len(_l[0]) == 1: # 記号と一文字以下のワードは削除\n",
    "            continue\n",
    "#         print(\"{} {}\".format(len(_l),_l[1].split(\",\")[6])) # 原形を返す。  \n",
    "        _retstr = _l[1].split(\",\")[6]                # 原形を返す\n",
    "        if _retstr == \"*\":                           # 原形が\"*\"のケースがあるので対応\n",
    "            _retstr = _l[0]\n",
    "        \n",
    "        _retstr = unicodedata.normalize('NFKC', _retstr)\n",
    "        _retstr = re.sub(r'[0-9]+月?', \"\", _retstr)\n",
    "        if _retstr == \"\": continue\n",
    "        \n",
    "        yield _retstr\n",
    "    "
   ]
  },
  {
   "cell_type": "code",
   "execution_count": 77,
   "metadata": {
    "ExecuteTime": {
     "end_time": "2018-08-26T14:49:49.895981Z",
     "start_time": "2018-08-26T14:49:49.873109Z"
    }
   },
   "outputs": [],
   "source": [
    "#\n",
    "# 適当なタイミングでこのセルは削除する\n",
    "#\n",
    "# d = {'txt': [\"ここ数か月、来客数の動向が変わらない。\",\"外国人客の訪日が堅調である。また、ＬＣＣの新規就航などで国内客も伸びている。全体的に国内における景気回復の動きが客の地域間移動を底上げしており、当店においてもプラスとなっている。\"] }\n",
    "# df2 = pd.DataFrame(data=d)\n",
    "# df3 = pd.DataFrame(index=df2.index,columns=[\"txt\"])\n",
    "# for _index, _row in df2.iterrows():\n",
    "# #     print(\"=== {} {}\".format(index,row['txt']))\n",
    "#     waka = [_w for _w in separte_line(cabop(_row[\"txt\"])) if _w not in sswords]\n",
    "#     df3.iat[_index,0] = \" \".join(waka)"
   ]
  },
  {
   "cell_type": "code",
   "execution_count": 78,
   "metadata": {
    "ExecuteTime": {
     "end_time": "2018-08-26T14:49:49.922068Z",
     "start_time": "2018-08-26T14:49:49.906430Z"
    },
    "run_control": {
     "marked": true
    }
   },
   "outputs": [],
   "source": [
    "# train_text_in_a_df = pd.DataFrame(index=base_text.index,columns=[\"txt\"]) # DataFrame作成\n",
    "# for _index, _row in base_text.iterrows():           # base_textをインプットにして\n",
    "# #     print(\"{} {}\".format(index,row['txt']))              # 分かち書きをtrain_text_in_a_dfに\n",
    "#     waka = [_w for _w in separte_line(cabop(_row[\"txt\"])) if _w not in sswords]\n",
    "#     train_text_in_a_df.iat[_index,0] = \" \".join(waka)"
   ]
  },
  {
   "cell_type": "code",
   "execution_count": 79,
   "metadata": {
    "ExecuteTime": {
     "end_time": "2018-08-26T14:49:49.957428Z",
     "start_time": "2018-08-26T14:49:49.942904Z"
    },
    "run_control": {
     "marked": true
    }
   },
   "outputs": [],
   "source": [
    "# # for _index, _row in base_text4.iterrows():\n",
    "# #     print(_index)\n",
    "# for _index, _row in enumerate(base_text4[\"txt\"]):\n",
    "#     print(\"{} {}\".format(_index,_row))"
   ]
  },
  {
   "cell_type": "code",
   "execution_count": 44,
   "metadata": {
    "ExecuteTime": {
     "end_time": "2018-09-15T07:08:56.238775Z",
     "start_time": "2018-09-15T07:05:57.263937Z"
    }
   },
   "outputs": [],
   "source": [
    "def wakachi_gaki(_bt):\n",
    "    _train_text = pd.DataFrame(index=_bt.index,columns=[\"txt\"]) # DataFrame作成\n",
    "#     for _index, _row in _bt.iterrows():           # base_textをインプットにして\n",
    "    for _index, _row in enumerate(_bt[\"txt\"]):                 # base_textをインプットにして\n",
    "    #     print(\"{} {}\".format(index,row['txt']))              # 分かち書きをtrain_text_in_a_dfに\n",
    "#         waka = [_w for _w in separte_line(cabop(cp, _row[\"txt\"])) if _w not in sswords]\n",
    "        waka = [_w for _w in separte_line(cabop(cp, _row)) if _w not in sswords]\n",
    "        _train_text.iat[_index,0] = \" \".join(waka)\n",
    "    return _train_text\n",
    "\n",
    "if base_text4.empty == False: X_train_text4 = wakachi_gaki(base_text4)\n",
    "if base_text5.empty == False: X_train_text5 = wakachi_gaki(base_text5)"
   ]
  },
  {
   "cell_type": "code",
   "execution_count": null,
   "metadata": {
    "ExecuteTime": {
     "start_time": "2018-09-15T06:43:53.048Z"
    }
   },
   "outputs": [],
   "source": [
    "#  if X_train_text4.empty == False: print(\"{}\".format(X_train_text4))"
   ]
  },
  {
   "cell_type": "code",
   "execution_count": 82,
   "metadata": {
    "ExecuteTime": {
     "end_time": "2018-08-26T14:56:57.459474Z",
     "start_time": "2018-08-26T14:56:57.448775Z"
    },
    "scrolled": true
   },
   "outputs": [],
   "source": [
    "# if X_train_text5.empty == False: print(\"{}\".format(X_train_text5))"
   ]
  },
  {
   "cell_type": "code",
   "execution_count": 45,
   "metadata": {
    "ExecuteTime": {
     "end_time": "2018-09-15T07:09:06.733771Z",
     "start_time": "2018-09-15T07:09:06.714741Z"
    }
   },
   "outputs": [
    {
     "name": "stdout",
     "output_type": "stream",
     "text": [
      "83144 94177\n",
      "83144 94177\n",
      "83144\n"
     ]
    }
   ],
   "source": [
    "print(\"{} {}\".format(X_train_text4.shape[0],X_train_text5.shape[0]))\n",
    "print(\"{} {}\".format(y_data_4.shape[0],y_data_5.shape[0]))\n",
    "print(\"{}\".format(y2_data_4.shape[0]))"
   ]
  },
  {
   "cell_type": "markdown",
   "metadata": {},
   "source": [
    "## データの保存\n",
    "2018年8月実行時点でpickleファイルは32MB。"
   ]
  },
  {
   "cell_type": "code",
   "execution_count": 46,
   "metadata": {
    "ExecuteTime": {
     "end_time": "2018-09-15T07:09:12.179391Z",
     "start_time": "2018-09-15T07:09:12.013615Z"
    }
   },
   "outputs": [],
   "source": [
    "with open(pickle_file1, 'wb') as f:\n",
    "    pickle.dump(X_train_text4, f)\n",
    "    pickle.dump(y_data_4, f)\n",
    "    pickle.dump(y2_data_4, f)\n",
    "    pickle.dump(X_train_text5, f)\n",
    "    pickle.dump(y_data_5, f)"
   ]
  },
  {
   "cell_type": "markdown",
   "metadata": {},
   "source": [
    "## データの長さ"
   ]
  },
  {
   "cell_type": "code",
   "execution_count": 49,
   "metadata": {
    "ExecuteTime": {
     "end_time": "2018-09-15T07:09:54.043006Z",
     "start_time": "2018-09-15T07:09:53.815916Z"
    }
   },
   "outputs": [],
   "source": [
    "def get_length(_str):\n",
    "    return len( _str.split() )\n",
    "len4 = X_train_text4[\"txt\"].map(get_length).to_frame()\n",
    "len5 = X_train_text5[\"txt\"].map(get_length).to_frame()\n",
    "# print(len4,len5)"
   ]
  },
  {
   "cell_type": "code",
   "execution_count": 50,
   "metadata": {
    "ExecuteTime": {
     "end_time": "2018-09-15T07:09:55.111567Z",
     "start_time": "2018-09-15T07:09:55.107839Z"
    }
   },
   "outputs": [
    {
     "name": "stdout",
     "output_type": "stream",
     "text": [
      "83144 94177\n",
      "83144 94177\n",
      "83144\n"
     ]
    }
   ],
   "source": [
    "print(\"{} {}\".format(X_train_text4.shape[0],X_train_text5.shape[0]))\n",
    "print(\"{} {}\".format(y_data_4.shape[0],y_data_5.shape[0]))\n",
    "print(\"{}\".format(y2_data_4.shape[0]))"
   ]
  },
  {
   "cell_type": "code",
   "execution_count": 87,
   "metadata": {
    "ExecuteTime": {
     "end_time": "2018-08-26T14:56:58.658100Z",
     "start_time": "2018-08-26T14:56:58.650731Z"
    }
   },
   "outputs": [],
   "source": [
    "# %matplotlib inline\n",
    "# import matplotlib.pyplot as plt\n",
    "# plt.hist(len4)"
   ]
  },
  {
   "cell_type": "code",
   "execution_count": 51,
   "metadata": {
    "ExecuteTime": {
     "end_time": "2018-09-15T07:09:59.135411Z",
     "start_time": "2018-09-15T07:09:59.122234Z"
    }
   },
   "outputs": [
    {
     "name": "stdout",
     "output_type": "stream",
     "text": [
      "(83144, 1) (94177, 1)\n"
     ]
    }
   ],
   "source": [
    "print(len4.shape,len5.shape)"
   ]
  },
  {
   "cell_type": "code",
   "execution_count": 52,
   "metadata": {
    "ExecuteTime": {
     "end_time": "2018-09-15T07:10:00.076019Z",
     "start_time": "2018-09-15T07:10:00.059331Z"
    }
   },
   "outputs": [
    {
     "name": "stdout",
     "output_type": "stream",
     "text": [
      "83144 94177\n"
     ]
    }
   ],
   "source": [
    "TH_NUM = 0 # thresh hold number\n",
    "print(sum(len4[\"txt\"]>0),sum(len5[\"txt\"]>0))"
   ]
  },
  {
   "cell_type": "code",
   "execution_count": 53,
   "metadata": {
    "ExecuteTime": {
     "end_time": "2018-09-15T07:10:03.655821Z",
     "start_time": "2018-09-15T07:10:03.456594Z"
    }
   },
   "outputs": [
    {
     "data": {
      "text/plain": [
       "array([[<matplotlib.axes._subplots.AxesSubplot object at 0x7fbb4f6a91d0>]],\n",
       "      dtype=object)"
      ]
     },
     "execution_count": 53,
     "metadata": {},
     "output_type": "execute_result"
    },
    {
     "data": {
      "image/png": "[encoded data removed]",
      "text/plain": [
       "<Figure size 432x288 with 1 Axes>"
      ]
     },
     "metadata": {},
     "output_type": "display_data"
    }
   ],
   "source": [
    "len4.hist(\"txt\")"
   ]
  },
  {
   "cell_type": "code",
   "execution_count": 54,
   "metadata": {
    "ExecuteTime": {
     "end_time": "2018-09-15T07:10:06.887533Z",
     "start_time": "2018-09-15T07:10:06.634373Z"
    }
   },
   "outputs": [
    {
     "data": {
      "text/plain": [
       "array([[<matplotlib.axes._subplots.AxesSubplot object at 0x7fbb41092518>]],\n",
       "      dtype=object)"
      ]
     },
     "execution_count": 54,
     "metadata": {},
     "output_type": "execute_result"
    },
    {
     "data": {
      "image/png": "[encoded data removed]",
      "text/plain": [
       "<Figure size 432x288 with 1 Axes>"
      ]
     },
     "metadata": {},
     "output_type": "display_data"
    }
   ],
   "source": [
    "len5.hist(\"txt\")"
   ]
  },
  {
   "cell_type": "code",
   "execution_count": 55,
   "metadata": {
    "ExecuteTime": {
     "end_time": "2018-09-15T07:10:09.301501Z",
     "start_time": "2018-09-15T07:10:09.295178Z"
    }
   },
   "outputs": [],
   "source": [
    "# sns.distplot(len4, kde=False, rug=False, bins=10) \n",
    "# sns.distplot(len4, kde=False, rug=False, bins=10)"
   ]
  },
  {
   "cell_type": "code",
   "execution_count": 56,
   "metadata": {
    "ExecuteTime": {
     "end_time": "2018-09-15T07:10:09.913462Z",
     "start_time": "2018-09-15T07:10:09.839058Z"
    }
   },
   "outputs": [
    {
     "data": {
      "text/html": [
       "<div>\n",
       "<style scoped>\n",
       "    .dataframe tbody tr th:only-of-type {\n",
       "        vertical-align: middle;\n",
       "    }\n",
       "\n",
       "    .dataframe tbody tr th {\n",
       "        vertical-align: top;\n",
       "    }\n",
       "\n",
       "    .dataframe thead th {\n",
       "        text-align: right;\n",
       "    }\n",
       "</style>\n",
       "<table border=\"1\" class=\"dataframe\">\n",
       "  <thead>\n",
       "    <tr style=\"text-align: right;\">\n",
       "      <th></th>\n",
       "      <th>txt</th>\n",
       "    </tr>\n",
       "  </thead>\n",
       "  <tbody>\n",
       "    <tr>\n",
       "      <th>count</th>\n",
       "      <td>83144.000000</td>\n",
       "    </tr>\n",
       "    <tr>\n",
       "      <th>mean</th>\n",
       "      <td>16.299504</td>\n",
       "    </tr>\n",
       "    <tr>\n",
       "      <th>std</th>\n",
       "      <td>9.567171</td>\n",
       "    </tr>\n",
       "    <tr>\n",
       "      <th>min</th>\n",
       "      <td>1.000000</td>\n",
       "    </tr>\n",
       "    <tr>\n",
       "      <th>25%</th>\n",
       "      <td>9.000000</td>\n",
       "    </tr>\n",
       "    <tr>\n",
       "      <th>50%</th>\n",
       "      <td>14.000000</td>\n",
       "    </tr>\n",
       "    <tr>\n",
       "      <th>75%</th>\n",
       "      <td>21.000000</td>\n",
       "    </tr>\n",
       "    <tr>\n",
       "      <th>max</th>\n",
       "      <td>88.000000</td>\n",
       "    </tr>\n",
       "  </tbody>\n",
       "</table>\n",
       "</div>"
      ],
      "text/plain": [
       "                txt\n",
       "count  83144.000000\n",
       "mean      16.299504\n",
       "std        9.567171\n",
       "min        1.000000\n",
       "25%        9.000000\n",
       "50%       14.000000\n",
       "75%       21.000000\n",
       "max       88.000000"
      ]
     },
     "execution_count": 56,
     "metadata": {},
     "output_type": "execute_result"
    }
   ],
   "source": [
    "len4.describe()"
   ]
  },
  {
   "cell_type": "code",
   "execution_count": 57,
   "metadata": {
    "ExecuteTime": {
     "end_time": "2018-09-15T07:10:12.185498Z",
     "start_time": "2018-09-15T07:10:12.147692Z"
    }
   },
   "outputs": [
    {
     "data": {
      "text/html": [
       "<div>\n",
       "<style scoped>\n",
       "    .dataframe tbody tr th:only-of-type {\n",
       "        vertical-align: middle;\n",
       "    }\n",
       "\n",
       "    .dataframe tbody tr th {\n",
       "        vertical-align: top;\n",
       "    }\n",
       "\n",
       "    .dataframe thead th {\n",
       "        text-align: right;\n",
       "    }\n",
       "</style>\n",
       "<table border=\"1\" class=\"dataframe\">\n",
       "  <thead>\n",
       "    <tr style=\"text-align: right;\">\n",
       "      <th></th>\n",
       "      <th>txt</th>\n",
       "    </tr>\n",
       "  </thead>\n",
       "  <tbody>\n",
       "    <tr>\n",
       "      <th>count</th>\n",
       "      <td>94177.000000</td>\n",
       "    </tr>\n",
       "    <tr>\n",
       "      <th>mean</th>\n",
       "      <td>16.013517</td>\n",
       "    </tr>\n",
       "    <tr>\n",
       "      <th>std</th>\n",
       "      <td>9.197724</td>\n",
       "    </tr>\n",
       "    <tr>\n",
       "      <th>min</th>\n",
       "      <td>1.000000</td>\n",
       "    </tr>\n",
       "    <tr>\n",
       "      <th>25%</th>\n",
       "      <td>9.000000</td>\n",
       "    </tr>\n",
       "    <tr>\n",
       "      <th>50%</th>\n",
       "      <td>14.000000</td>\n",
       "    </tr>\n",
       "    <tr>\n",
       "      <th>75%</th>\n",
       "      <td>21.000000</td>\n",
       "    </tr>\n",
       "    <tr>\n",
       "      <th>max</th>\n",
       "      <td>87.000000</td>\n",
       "    </tr>\n",
       "  </tbody>\n",
       "</table>\n",
       "</div>"
      ],
      "text/plain": [
       "                txt\n",
       "count  94177.000000\n",
       "mean      16.013517\n",
       "std        9.197724\n",
       "min        1.000000\n",
       "25%        9.000000\n",
       "50%       14.000000\n",
       "75%       21.000000\n",
       "max       87.000000"
      ]
     },
     "execution_count": 57,
     "metadata": {},
     "output_type": "execute_result"
    }
   ],
   "source": [
    "len5.describe()"
   ]
  }
 ],
 "metadata": {
  "kernelspec": {
   "display_name": "Python 3",
   "language": "python",
   "name": "python3"
  },
  "language_info": {
   "codemirror_mode": {
    "name": "ipython",
    "version": 3
   },
   "file_extension": ".py",
   "mimetype": "text/x-python",
   "name": "python",
   "nbconvert_exporter": "python",
   "pygments_lexer": "ipython3",
   "version": "3.6.5"
  },
  "toc": {
   "base_numbering": 1,
   "nav_menu": {},
   "number_sections": true,
   "sideBar": true,
   "skip_h1_title": false,
   "title_cell": "Table of Contents",
   "title_sidebar": "Contents",
   "toc_cell": false,
   "toc_position": {
    "height": "calc(100% - 180px)",
    "left": "10px",
    "top": "150px",
    "width": "265px"
   },
   "toc_section_display": true,
   "toc_window_display": true
  },
  "varInspector": {
   "cols": {
    "lenName": 16,
    "lenType": 16,
    "lenVar": 40
   },
   "kernels_config": {
    "python": {
     "delete_cmd_postfix": "",
     "delete_cmd_prefix": "del ",
     "library": "var_list.py",
     "varRefreshCmd": "print(var_dic_list())"
    },
    "r": {
     "delete_cmd_postfix": ") ",
     "delete_cmd_prefix": "rm(",
     "library": "var_list.r",
     "varRefreshCmd": "cat(var_dic_list()) "
    }
   },
   "position": {
    "height": "351px",
    "left": "955px",
    "right": "20px",
    "top": "120px",
    "width": "350px"
   },
   "types_to_exclude": [
    "module",
    "function",
    "builtin_function_or_method",
    "instance",
    "_Feature"
   ],
   "window_display": false
  }
 },
 "nbformat": 4,
 "nbformat_minor": 2
}
