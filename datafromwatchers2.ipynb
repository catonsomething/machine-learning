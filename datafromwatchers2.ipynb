{
 "cells": [
  {
   "cell_type": "markdown",
   "metadata": {},
   "source": [
    "# 機械学習用日本語テキストデータ２\n",
    "「機械学習用日本語テキストデータ」が長くなったのでその続き。"
   ]
  },
  {
   "cell_type": "markdown",
   "metadata": {},
   "source": [
    "# 初期設定"
   ]
  },
  {
   "cell_type": "code",
   "execution_count": 1,
   "metadata": {
    "ExecuteTime": {
     "end_time": "2018-09-15T07:11:06.720353Z",
     "start_time": "2018-09-15T07:11:05.832749Z"
    }
   },
   "outputs": [],
   "source": [
    "import pandas as pd\n",
    "import sys\n",
    "import CaboCha\n",
    "import os\n",
    "import seaborn as sns\n",
    "from urllib.error import HTTPError\n",
    "import pickle\n",
    "from sklearn.feature_extraction.text import CountVectorizer\n",
    "\n",
    "sswords_file = \"./stopwords.txt\" # from SlothLib\n",
    "data_dir = \"./watchers/\"\n",
    "# log_dir = \"./watchers.log/\"\n",
    "pickle_file1 = \"./watchers.pickel\"\n",
    "\n",
    "cols_for_four=[\"eval\",\"ind\",\"reasons\",\"txt\"]\n",
    "cols_for_five=cols_for_four[:]\n",
    "del cols_for_five[2]\n",
    "\n",
    "NUM_TO_IGNORE_4 = 14 # 4系データについてはこの単語数以下のデータを捨てる\n",
    "NUM_TO_IGNORE_5 = 14 # 5系データについてはこの単語数以下のデータを捨てる"
   ]
  },
  {
   "cell_type": "markdown",
   "metadata": {},
   "source": [
    "# データの読込み "
   ]
  },
  {
   "cell_type": "code",
   "execution_count": 2,
   "metadata": {
    "ExecuteTime": {
     "end_time": "2018-09-15T07:11:10.161392Z",
     "start_time": "2018-09-15T07:11:10.023052Z"
    }
   },
   "outputs": [],
   "source": [
    "with open(pickle_file1, 'rb') as f:\n",
    "    X_train_text4 = pickle.load(f)\n",
    "    y_data_4 = pickle.load(f)\n",
    "    y2_data_4 = pickle.load(f)\n",
    "    X_train_text5 = pickle.load(f)\n",
    "    y_data_5 = pickle.load(f)"
   ]
  },
  {
   "cell_type": "markdown",
   "metadata": {
    "ExecuteTime": {
     "end_time": "2018-09-02T09:25:41.178615Z",
     "start_time": "2018-09-02T09:25:41.176372Z"
    }
   },
   "source": [
    "## データ量確認"
   ]
  },
  {
   "cell_type": "code",
   "execution_count": 3,
   "metadata": {
    "ExecuteTime": {
     "end_time": "2018-09-15T07:11:13.232127Z",
     "start_time": "2018-09-15T07:11:13.227008Z"
    }
   },
   "outputs": [
    {
     "name": "stdout",
     "output_type": "stream",
     "text": [
      "83144 94177\n",
      "83144 94177\n",
      "83144\n"
     ]
    }
   ],
   "source": [
    "print(\"{} {}\".format(X_train_text4.shape[0],X_train_text5.shape[0]))\n",
    "print(\"{} {}\".format(y_data_4.shape[0],y_data_5.shape[0]))\n",
    "print(\"{}\".format(y2_data_4.shape[0]))"
   ]
  },
  {
   "cell_type": "markdown",
   "metadata": {},
   "source": [
    "## 各ラベルの数量確認"
   ]
  },
  {
   "cell_type": "code",
   "execution_count": 4,
   "metadata": {
    "ExecuteTime": {
     "end_time": "2018-09-15T07:11:16.942709Z",
     "start_time": "2018-09-15T07:11:16.903105Z"
    },
    "scrolled": true
   },
   "outputs": [
    {
     "name": "stdout",
     "output_type": "stream",
     "text": [
      "eval\n",
      "0     1889\n",
      "1    19428\n",
      "2    40907\n",
      "3    17427\n",
      "4     3493\n",
      "Name: eval, dtype: int64 reasons\n",
      "0     17302\n",
      "1      3504\n",
      "2      5019\n",
      "3     12582\n",
      "4     17779\n",
      "5      9799\n",
      "6      5571\n",
      "7      1520\n",
      "8      4927\n",
      "9       693\n",
      "10      501\n",
      "11     1046\n",
      "12     1850\n",
      "13     1051\n",
      "Name: reasons, dtype: int64 eval\n",
      "0     2098\n",
      "1    23221\n",
      "2    48337\n",
      "3    16944\n",
      "4     3577\n",
      "Name: eval, dtype: int64\n"
     ]
    }
   ],
   "source": [
    "# y_data_4.groupby(y_data_4).filter(lambda x: len(x) > 2)\n",
    "original_4 = y_data_4.groupby(y_data_4).size()\n",
    "original2_4 = y2_data_4.groupby(y2_data_4).size()\n",
    "original_5 = y_data_5.groupby(y_data_5).size()\n",
    "print(original_4,original2_4,original_5)"
   ]
  },
  {
   "cell_type": "markdown",
   "metadata": {},
   "source": [
    "# データ取捨選択(長さ)"
   ]
  },
  {
   "cell_type": "markdown",
   "metadata": {},
   "source": [
    "## トレーニングデータの各レコードの語数を取得"
   ]
  },
  {
   "cell_type": "code",
   "execution_count": 5,
   "metadata": {
    "ExecuteTime": {
     "end_time": "2018-09-15T07:11:31.334357Z",
     "start_time": "2018-09-15T07:11:31.107640Z"
    }
   },
   "outputs": [
    {
     "name": "stdout",
     "output_type": "stream",
     "text": [
      "83144 94177\n"
     ]
    }
   ],
   "source": [
    "def get_length(_str):\n",
    "    return len( _str.split() )\n",
    "len4 = X_train_text4[\"txt\"].map(get_length).to_frame()\n",
    "len5 = X_train_text5[\"txt\"].map(get_length).to_frame()\n",
    "print(len(len4),len(len5))"
   ]
  },
  {
   "cell_type": "code",
   "execution_count": 6,
   "metadata": {
    "ExecuteTime": {
     "end_time": "2018-09-15T07:11:33.467340Z",
     "start_time": "2018-09-15T07:11:33.457873Z"
    }
   },
   "outputs": [
    {
     "name": "stdout",
     "output_type": "stream",
     "text": [
      "83144 94177\n",
      "83144 94177\n",
      "83144\n"
     ]
    }
   ],
   "source": [
    "print(\"{} {}\".format(X_train_text4.shape[0],X_train_text5.shape[0]))\n",
    "print(\"{} {}\".format(y_data_4.shape[0],y_data_5.shape[0]))\n",
    "print(\"{}\".format(y2_data_4.shape[0]))"
   ]
  },
  {
   "cell_type": "code",
   "execution_count": 7,
   "metadata": {
    "ExecuteTime": {
     "end_time": "2018-09-15T07:11:37.027638Z",
     "start_time": "2018-09-15T07:11:36.779350Z"
    }
   },
   "outputs": [
    {
     "name": "stdout",
     "output_type": "stream",
     "text": [
      "[[<matplotlib.axes._subplots.AxesSubplot object at 0x7f338c747470>]]                 txt\n",
      "count  83144.000000\n",
      "mean      16.299504\n",
      "std        9.567171\n",
      "min        1.000000\n",
      "25%        9.000000\n",
      "50%       14.000000\n",
      "75%       21.000000\n",
      "max       88.000000\n"
     ]
    },
    {
     "data": {
      "image/png": "[encoded data removed]",
      "text/plain": [
       "<Figure size 432x288 with 1 Axes>"
      ]
     },
     "metadata": {},
     "output_type": "display_data"
    }
   ],
   "source": [
    "print(\"{} {}\".format(len4.hist(\"txt\"),len4.describe()))"
   ]
  },
  {
   "cell_type": "code",
   "execution_count": 8,
   "metadata": {
    "ExecuteTime": {
     "end_time": "2018-09-15T07:11:38.853551Z",
     "start_time": "2018-09-15T07:11:38.607379Z"
    },
    "scrolled": true
   },
   "outputs": [
    {
     "name": "stdout",
     "output_type": "stream",
     "text": [
      "[[<matplotlib.axes._subplots.AxesSubplot object at 0x7f338a6ac6d8>]]                 txt\n",
      "count  94177.000000\n",
      "mean      16.013517\n",
      "std        9.197724\n",
      "min        1.000000\n",
      "25%        9.000000\n",
      "50%       14.000000\n",
      "75%       21.000000\n",
      "max       87.000000\n"
     ]
    },
    {
     "data": {
      "image/png": "[encoded data removed]",
      "text/plain": [
       "<Figure size 432x288 with 1 Axes>"
      ]
     },
     "metadata": {},
     "output_type": "display_data"
    }
   ],
   "source": [
    "print(\"{} {}\".format(len5.hist(\"txt\"),len5.describe()))"
   ]
  },
  {
   "cell_type": "code",
   "execution_count": 25,
   "metadata": {
    "ExecuteTime": {
     "end_time": "2018-09-02T10:22:59.331677Z",
     "start_time": "2018-09-02T10:22:59.312650Z"
    }
   },
   "outputs": [
    {
     "data": {
      "text/html": [
       "<div>\n",
       "<style scoped>\n",
       "    .dataframe tbody tr th:only-of-type {\n",
       "        vertical-align: middle;\n",
       "    }\n",
       "\n",
       "    .dataframe tbody tr th {\n",
       "        vertical-align: top;\n",
       "    }\n",
       "\n",
       "    .dataframe thead th {\n",
       "        text-align: right;\n",
       "    }\n",
       "</style>\n",
       "<table border=\"1\" class=\"dataframe\">\n",
       "  <thead>\n",
       "    <tr style=\"text-align: right;\">\n",
       "      <th></th>\n",
       "      <th>txt</th>\n",
       "    </tr>\n",
       "  </thead>\n",
       "  <tbody>\n",
       "    <tr>\n",
       "      <th>0</th>\n",
       "      <td>外国 観光 大量 買い なくなる 国内 による 土産 購入 ある 個人 消費 少し 持ち直す いる</td>\n",
       "    </tr>\n",
       "    <tr>\n",
       "      <th>1</th>\n",
       "      <td>流れ 戻る いる</td>\n",
       "    </tr>\n",
       "    <tr>\n",
       "      <th>2</th>\n",
       "      <td>来客 増加 傾向 続く いる 移る 絶好 行楽 シーズン 到来 道者 増加 いる 好影響 も...</td>\n",
       "    </tr>\n",
       "    <tr>\n",
       "      <th>3</th>\n",
       "      <td>ビール 値上げ 駆け込み 需要 られる 販売 伸びる おる 景気 やや 上向き なる いる</td>\n",
       "    </tr>\n",
       "    <tr>\n",
       "      <th>4</th>\n",
       "      <td>今期 入る 来客 増加 傾向 続く いる</td>\n",
       "    </tr>\n",
       "    <tr>\n",
       "      <th>5</th>\n",
       "      <td>前半 気温 高い 推移 飲料 酒類 精肉 需要 高まる 来客 増加 つながる また 平均 買...</td>\n",
       "    </tr>\n",
       "    <tr>\n",
       "      <th>6</th>\n",
       "      <td>ゴールデンウィーク 動き 活発 だ 後半 駆け込み 需要 ある 一時 動き ある 売上 増加 いる</td>\n",
       "    </tr>\n",
       "    <tr>\n",
       "      <th>7</th>\n",
       "      <td>ゴールデンウィーク 期間 天候 良い 行楽 利用 多い 売上 来客 共に 回復 傾向 ある ...</td>\n",
       "    </tr>\n",
       "    <tr>\n",
       "      <th>8</th>\n",
       "      <td>観光 増える おる 伴う 来客 売上 回復 いる</td>\n",
       "    </tr>\n",
       "    <tr>\n",
       "      <th>9</th>\n",
       "      <td>購入 客数 前年 アップ 単価 前年 アップ 堅調 推移 いる 特に 天候 良い なる 月末...</td>\n",
       "    </tr>\n",
       "    <tr>\n",
       "      <th>10</th>\n",
       "      <td>後半 なる 夏物 家電 注目 する なる 購入 つながる いる 冷房 機器 コーナー にぎわ...</td>\n",
       "    </tr>\n",
       "    <tr>\n",
       "      <th>11</th>\n",
       "      <td>アジア 観光 好調 ある 特に ゴルフ 目的 観光 好調 ある 大統領 選挙 終える ばかり...</td>\n",
       "    </tr>\n",
       "    <tr>\n",
       "      <th>12</th>\n",
       "      <td>ゴールデンウィーク やや 寒い ある 全般 天候 良い チューリップ 各地 観光 集客 順調...</td>\n",
       "    </tr>\n",
       "    <tr>\n",
       "      <th>13</th>\n",
       "      <td>前年 台風 被害 旅行 自粛 各種 組織 団体 旅行 計画 する 動き 始める いる</td>\n",
       "    </tr>\n",
       "    <tr>\n",
       "      <th>14</th>\n",
       "      <td>旅行 に関する 問い合わせ 件数 増える いる</td>\n",
       "    </tr>\n",
       "    <tr>\n",
       "      <th>15</th>\n",
       "      <td>夏秋 旅行 需要 増える いる</td>\n",
       "    </tr>\n",
       "    <tr>\n",
       "      <th>16</th>\n",
       "      <td>来店 周期 より 短い なる おる 技術 売上 関連 する 売上 共に 前年 程度 増加 いる</td>\n",
       "    </tr>\n",
       "    <tr>\n",
       "      <th>17</th>\n",
       "      <td>旅客 特に 個人 利用 増加 いる また 乗用車 輸送 伸びる いる</td>\n",
       "    </tr>\n",
       "    <tr>\n",
       "      <th>18</th>\n",
       "      <td>百貨店 撤退 影響 じわじわ いる 中心 商店 減少 おる 各店 売上 影響 られる という...</td>\n",
       "    </tr>\n",
       "    <tr>\n",
       "      <th>19</th>\n",
       "      <td>様子 変化 られる ない</td>\n",
       "    </tr>\n",
       "    <tr>\n",
       "      <th>20</th>\n",
       "      <td>入る 旅行 増加 伴う 土産 交通 宿泊 業種 売上 伸ばす いる 例年 比較 する 国内 ...</td>\n",
       "    </tr>\n",
       "    <tr>\n",
       "      <th>21</th>\n",
       "      <td>前年 北海道 新幹線 開業 効果 ある 国内 多い 今年 落ち着く 様相 ある</td>\n",
       "    </tr>\n",
       "    <tr>\n",
       "      <th>22</th>\n",
       "      <td>アジア 観光 好調 推移 いる 加える 入る 天候 回復 ある 売上 前年 とても 良い た...</td>\n",
       "    </tr>\n",
       "    <tr>\n",
       "      <th>23</th>\n",
       "      <td>景気 上向く いる とも 下向 いる いえる ない 当社 競合 売上 前年 上回る 景気 回...</td>\n",
       "    </tr>\n",
       "    <tr>\n",
       "      <th>24</th>\n",
       "      <td>ゴールデンウィーク 期間 商戦 来客 減少 歯止め かかる ない 状況 ある ディスカウント...</td>\n",
       "    </tr>\n",
       "    <tr>\n",
       "      <th>25</th>\n",
       "      <td>地方 昇給 行う として 持続 ある ない 雇用 環境 改善 景気 消費 活性 つながる な...</td>\n",
       "    </tr>\n",
       "    <tr>\n",
       "      <th>26</th>\n",
       "      <td>ゴールデンウィーク 期間 好天 恵まれる ある 売上 好調 だ 後半 例年 より 気温 低い...</td>\n",
       "    </tr>\n",
       "    <tr>\n",
       "      <th>27</th>\n",
       "      <td>ゴールデンウィーク 期間 来客 買上 客数 前年 下回る</td>\n",
       "    </tr>\n",
       "    <tr>\n",
       "      <th>28</th>\n",
       "      <td>冷蔵庫 始め 家電 販売 例年 比べる 落ち込む いる</td>\n",
       "    </tr>\n",
       "    <tr>\n",
       "      <th>29</th>\n",
       "      <td>新型 効果 レンタカー 需要 新車 受注 若干 上向き 傾向 ある 関連 販売 見込み ほど...</td>\n",
       "    </tr>\n",
       "    <tr>\n",
       "      <th>...</th>\n",
       "      <td>...</td>\n",
       "    </tr>\n",
       "    <tr>\n",
       "      <th>88937</th>\n",
       "      <td>パート 求人 増加 求人 全体 底上げ 寄与 この フルタイム 求人 増加 傾向 顕著 なる...</td>\n",
       "    </tr>\n",
       "    <tr>\n",
       "      <th>88938</th>\n",
       "      <td>四半期 入る 求人 前年 同月 上回る 推移 いる 注文 前年 同月 プラス ある</td>\n",
       "    </tr>\n",
       "    <tr>\n",
       "      <th>88939</th>\n",
       "      <td>対象 まで 求人 件数 前年度 前年 超える 維持 おる 増加 傾向 反映 いる 厳選 採用...</td>\n",
       "    </tr>\n",
       "    <tr>\n",
       "      <th>88940</th>\n",
       "      <td>前年 比較 求人 動き 大きな 変化 られる ない</td>\n",
       "    </tr>\n",
       "    <tr>\n",
       "      <th>88941</th>\n",
       "      <td>有効 求人 倍率 改善 いる</td>\n",
       "    </tr>\n",
       "    <tr>\n",
       "      <th>88942</th>\n",
       "      <td>商工 団体 において 現在 政策 に対し 期待 ある ものの まだ 実感 できる ない 大半...</td>\n",
       "    </tr>\n",
       "    <tr>\n",
       "      <th>88943</th>\n",
       "      <td>半導体 工場 閉鎖 により 求職 増える いる 求人 増える ない</td>\n",
       "    </tr>\n",
       "    <tr>\n",
       "      <th>88949</th>\n",
       "      <td>個人 観光 外国 観光 来客 伸び けん引 いる</td>\n",
       "    </tr>\n",
       "    <tr>\n",
       "      <th>88950</th>\n",
       "      <td>出荷 前年 より 増える いる</td>\n",
       "    </tr>\n",
       "    <tr>\n",
       "      <th>88951</th>\n",
       "      <td>衣料 中心 サマークリアランス 例年 より 早い 前月 より スタート 経緯 今月 苦戦 す...</td>\n",
       "    </tr>\n",
       "    <tr>\n",
       "      <th>88952</th>\n",
       "      <td>今月 晴れ 多い 来客 売上 伸びる いる なかでも 好調 青果 精肉 けん引</td>\n",
       "    </tr>\n",
       "    <tr>\n",
       "      <th>88953</th>\n",
       "      <td>夏場 ソフトドリンク よく おる また 小学校 祭り 催す</td>\n",
       "    </tr>\n",
       "    <tr>\n",
       "      <th>88954</th>\n",
       "      <td>か月 比べる 来客 改善 いる</td>\n",
       "    </tr>\n",
       "    <tr>\n",
       "      <th>88955</th>\n",
       "      <td>来客 多少 減少 いる 購入 単価 アップ 図る いる ので 前年 並み 少し 上向き なる</td>\n",
       "    </tr>\n",
       "    <tr>\n",
       "      <th>88956</th>\n",
       "      <td>商談 ペース スピードアップ 住宅 請負 受注 に対して 積極 姿勢 伺える か月 比べる ...</td>\n",
       "    </tr>\n",
       "    <tr>\n",
       "      <th>88957</th>\n",
       "      <td>個人 住宅 アパート 建設 に対する 投資 姿勢 積極 感じる られる</td>\n",
       "    </tr>\n",
       "    <tr>\n",
       "      <th>88958</th>\n",
       "      <td>来客 当たり 買上 点数 減少 いる</td>\n",
       "    </tr>\n",
       "    <tr>\n",
       "      <th>88959</th>\n",
       "      <td>地域 によって 特に 離島 に関して 観光 恩恵 受ける 今後 観光 増加 続く られる 全...</td>\n",
       "    </tr>\n",
       "    <tr>\n",
       "      <th>88960</th>\n",
       "      <td>か月 比較 販売 変化 られる ない だが 下げ止まり感 ある</td>\n",
       "    </tr>\n",
       "    <tr>\n",
       "      <th>88961</th>\n",
       "      <td>中国人 台湾 観光 増える いる 一方 本土 国内 観光 減少 いる ゴールデンウィーク 同...</td>\n",
       "    </tr>\n",
       "    <tr>\n",
       "      <th>88962</th>\n",
       "      <td>か月 に関して 客室 稼働 前年 同月 実績 上回る ものの 今月 予約 伸び 弱い 前年 ...</td>\n",
       "    </tr>\n",
       "    <tr>\n",
       "      <th>88963</th>\n",
       "      <td>か月 商品 発売 販売 好調 だ 初動 のみ 落ち着く しまう 全体 販売 前年 割れ なる いる</td>\n",
       "    </tr>\n",
       "    <tr>\n",
       "      <th>88964</th>\n",
       "      <td>参院 市議会 影響 ってか 平日 地元 減る 選挙 例年 ある 地元 平日 予約 ほとんど ...</td>\n",
       "    </tr>\n",
       "    <tr>\n",
       "      <th>88966</th>\n",
       "      <td>公共 工事 民間 工事 やや なる いる</td>\n",
       "    </tr>\n",
       "    <tr>\n",
       "      <th>88967</th>\n",
       "      <td>新築 及び リフォーム 受注 件数 少し 上向く いる</td>\n",
       "    </tr>\n",
       "    <tr>\n",
       "      <th>88968</th>\n",
       "      <td>建築 物件 増加 伴う 付随 する 設備 関連 輸送 増加 季節 家電 エコ 関連 家電 増...</td>\n",
       "    </tr>\n",
       "    <tr>\n",
       "      <th>88970</th>\n",
       "      <td>契約 単価 下落 傾向 ある</td>\n",
       "    </tr>\n",
       "    <tr>\n",
       "      <th>88971</th>\n",
       "      <td>夏場 なる 肥育 状況 悪い なる 不足 状況 なる いる</td>\n",
       "    </tr>\n",
       "    <tr>\n",
       "      <th>88973</th>\n",
       "      <td>幅広い 職種 派遣 新規 依頼 いる また 既存 ユーザー 派遣 人数 追加 依頼 ある 事...</td>\n",
       "    </tr>\n",
       "    <tr>\n",
       "      <th>88975</th>\n",
       "      <td>県内 プチバブル 言う いる 企業 増える 求人 増える ない 思う</td>\n",
       "    </tr>\n",
       "  </tbody>\n",
       "</table>\n",
       "<p>83144 rows × 1 columns</p>\n",
       "</div>"
      ],
      "text/plain": [
       "                                                     txt\n",
       "0      外国 観光 大量 買い なくなる 国内 による 土産 購入 ある 個人 消費 少し 持ち直す いる\n",
       "1                                               流れ 戻る いる\n",
       "2      来客 増加 傾向 続く いる 移る 絶好 行楽 シーズン 到来 道者 増加 いる 好影響 も...\n",
       "3          ビール 値上げ 駆け込み 需要 られる 販売 伸びる おる 景気 やや 上向き なる いる\n",
       "4                                   今期 入る 来客 増加 傾向 続く いる\n",
       "5      前半 気温 高い 推移 飲料 酒類 精肉 需要 高まる 来客 増加 つながる また 平均 買...\n",
       "6      ゴールデンウィーク 動き 活発 だ 後半 駆け込み 需要 ある 一時 動き ある 売上 増加 いる\n",
       "7      ゴールデンウィーク 期間 天候 良い 行楽 利用 多い 売上 来客 共に 回復 傾向 ある ...\n",
       "8                               観光 増える おる 伴う 来客 売上 回復 いる\n",
       "9      購入 客数 前年 アップ 単価 前年 アップ 堅調 推移 いる 特に 天候 良い なる 月末...\n",
       "10     後半 なる 夏物 家電 注目 する なる 購入 つながる いる 冷房 機器 コーナー にぎわ...\n",
       "11     アジア 観光 好調 ある 特に ゴルフ 目的 観光 好調 ある 大統領 選挙 終える ばかり...\n",
       "12     ゴールデンウィーク やや 寒い ある 全般 天候 良い チューリップ 各地 観光 集客 順調...\n",
       "13            前年 台風 被害 旅行 自粛 各種 組織 団体 旅行 計画 する 動き 始める いる\n",
       "14                               旅行 に関する 問い合わせ 件数 増える いる\n",
       "15                                       夏秋 旅行 需要 増える いる\n",
       "16       来店 周期 より 短い なる おる 技術 売上 関連 する 売上 共に 前年 程度 増加 いる\n",
       "17                    旅客 特に 個人 利用 増加 いる また 乗用車 輸送 伸びる いる\n",
       "18     百貨店 撤退 影響 じわじわ いる 中心 商店 減少 おる 各店 売上 影響 られる という...\n",
       "19                                          様子 変化 られる ない\n",
       "20     入る 旅行 増加 伴う 土産 交通 宿泊 業種 売上 伸ばす いる 例年 比較 する 国内 ...\n",
       "21               前年 北海道 新幹線 開業 効果 ある 国内 多い 今年 落ち着く 様相 ある\n",
       "22     アジア 観光 好調 推移 いる 加える 入る 天候 回復 ある 売上 前年 とても 良い た...\n",
       "23     景気 上向く いる とも 下向 いる いえる ない 当社 競合 売上 前年 上回る 景気 回...\n",
       "24     ゴールデンウィーク 期間 商戦 来客 減少 歯止め かかる ない 状況 ある ディスカウント...\n",
       "25     地方 昇給 行う として 持続 ある ない 雇用 環境 改善 景気 消費 活性 つながる な...\n",
       "26     ゴールデンウィーク 期間 好天 恵まれる ある 売上 好調 だ 後半 例年 より 気温 低い...\n",
       "27                          ゴールデンウィーク 期間 来客 買上 客数 前年 下回る\n",
       "28                           冷蔵庫 始め 家電 販売 例年 比べる 落ち込む いる\n",
       "29     新型 効果 レンタカー 需要 新車 受注 若干 上向き 傾向 ある 関連 販売 見込み ほど...\n",
       "...                                                  ...\n",
       "88937  パート 求人 増加 求人 全体 底上げ 寄与 この フルタイム 求人 増加 傾向 顕著 なる...\n",
       "88938          四半期 入る 求人 前年 同月 上回る 推移 いる 注文 前年 同月 プラス ある\n",
       "88939  対象 まで 求人 件数 前年度 前年 超える 維持 おる 増加 傾向 反映 いる 厳選 採用...\n",
       "88940                          前年 比較 求人 動き 大きな 変化 られる ない\n",
       "88941                                     有効 求人 倍率 改善 いる\n",
       "88942  商工 団体 において 現在 政策 に対し 期待 ある ものの まだ 実感 できる ない 大半...\n",
       "88943                  半導体 工場 閉鎖 により 求職 増える いる 求人 増える ない\n",
       "88949                           個人 観光 外国 観光 来客 伸び けん引 いる\n",
       "88950                                    出荷 前年 より 増える いる\n",
       "88951  衣料 中心 サマークリアランス 例年 より 早い 前月 より スタート 経緯 今月 苦戦 す...\n",
       "88952            今月 晴れ 多い 来客 売上 伸びる いる なかでも 好調 青果 精肉 けん引\n",
       "88953                      夏場 ソフトドリンク よく おる また 小学校 祭り 催す\n",
       "88954                                    か月 比べる 来客 改善 いる\n",
       "88955     来客 多少 減少 いる 購入 単価 アップ 図る いる ので 前年 並み 少し 上向き なる\n",
       "88956  商談 ペース スピードアップ 住宅 請負 受注 に対して 積極 姿勢 伺える か月 比べる ...\n",
       "88957                個人 住宅 アパート 建設 に対する 投資 姿勢 積極 感じる られる\n",
       "88958                                 来客 当たり 買上 点数 減少 いる\n",
       "88959  地域 によって 特に 離島 に関して 観光 恩恵 受ける 今後 観光 増加 続く られる 全...\n",
       "88960                    か月 比較 販売 変化 られる ない だが 下げ止まり感 ある\n",
       "88961  中国人 台湾 観光 増える いる 一方 本土 国内 観光 減少 いる ゴールデンウィーク 同...\n",
       "88962  か月 に関して 客室 稼働 前年 同月 実績 上回る ものの 今月 予約 伸び 弱い 前年 ...\n",
       "88963  か月 商品 発売 販売 好調 だ 初動 のみ 落ち着く しまう 全体 販売 前年 割れ なる いる\n",
       "88964  参院 市議会 影響 ってか 平日 地元 減る 選挙 例年 ある 地元 平日 予約 ほとんど ...\n",
       "88966                               公共 工事 民間 工事 やや なる いる\n",
       "88967                        新築 及び リフォーム 受注 件数 少し 上向く いる\n",
       "88968  建築 物件 増加 伴う 付随 する 設備 関連 輸送 増加 季節 家電 エコ 関連 家電 増...\n",
       "88970                                     契約 単価 下落 傾向 ある\n",
       "88971                      夏場 なる 肥育 状況 悪い なる 不足 状況 なる いる\n",
       "88973  幅広い 職種 派遣 新規 依頼 いる また 既存 ユーザー 派遣 人数 追加 依頼 ある 事...\n",
       "88975                 県内 プチバブル 言う いる 企業 増える 求人 増える ない 思う\n",
       "\n",
       "[83144 rows x 1 columns]"
      ]
     },
     "execution_count": 25,
     "metadata": {},
     "output_type": "execute_result"
    }
   ],
   "source": [
    "X_train_text4"
   ]
  },
  {
   "cell_type": "markdown",
   "metadata": {},
   "source": [
    "## 削除後レコード数事前確認"
   ]
  },
  {
   "cell_type": "code",
   "execution_count": 9,
   "metadata": {
    "ExecuteTime": {
     "end_time": "2018-09-15T07:11:49.307991Z",
     "start_time": "2018-09-15T07:11:49.276584Z"
    }
   },
   "outputs": [
    {
     "name": "stdout",
     "output_type": "stream",
     "text": [
      "40615 44944\n"
     ]
    }
   ],
   "source": [
    "print(sum(len4[\"txt\"]>NUM_TO_IGNORE_4),sum(len5[\"txt\"]>NUM_TO_IGNORE_5))"
   ]
  },
  {
   "cell_type": "markdown",
   "metadata": {},
   "source": [
    "## 削除\n",
    "削除前レコード数確認、削除、削除後レコード数確認"
   ]
  },
  {
   "cell_type": "code",
   "execution_count": 10,
   "metadata": {
    "ExecuteTime": {
     "end_time": "2018-09-15T07:12:05.892539Z",
     "start_time": "2018-09-15T07:12:05.859928Z"
    }
   },
   "outputs": [
    {
     "name": "stdout",
     "output_type": "stream",
     "text": [
      "(83144, 1) (83144,) (83144,)\n",
      "(40615, 1) (40615,) (40615,)\n"
     ]
    }
   ],
   "source": [
    "print(X_train_text4.shape,y_data_4.shape,y2_data_4.shape)\n",
    "y_data_4 = y_data_4[len4[\"txt\"]>NUM_TO_IGNORE_4]\n",
    "y2_data_4 = y2_data_4[len4[\"txt\"]>NUM_TO_IGNORE_4]\n",
    "X_train_text4 = X_train_text4[len4[\"txt\"]>NUM_TO_IGNORE_4]\n",
    "print(X_train_text4.shape,y_data_4.shape,y2_data_4.shape)"
   ]
  },
  {
   "cell_type": "code",
   "execution_count": 11,
   "metadata": {
    "ExecuteTime": {
     "end_time": "2018-09-15T07:12:10.499327Z",
     "start_time": "2018-09-15T07:12:10.472713Z"
    },
    "scrolled": true
   },
   "outputs": [
    {
     "name": "stdout",
     "output_type": "stream",
     "text": [
      "(94177, 1) (94177,)\n",
      "(44944, 1) (44944,)\n"
     ]
    }
   ],
   "source": [
    "print(X_train_text5.shape,y_data_5.shape)\n",
    "y_data_5 = y_data_5[len5[\"txt\"]>NUM_TO_IGNORE_5]\n",
    "X_train_text5 = X_train_text5[len5[\"txt\"]>NUM_TO_IGNORE_5]\n",
    "print(X_train_text5.shape,y_data_5.shape)"
   ]
  },
  {
   "cell_type": "markdown",
   "metadata": {},
   "source": [
    "## 削除前、削除後数確認\n",
    "各クラスのレコード数について削除前と削除を確認"
   ]
  },
  {
   "cell_type": "code",
   "execution_count": 12,
   "metadata": {
    "ExecuteTime": {
     "end_time": "2018-09-15T07:12:14.418561Z",
     "start_time": "2018-09-15T07:12:14.400664Z"
    },
    "scrolled": true
   },
   "outputs": [
    {
     "name": "stdout",
     "output_type": "stream",
     "text": [
      "y4 :  1889 822\n",
      "y4 :  19428 9193\n",
      "y4 :  40907 20398\n",
      "y4 :  17427 8599\n",
      "y4 :  3493 1603\n",
      "sum of y4 :  83144 40615 \n",
      "\n",
      "y2_4 :  17302 7752\n",
      "y2_4 :  3504 1823\n",
      "y2_4 :  5019 2588\n",
      "y2_4 :  12582 6562\n",
      "y2_4 :  17779 8955\n",
      "y2_4 :  9799 3812\n",
      "y2_4 :  5571 2919\n",
      "y2_4 :  1520 646\n",
      "y2_4 :  4927 2633\n",
      "y2_4 :  693 434\n",
      "y2_4 :  501 307\n",
      "y2_4 :  1046 549\n",
      "y2_4 :  1850 1011\n",
      "y2_4 :  1051 624\n",
      "sum of y2_4 :  83144 40615 \n",
      "\n",
      "y4 :  2098 796\n",
      "y4 :  23221 10167\n",
      "y4 :  48337 23727\n",
      "y4 :  16944 8545\n",
      "y4 :  3577 1709\n",
      "sum of y5 :  94177 44944 \n",
      "\n"
     ]
    }
   ],
   "source": [
    "# y_data_4.groupby(y_data_4).filter(lambda x: len(x) > 2)\n",
    "removed_4 = y_data_4.groupby(y_data_4).size()\n",
    "removed2_4 = y2_data_4.groupby(y2_data_4).size()\n",
    "removed_5 = y_data_5.groupby(y_data_5).size()\n",
    "# print(original_4,original2_4,original_5)\n",
    "_o_sum = 0; _r_sum = 0\n",
    "for _o, _r in zip(original_4,removed_4):\n",
    "    print(\"y4 : \",_o,_r)\n",
    "    _o_sum += _o\n",
    "    _r_sum += _r\n",
    "print(\"sum of y4 : \",_o_sum,_r_sum,\"\\n\")\n",
    "_o_sum = 0; _r_sum = 0\n",
    "for _o, _r in zip(original2_4,removed2_4):\n",
    "    print(\"y2_4 : \",_o,_r)\n",
    "    _o_sum += _o\n",
    "    _r_sum += _r\n",
    "print(\"sum of y2_4 : \",_o_sum,_r_sum,\"\\n\")\n",
    "_o_sum = 0; _r_sum = 0\n",
    "for _o, _r in zip(original_5,removed_5):\n",
    "    _o_sum += _o\n",
    "    _r_sum += _r\n",
    "    print(\"y4 : \",_o,_r)\n",
    "print(\"sum of y5 : \",_o_sum,_r_sum,\"\\n\")"
   ]
  },
  {
   "cell_type": "markdown",
   "metadata": {},
   "source": [
    "# ワーク"
   ]
  },
  {
   "cell_type": "code",
   "execution_count": 30,
   "metadata": {
    "ExecuteTime": {
     "end_time": "2018-09-02T10:22:59.475558Z",
     "start_time": "2018-09-02T10:22:59.462993Z"
    }
   },
   "outputs": [],
   "source": [
    "# delete me\n",
    "#\n",
    "# X_train_text4[0:10].values.tolist()\n",
    "# X_train_text4[0:10][\"txt\"].tolist()"
   ]
  },
  {
   "cell_type": "code",
   "execution_count": 31,
   "metadata": {
    "ExecuteTime": {
     "end_time": "2018-09-02T10:22:59.491806Z",
     "start_time": "2018-09-02T10:22:59.486367Z"
    }
   },
   "outputs": [],
   "source": [
    "# delete me\n",
    "#\n",
    "# vectorizer = CountVectorizer()\n",
    "# X = vectorizer.fit_transform(X_train_text4[0:10][\"txt\"].tolist())\n",
    "# print(\"{}\\n{}\".format(X.shape,X.toarray()))"
   ]
  },
  {
   "cell_type": "code",
   "execution_count": 32,
   "metadata": {
    "ExecuteTime": {
     "end_time": "2018-09-02T10:22:59.510896Z",
     "start_time": "2018-09-02T10:22:59.494760Z"
    }
   },
   "outputs": [],
   "source": [
    "# delete me\n",
    "#\n",
    "# print(vectorizer.vocabulary_.get('外国'))"
   ]
  },
  {
   "cell_type": "code",
   "execution_count": 33,
   "metadata": {
    "ExecuteTime": {
     "end_time": "2018-09-02T10:22:59.519462Z",
     "start_time": "2018-09-02T10:22:59.514678Z"
    }
   },
   "outputs": [],
   "source": [
    "# delete me\n",
    "#\n",
    "# X_train_text4[0:10]"
   ]
  },
  {
   "cell_type": "markdown",
   "metadata": {},
   "source": [
    "# kerasパート\n",
    "- kerasニューラルネットワークについては[(open)codez][1]の[Simple Text Classification using Keras Deep Learning Python Library][2]を参考にしている。\n",
    "\n",
    "- グラフ機能はstackoverflowの[How to avoid overfitting on a simple feed forward network][3]を参考にしている。\n",
    "\n",
    "[1]: https://www.opencodez.com/\n",
    "[2]: https://www.opencodez.com/python/text-classification-using-keras.htm\n",
    "[3]: https://stackoverflow.com/questions/44909134/how-to-avoid-overfitting-on-a-simple-feed-forward-network"
   ]
  },
  {
   "cell_type": "code",
   "execution_count": 48,
   "metadata": {
    "ExecuteTime": {
     "end_time": "2018-09-02T14:00:16.812452Z",
     "start_time": "2018-09-02T14:00:16.809478Z"
    }
   },
   "outputs": [],
   "source": [
    "from sklearn.model_selection import train_test_split\n",
    "import pandas as pd\n",
    "import numpy as np\n",
    "import pickle\n",
    "from keras.preprocessing.text import Tokenizer\n",
    "from keras.models import Sequential\n",
    "from keras.layers import Activation, Dense, Dropout\n",
    "from sklearn.preprocessing import LabelBinarizer\n",
    "import sklearn.datasets as skds\n",
    "\n",
    "from keras import callbacks\n",
    "from keras.layers import Dropout\n",
    "import matplotlib.pyplot as plt"
   ]
  },
  {
   "cell_type": "markdown",
   "metadata": {},
   "source": [
    "- log_dirを変更\n",
    "- embedding_data=Noneを追加(無しでエラー発生)([kerasのcallbackのページを参考にした)][1]。  \n",
    "\n",
    "[1]: https://keras.io/callbacks/\n"
   ]
  },
  {
   "cell_type": "code",
   "execution_count": 60,
   "metadata": {
    "ExecuteTime": {
     "end_time": "2018-09-02T14:21:04.844956Z",
     "start_time": "2018-09-02T14:21:04.737784Z"
    }
   },
   "outputs": [],
   "source": [
    "# tb = callbacks.TensorBoard(log_dir='./logs', histogram_freq=10, batch_size=32,\n",
    "#                            write_graph=True, write_grads=True, write_images=False,\n",
    "#                            embeddings_freq=0, embeddings_layer_names=None, \n",
    "#                            embeddings_metadata=None)\n",
    "tb = callbacks.TensorBoard(log_dir='./logs', histogram_freq=0, batch_size=32, \n",
    "                           write_graph=True, write_grads=False, write_images=False, \n",
    "                           embeddings_freq=0, embeddings_layer_names=None, \n",
    "                           embeddings_metadata=None, embeddings_data=None)"
   ]
  },
  {
   "cell_type": "code",
   "execution_count": 36,
   "metadata": {
    "ExecuteTime": {
     "end_time": "2018-09-02T10:23:04.233596Z",
     "start_time": "2018-09-02T10:23:04.223521Z"
    },
    "scrolled": true
   },
   "outputs": [
    {
     "data": {
      "text/plain": [
       "(40615, 1)"
      ]
     },
     "execution_count": 36,
     "metadata": {},
     "output_type": "execute_result"
    }
   ],
   "source": [
    "X_train_text4.shape"
   ]
  },
  {
   "cell_type": "markdown",
   "metadata": {},
   "source": [
    "## データ分割\n",
    "上からy_data_4、y2_data_4、y_data_5用に分割。"
   ]
  },
  {
   "cell_type": "code",
   "execution_count": 37,
   "metadata": {
    "ExecuteTime": {
     "end_time": "2018-09-02T10:24:38.389314Z",
     "start_time": "2018-09-02T10:24:38.373484Z"
    }
   },
   "outputs": [
    {
     "name": "stdout",
     "output_type": "stream",
     "text": [
      "x : 40615 => 32492 & 8123\n",
      "y : 40615 => 32492 & 8123\n"
     ]
    }
   ],
   "source": [
    "X_train4, X_test4, y_train4, y_test4 = train_test_split(\n",
    "    X_train_text4, y_data_4, test_size=0.20, random_state=42)\n",
    "print(\"x : {} => {} & {}\".format(len(X_train_text4),len(X_train4),len(y_test4)))\n",
    "print(\"y : {} => {} & {}\".format(len(y_data_4),len(y_train4),len(y_test4)))"
   ]
  },
  {
   "cell_type": "code",
   "execution_count": 67,
   "metadata": {
    "ExecuteTime": {
     "end_time": "2018-09-02T15:17:24.361287Z",
     "start_time": "2018-09-02T15:17:23.936454Z"
    }
   },
   "outputs": [
    {
     "name": "stdout",
     "output_type": "stream",
     "text": [
      "x : 40615 => 32492 & 8123\n",
      "y2: 40615 => 32492 & 8123\n"
     ]
    }
   ],
   "source": [
    "# Xは上と同じだがここでは別変数にアサイン\n",
    "X2_train4, X2_test4, y2_train4, y2_test4 = train_test_split(\n",
    "    X_train_text4, y2_data_4, test_size=0.20, random_state=42)\n",
    "print(\"x : {} => {} & {}\".format(len(X_train_text4),len(X2_train4),len(y2_test4)))\n",
    "print(\"y2: {} => {} & {}\".format(len(y2_data_4),len(y2_train4),len(y2_test4)))"
   ]
  },
  {
   "cell_type": "code",
   "execution_count": 32,
   "metadata": {
    "ExecuteTime": {
     "end_time": "2018-08-29T15:07:54.283069Z",
     "start_time": "2018-08-29T15:07:54.232756Z"
    },
    "scrolled": false
   },
   "outputs": [
    {
     "name": "stdout",
     "output_type": "stream",
     "text": [
      "x : 44944 => 35955 & 8989\n",
      "y : 44944 => 35955 & 8989\n"
     ]
    }
   ],
   "source": [
    "X_train5, X_test5, y_train5, y_test5 = train_test_split(\n",
    "    X_train_text5, y_data_5, test_size=0.20, random_state=42)\n",
    "print(\"x : {} => {} & {}\".format(len(X_train_text5),len(X_train5),len(y_test5)))\n",
    "print(\"y : {} => {} & {}\".format(len(y_data_5),len(y_train5),len(y_test5)))"
   ]
  },
  {
   "cell_type": "code",
   "execution_count": 46,
   "metadata": {
    "ExecuteTime": {
     "end_time": "2018-08-29T15:39:14.447077Z",
     "start_time": "2018-08-29T15:39:14.425531Z"
    }
   },
   "outputs": [
    {
     "data": {
      "text/plain": [
       "(32492, 1)"
      ]
     },
     "execution_count": 46,
     "metadata": {},
     "output_type": "execute_result"
    }
   ],
   "source": [
    "X_train4.shape"
   ]
  },
  {
   "cell_type": "code",
   "execution_count": 68,
   "metadata": {
    "ExecuteTime": {
     "end_time": "2018-09-02T15:17:41.012725Z",
     "start_time": "2018-09-02T15:17:27.634892Z"
    }
   },
   "outputs": [],
   "source": [
    "# num_labels = len(y_data_4.groupby(y_data_4).size())\n",
    "num_labels = len(y2_data_4.groupby(y2_data_4).size())\n",
    "# num_labels = 20\n",
    "vocab_size = 15000\n",
    "batch_size = 100\n",
    " \n",
    "# define Tokenizer with Vocab Size\n",
    "tokenizer = Tokenizer(num_words=vocab_size)\n",
    "tokenizer.fit_on_texts(X2_train4[\"txt\"])\n",
    " \n",
    "x_train = tokenizer.texts_to_matrix(X2_train4[\"txt\"], mode='tfidf')\n",
    "x_test = tokenizer.texts_to_matrix(X2_test4[\"txt\"], mode='tfidf')\n",
    " \n",
    "encoder = LabelBinarizer()\n",
    "encoder.fit(y2_train4)\n",
    "y_train = encoder.transform(y2_train4)\n",
    "y_test = encoder.transform(y2_test4)"
   ]
  },
  {
   "cell_type": "code",
   "execution_count": 39,
   "metadata": {
    "ExecuteTime": {
     "end_time": "2018-09-02T10:35:04.454276Z",
     "start_time": "2018-09-02T10:35:04.444110Z"
    }
   },
   "outputs": [
    {
     "name": "stdout",
     "output_type": "stream",
     "text": [
      "(32492, 15000) (8123, 15000) (32492, 5) (8123, 5)\n"
     ]
    }
   ],
   "source": [
    "print(x_train.shape,x_test.shape,y_train.shape,y_test.shape)"
   ]
  },
  {
   "cell_type": "code",
   "execution_count": 69,
   "metadata": {
    "ExecuteTime": {
     "end_time": "2018-09-02T15:24:53.754589Z",
     "start_time": "2018-09-02T15:17:50.438314Z"
    }
   },
   "outputs": [
    {
     "name": "stdout",
     "output_type": "stream",
     "text": [
      "_________________________________________________________________\n",
      "Layer (type)                 Output Shape              Param #   \n",
      "=================================================================\n",
      "dense_25 (Dense)             (None, 512)               7680512   \n",
      "_________________________________________________________________\n",
      "activation_25 (Activation)   (None, 512)               0         \n",
      "_________________________________________________________________\n",
      "dropout_17 (Dropout)         (None, 512)               0         \n",
      "_________________________________________________________________\n",
      "dense_26 (Dense)             (None, 512)               262656    \n",
      "_________________________________________________________________\n",
      "activation_26 (Activation)   (None, 512)               0         \n",
      "_________________________________________________________________\n",
      "dropout_18 (Dropout)         (None, 512)               0         \n",
      "_________________________________________________________________\n",
      "dense_27 (Dense)             (None, 14)                7182      \n",
      "_________________________________________________________________\n",
      "activation_27 (Activation)   (None, 14)                0         \n",
      "=================================================================\n",
      "Total params: 7,950,350\n",
      "Trainable params: 7,950,350\n",
      "Non-trainable params: 0\n",
      "_________________________________________________________________\n",
      "Train on 29242 samples, validate on 3250 samples\n",
      "Epoch 1/5\n",
      "29242/29242 [==============================] - 84s 3ms/step - loss: 1.4725 - acc: 0.4873 - val_loss: 1.2602 - val_acc: 0.5588\n",
      "Epoch 2/5\n",
      "29242/29242 [==============================] - 81s 3ms/step - loss: 0.8440 - acc: 0.7049 - val_loss: 1.3282 - val_acc: 0.5468\n",
      "Epoch 3/5\n",
      "29242/29242 [==============================] - 81s 3ms/step - loss: 0.4373 - acc: 0.8506 - val_loss: 1.6427 - val_acc: 0.5465\n",
      "Epoch 4/5\n",
      "29242/29242 [==============================] - 82s 3ms/step - loss: 0.2160 - acc: 0.9275 - val_loss: 2.0535 - val_acc: 0.5415\n",
      "Epoch 5/5\n",
      "29242/29242 [==============================] - 87s 3ms/step - loss: 0.1214 - acc: 0.9609 - val_loss: 2.4631 - val_acc: 0.5289\n"
     ]
    }
   ],
   "source": [
    "model = Sequential()\n",
    "model.add(Dense(512, input_shape=(vocab_size,)))\n",
    "model.add(Activation('relu'))\n",
    "model.add(Dropout(0.3))\n",
    "model.add(Dense(512))\n",
    "model.add(Activation('relu'))\n",
    "model.add(Dropout(0.3))\n",
    "model.add(Dense(num_labels))\n",
    "model.add(Activation('softmax'))\n",
    "model.summary()\n",
    " \n",
    "model.compile(loss='categorical_crossentropy',\n",
    "              optimizer='adam',\n",
    "              metrics=['accuracy'])\n",
    " \n",
    "history = model.fit(x_train, y_train,\n",
    "                    batch_size=batch_size,\n",
    "#                     epochs=30,\n",
    "                    epochs=5,\n",
    "                    verbose=1,\n",
    "                    validation_split=0.1,\n",
    "                    callbacks=[tb])"
   ]
  },
  {
   "cell_type": "code",
   "execution_count": 65,
   "metadata": {
    "ExecuteTime": {
     "end_time": "2018-09-02T15:12:47.674994Z",
     "start_time": "2018-09-02T15:12:47.186356Z"
    }
   },
   "outputs": [
    {
     "name": "stdout",
     "output_type": "stream",
     "text": [
      "dict_keys(['val_loss', 'val_acc', 'loss', 'acc'])\n"
     ]
    },
    {
     "data": {
      "image/png": "[encoded data removed]",
      "text/plain": [
       "<Figure size 432x288 with 1 Axes>"
      ]
     },
     "metadata": {},
     "output_type": "display_data"
    },
    {
     "data": {
      "image/png": "[encoded data removed]",
      "text/plain": [
       "<Figure size 432x288 with 1 Axes>"
      ]
     },
     "metadata": {},
     "output_type": "display_data"
    }
   ],
   "source": [
    "# list all data in history\n",
    "print(history.history.keys())\n",
    "# summarize history for accuracy\n",
    "plt.plot(history.history['acc'])\n",
    "plt.plot(history.history['val_acc'])\n",
    "plt.title('model accuracy')\n",
    "plt.ylabel('accuracy')\n",
    "plt.xlabel('epoch')\n",
    "# plt.legend(['train', 'test'], loc='upper left')\n",
    "plt.legend(['train', 'val'], loc='upper left')\n",
    "plt.show()\n",
    "# summarize history for loss\n",
    "plt.plot(history.history['loss'])\n",
    "plt.plot(history.history['val_loss'])\n",
    "plt.title('model loss')\n",
    "plt.ylabel('loss')\n",
    "plt.xlabel('epoch')\n",
    "plt.legend(['train', 'val'], loc='upper left')\n",
    "plt.show()"
   ]
  },
  {
   "cell_type": "code",
   "execution_count": 63,
   "metadata": {
    "ExecuteTime": {
     "end_time": "2018-09-02T14:28:39.834649Z",
     "start_time": "2018-09-02T14:28:31.448388Z"
    }
   },
   "outputs": [
    {
     "name": "stdout",
     "output_type": "stream",
     "text": [
      "8123/8123 [==============================] - 8s 1ms/step\n",
      "Test accuracy: 0.5827896105425707\n"
     ]
    }
   ],
   "source": [
    "score = model.evaluate(x_test, y_test,\n",
    "                       batch_size=batch_size, verbose=1)\n",
    " \n",
    "print('Test accuracy:', score[1])\n",
    " \n",
    "# text_labels = encoder.classes_\n",
    " \n",
    "# for i in range(10):\n",
    "#     prediction = model.predict(np.array([x_test[i]]))\n",
    "#     predicted_label = text_labels[np.argmax(prediction[0])]\n",
    "# #     print(test_files_names.iloc[i])\n",
    "#     print('Actual label:' + test_tags.iloc[i])\n",
    "#     print(\"Predicted label: \" + predicted_label)"
   ]
  },
  {
   "cell_type": "markdown",
   "metadata": {},
   "source": [
    "### ログ\n",
    "いずれのケースもove"
   ]
  },
  {
   "cell_type": "markdown",
   "metadata": {},
   "source": [
    "#### X_train4, X_test4, y_train4, y_test4\n",
    "val系は低調なまま。\n",
    "Layer (type)                 Output Shape              Param #   \n",
    "dense_22 (Dense)             (None, 512)               7680512   \n",
    "_________________________________________________________________\n",
    "activation_22 (Activation)   (None, 512)               0         \n",
    "_________________________________________________________________\n",
    "dropout_15 (Dropout)         (None, 512)               0         \n",
    "_________________________________________________________________\n",
    "dense_23 (Dense)             (None, 512)               262656    \n",
    "_________________________________________________________________\n",
    "activation_23 (Activation)   (None, 512)               0         \n",
    "_________________________________________________________________\n",
    "dropout_16 (Dropout)         (None, 512)               0         \n",
    "_________________________________________________________________\n",
    "dense_24 (Dense)             (None, 5)                 2565      \n",
    "_________________________________________________________________\n",
    "activation_24 (Activation)   (None, 5)                 0         \n",
    "Total params: 7,945,733\n",
    "Trainable params: 7,945,733\n",
    "Non-trainable params: 0\n",
    "_________________________________________________________________\n",
    "Train on 29242 samples, validate on 3250 samples\n",
    "Epoch 1/30\n",
    "29242/29242 [==============================] - 85s 3ms/step - loss: 1.0117 - acc: 0.5821 - val_loss: 0.9102 - val_acc: 0.6145\n",
    "Epoch 2/30\n",
    "29242/29242 [==============================] - 81s 3ms/step - loss: 0.6650 - acc: 0.7352 - val_loss: 0.9958 - val_acc: 0.5988\n",
    "Epoch 3/30\n",
    "29242/29242 [==============================] - 81s 3ms/step - loss: 0.3615 - acc: 0.8634 - val_loss: 1.2990 - val_acc: 0.5874\n",
    "Epoch 4/30\n",
    "29242/29242 [==============================] - 81s 3ms/step - loss: 0.1721 - acc: 0.9400 - val_loss: 1.7561 - val_acc: 0.5757\n",
    "Epoch 5/30\n",
    "29242/29242 [==============================] - 81s 3ms/step - loss: 0.1034 - acc: 0.9668 - val_loss: 2.0786 - val_acc: 0.5738\n",
    "Epoch 6/30\n",
    "29242/29242 [==============================] - 81s 3ms/step - loss: 0.0659 - acc: 0.9787 - val_loss: 2.3771 - val_acc: 0.5735\n",
    "Epoch 7/30\n",
    "29242/29242 [==============================] - 80s 3ms/step - loss: 0.0582 - acc: 0.9827 - val_loss: 2.5139 - val_acc: 0.5788\n",
    "Epoch 8/30\n",
    "29242/29242 [==============================] - 81s 3ms/step - loss: 0.0467 - acc: 0.9855 - val_loss: 2.6887 - val_acc: 0.5738\n",
    "Epoch 9/30\n",
    "29242/29242 [==============================] - 81s 3ms/step - loss: 0.0498 - acc: 0.9838 - val_loss: 2.6485 - val_acc: 0.5778\n",
    "Epoch 10/30\n",
    "29242/29242 [==============================] - 82s 3ms/step - loss: 0.0424 - acc: 0.9869 - val_loss: 2.7490 - val_acc: 0.5840\n",
    "Epoch 11/30\n",
    "29242/29242 [==============================] - 81s 3ms/step - loss: 0.0372 - acc: 0.9881 - val_loss: 2.8628 - val_acc: 0.5852\n",
    "Epoch 12/30\n",
    "29242/29242 [==============================] - 81s 3ms/step - loss: 0.0319 - acc: 0.9893 - val_loss: 3.0256 - val_acc: 0.5791\n",
    "Epoch 13/30\n",
    "29242/29242 [==============================] - 81s 3ms/step - loss: 0.0333 - acc: 0.9901 - val_loss: 2.9326 - val_acc: 0.5698\n",
    "Epoch 14/30\n",
    "29242/29242 [==============================] - 79s 3ms/step - loss: 0.0323 - acc: 0.9898 - val_loss: 3.0183 - val_acc: 0.5695\n",
    "Epoch 15/30\n",
    "29242/29242 [==============================] - 79s 3ms/step - loss: 0.0303 - acc: 0.9903 - val_loss: 3.0147 - val_acc: 0.5766\n",
    "Epoch 16/30\n",
    "29242/29242 [==============================] - 81s 3ms/step - loss: 0.0303 - acc: 0.9905 - val_loss: 2.9399 - val_acc: 0.5702\n",
    "Epoch 17/30\n",
    "29242/29242 [==============================] - 81s 3ms/step - loss: 0.0272 - acc: 0.9917 - val_loss: 3.0929 - val_acc: 0.5680\n",
    "Epoch 18/30\n",
    "29242/29242 [==============================] - 82s 3ms/step - loss: 0.0268 - acc: 0.9926 - val_loss: 2.9858 - val_acc: 0.5680\n",
    "Epoch 19/30\n",
    "29242/29242 [==============================] - 52s 2ms/step - loss: 0.0282 - acc: 0.9923 - val_loss: 3.0335 - val_acc: 0.5742\n",
    "Epoch 20/30\n",
    "29242/29242 [==============================] - 52s 2ms/step - loss: 0.0239 - acc: 0.9925 - val_loss: 3.2042 - val_acc: 0.5720\n",
    "Epoch 21/30\n",
    "29242/29242 [==============================] - 52s 2ms/step - loss: 0.0234 - acc: 0.9925 - val_loss: 3.0877 - val_acc: 0.5674\n",
    "Epoch 22/30\n",
    "29242/29242 [==============================] - 52s 2ms/step - loss: 0.0178 - acc: 0.9945 - val_loss: 3.1716 - val_acc: 0.5708\n",
    "Epoch 23/30\n",
    "29242/29242 [==============================] - 52s 2ms/step - loss: 0.0221 - acc: 0.9936 - val_loss: 3.1660 - val_acc: 0.5772\n",
    "Epoch 24/30\n",
    "29242/29242 [==============================] - 52s 2ms/step - loss: 0.0169 - acc: 0.9944 - val_loss: 3.2879 - val_acc: 0.5729\n",
    "Epoch 25/30\n",
    "29242/29242 [==============================] - 51s 2ms/step - loss: 0.0154 - acc: 0.9952 - val_loss: 3.4488 - val_acc: 0.5711\n",
    "Epoch 26/30\n",
    "29242/29242 [==============================] - 73s 3ms/step - loss: 0.0185 - acc: 0.9944 - val_loss: 3.2908 - val_acc: 0.5745\n",
    "Epoch 27/30\n",
    "29242/29242 [==============================] - 80s 3ms/step - loss: 0.0159 - acc: 0.9950 - val_loss: 3.4247 - val_acc: 0.5668\n",
    "Epoch 28/30\n",
    "29242/29242 [==============================] - 82s 3ms/step - loss: 0.0171 - acc: 0.9952 - val_loss: 3.2785 - val_acc: 0.5680\n",
    "Epoch 29/30\n",
    "29242/29242 [==============================] - 81s 3ms/step - loss: 0.0181 - acc: 0.9944 - val_loss: 3.2948 - val_acc: 0.5665\n",
    "Epoch 30/30\n",
    "29242/29242 [==============================] - 82s 3ms/step - loss: 0.0165 - acc: 0.9950 - val_loss: 3.2812 - val_acc: 0.5665"
   ]
  },
  {
   "cell_type": "markdown",
   "metadata": {},
   "source": [
    "#### X2_train4, X2_test4, y2_train4, y2_test4 (epoch数=5)\n",
    "_________________________________________________________________\n",
    "Layer (type)                 Output Shape              Param #   \n",
    "===========================d======================================\n",
    "dense_25 (Dense)             (None, 512)               7680512   \n",
    "_________________________________________________________________\n",
    "activation_25 (Activation)   (None, 512)               0         \n",
    "_________________________________________________________________\n",
    "dropout_17 (Dropout)         (None, 512)               0         \n",
    "_________________________________________________________________\n",
    "dense_26 (Dense)             (None, 512)               262656    \n",
    "_________________________________________________________________\n",
    "activation_26 (Activation)   (None, 512)               0         \n",
    "_________________________________________________________________\n",
    "dropout_18 (Dropout)         (None, 512)               0         \n",
    "_________________________________________________________________\n",
    "dense_27 (Dense)             (None, 14)                7182      \n",
    "_________________________________________________________________\n",
    "activation_27 (Activation)   (None, 14)                0         \n",
    "Total params: 7,950,350\n",
    "Trainable params: 7,950,350\n",
    "Non-trainable params: 0\n",
    "_________________________________________________________________\n",
    "Train on 29242 samples, validate on 3250 samples\n",
    "Epoch 1/5\n",
    "29242/29242 [==============================] - 84s 3ms/step - loss: 1.4725 - acc: 0.4873 - val_loss: 1.2602 - val_acc: 0.5588\n",
    "Epoch 2/5\n",
    "29242/29242 [==============================] - 81s 3ms/step - loss: 0.8440 - acc: 0.7049 - val_loss: 1.3282 - val_acc: 0.5468\n",
    "Epoch 3/5\n",
    "29242/29242 [==============================] - 81s 3ms/step - loss: 0.4373 - acc: 0.8506 - val_loss: 1.6427 - val_acc: 0.5465\n",
    "Epoch 4/5\n",
    "29242/29242 [==============================] - 82s 3ms/step - loss: 0.2160 - acc: 0.9275 - val_loss: 2.0535 - val_acc: 0.5415\n",
    "Epoch 5/5\n",
    "29242/29242 [==============================] - 87s 3ms/step - loss: 0.1214 - acc: 0.9609 - val_loss: 2.4631 - val_acc: 0.5289\n",
    "_________________________________________________________________\n",
    "Layer (type)                 Output Shape              Param #   \n",
    "dense_25 (Dense)             (None, 512)               7680512   \n",
    "_________________________________________________________________\n",
    "activation_25 (Activation)   (None, 512)               0         \n",
    "_________________________________________________________________\n",
    "dropout_17 (Dropout)         (None, 512)               0         \n",
    "_________________________________________________________________\n",
    "dense_26 (Dense)             (None, 512)               262656    \n",
    "_________________________________________________________________\n",
    "activation_26 (Activation)   (None, 512)               0         \n",
    "_________________________________________________________________\n",
    "dropout_18 (Dropout)         (None, 512)               0         \n",
    "_________________________________________________________________\n",
    "dense_27 (Dense)             (None, 14)                7182      \n",
    "_________________________________________________________________\n",
    "activation_27 (Activation)   (None, 14)                0         \n",
    "Total params: 7,950,350\n",
    "Trainable params: 7,950,350\n",
    "Non-trainable params: 0\n",
    "_________________________________________________________________\n",
    "Train on 29242 samples, validate on 3250 samples\n",
    "Epoch 1/5\n",
    "29242/29242 [==============================] - 84s 3ms/step - loss: 1.4725 - acc: 0.4873 - val_loss: 1.2602 - val_acc: 0.5588\n",
    "Epoch 2/5\n",
    "29242/29242 [==============================] - 81s 3ms/step - loss: 0.8440 - acc: 0.7049 - val_loss: 1.3282 - val_acc: 0.5468\n",
    "Epoch 3/5\n",
    "29242/29242 [==============================] - 81s 3ms/step - loss: 0.4373 - acc: 0.8506 - val_loss: 1.6427 - val_acc: 0.5465\n",
    "Epoch 4/5\n",
    "29242/29242 [==============================] - 82s 3ms/step - loss: 0.2160 - acc: 0.9275 - val_loss: 2.0535 - val_acc: 0.5415\n",
    "Epoch 5/5\n",
    "29242/29242 [==============================] - 87s 3ms/step - loss: 0.1214 - acc: 0.9609 - val_loss: 2.4631 - val_acc: 0.5289"
   ]
  },
  {
   "cell_type": "code",
   "execution_count": null,
   "metadata": {},
   "outputs": [],
   "source": []
  }
 ],
 "metadata": {
  "kernelspec": {
   "display_name": "Python 3",
   "language": "python",
   "name": "python3"
  },
  "language_info": {
   "codemirror_mode": {
    "name": "ipython",
    "version": 3
   },
   "file_extension": ".py",
   "mimetype": "text/x-python",
   "name": "python",
   "nbconvert_exporter": "python",
   "pygments_lexer": "ipython3",
   "version": "3.6.5"
  },
  "toc": {
   "base_numbering": 1,
   "nav_menu": {},
   "number_sections": true,
   "sideBar": true,
   "skip_h1_title": false,
   "title_cell": "Table of Contents",
   "title_sidebar": "Contents",
   "toc_cell": false,
   "toc_position": {
    "height": "calc(100% - 180px)",
    "left": "10px",
    "top": "150px",
    "width": "265px"
   },
   "toc_section_display": true,
   "toc_window_display": true
  },
  "varInspector": {
   "cols": {
    "lenName": 16,
    "lenType": 16,
    "lenVar": 40
   },
   "kernels_config": {
    "python": {
     "delete_cmd_postfix": "",
     "delete_cmd_prefix": "del ",
     "library": "var_list.py",
     "varRefreshCmd": "print(var_dic_list())"
    },
    "r": {
     "delete_cmd_postfix": ") ",
     "delete_cmd_prefix": "rm(",
     "library": "var_list.r",
     "varRefreshCmd": "cat(var_dic_list()) "
    }
   },
   "position": {
    "height": "351px",
    "left": "955px",
    "right": "20px",
    "top": "120px",
    "width": "350px"
   },
   "types_to_exclude": [
    "module",
    "function",
    "builtin_function_or_method",
    "instance",
    "_Feature"
   ],
   "window_display": false
  }
 },
 "nbformat": 4,
 "nbformat_minor": 2
}
